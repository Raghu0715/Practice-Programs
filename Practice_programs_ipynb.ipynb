{
  "cells": [
    {
      "cell_type": "markdown",
      "metadata": {
        "id": "view-in-github",
        "colab_type": "text"
      },
      "source": [
        "<a href=\"https://colab.research.google.com/github/Raghu0715/Practice-Programs/blob/main/Practice_programs_ipynb.ipynb\" target=\"_parent\"><img src=\"https://colab.research.google.com/assets/colab-badge.svg\" alt=\"Open In Colab\"/></a>"
      ]
    },
    {
      "cell_type": "markdown",
      "metadata": {
        "id": "WPzDVfLneiI5"
      },
      "source": [
        "# Parlindrom"
      ]
    },
    {
      "cell_type": "markdown",
      "source": [
        "OOPS COncept"
      ],
      "metadata": {
        "id": "8boScknoCzh9"
      }
    },
    {
      "cell_type": "code",
      "source": [
        "\"\"\"1. Classes and Objects\n",
        "Class: A template to create objects. It defines what kind of data (attributes) and actions (methods) an object will have.\n",
        "Object: An instance of a class. Think of it as a specific example based on the class template\"\"\"\n",
        "class Car:\n",
        "    def __init__(self, brand, model):\n",
        "        self.brand = brand\n",
        "        self.model = model\n",
        "\n",
        "    def show_details(self):\n",
        "        return f\"Car: {self.brand} {self.model}\"\n",
        "\n",
        "my_car = Car(\"Toyota\", \"Camry\")\n",
        "print(my_car.show_details())\n"
      ],
      "metadata": {
        "colab": {
          "base_uri": "https://localhost:8080/"
        },
        "id": "VKpufPVOC3vJ",
        "outputId": "8badc070-ad45-4d54-dc1b-a058b2ddb421"
      },
      "execution_count": null,
      "outputs": [
        {
          "output_type": "stream",
          "name": "stdout",
          "text": [
            "Car: Toyota Camry\n"
          ]
        }
      ]
    },
    {
      "cell_type": "code",
      "source": [
        "\"\"\" Encapsulation\n",
        "Encapsulation groups related data and actions into a single unit, the class.\n",
        "It also hides details within the class that should not be directly accessible, like a private bank balance in an account.\"\"\"\n",
        "class Account:\n",
        "    def __init__(self, balance):\n",
        "        self.__balance = balance  # Hidden (private) variable\n",
        "\n",
        "    def deposit(self, amount):\n",
        "        self.__balance += amount\n",
        "\n",
        "    def get_balance(self):\n",
        "        return self.__balance\n",
        "\n",
        "my_account = Account(1000)\n",
        "my_account.deposit(500)\n",
        "print(my_account.get_balance())  # Output: 1500\n"
      ],
      "metadata": {
        "colab": {
          "base_uri": "https://localhost:8080/"
        },
        "id": "A9pziSZqDKyh",
        "outputId": "d6e70d94-9956-4378-e027-a77349374495"
      },
      "execution_count": null,
      "outputs": [
        {
          "output_type": "stream",
          "name": "stdout",
          "text": [
            "1500\n"
          ]
        }
      ]
    },
    {
      "cell_type": "code",
      "source": [
        "\"\"\"Inheritance\n",
        "Inheritance lets one class share the features of another, reducing code repetition.\n",
        "A child class can inherit the properties and methods of a parent class and also add its own unique features.\"\"\"\n",
        "class Vehicle:\n",
        "    def __init__(self, name):\n",
        "        self.name = name\n",
        "\n",
        "class Car(Vehicle):  # Car inherits from Vehicle\n",
        "    def __init__(self, name, brand):\n",
        "        super().__init__(name)\n",
        "        self.brand = brand\n",
        "\n",
        "    def car_info(self):\n",
        "        return f\"{self.name} made by {self.brand}\"\n",
        "\n",
        "my_car = Car(\"Sedan\", \"Toyota\")\n",
        "print(my_car.car_info())\n"
      ],
      "metadata": {
        "id": "Xuw7RPnRDSmI"
      },
      "execution_count": null,
      "outputs": []
    },
    {
      "cell_type": "code",
      "source": [
        "\"\"\" Abstraction\n",
        "Abstraction focuses on showing only essential features while hiding complex details.\n",
        "In Python, we use abstract classes to define methods that must be used in any class that inherits from them.\"\"\"\n",
        "from abc import ABC, abstractmethod\n",
        "\n",
        "class Shape(ABC):\n",
        "    @abstractmethod\n",
        "    def area(self):\n",
        "        pass\n",
        "\n",
        "class Rectangle(Shape):\n",
        "    def __init__(self, width, height):\n",
        "        self.width = width\n",
        "        self.height = height\n",
        "\n",
        "    def area(self):\n",
        "        return self.width * self.height\n",
        "\n",
        "rectangle = Rectangle(5, 10)\n",
        "print(rectangle.area())  # Output: 50\n"
      ],
      "metadata": {
        "id": "YYn2V2zqDsj0"
      },
      "execution_count": null,
      "outputs": []
    },
    {
      "cell_type": "code",
      "source": [
        "# Write a Python program to generate a random number.\n",
        "import random\n",
        "print(\"Random number:\", random.randint(1,100))"
      ],
      "metadata": {
        "id": "8KlpLrx9jkVH",
        "colab": {
          "base_uri": "https://localhost:8080/"
        },
        "outputId": "bd3a0dd5-1b65-48ad-dcdd-49fd5a78d882"
      },
      "execution_count": null,
      "outputs": [
        {
          "output_type": "stream",
          "name": "stdout",
          "text": [
            "Random number: 58\n"
          ]
        }
      ]
    },
    {
      "cell_type": "code",
      "source": [
        "# Write a Python program to convert kilometers to miles.\n",
        " kilometers = float(input(\"Enter distance in kilometers: \"))\n",
        " conversion_factor = 0.621371\n",
        " miles = kilometers * conversion_factorS\n",
        " print(f\"{kilometers} kilometers is equal to {miles} miles\")"
      ],
      "metadata": {
        "id": "2CruGY0yjujq"
      },
      "execution_count": null,
      "outputs": []
    },
    {
      "cell_type": "code",
      "source": [
        " #Write a Python program to solve quadratic equation\n",
        "a=float(input(\"Enter a:\"))\n",
        "b=float(input(\"Enter b:\"))\n",
        "c=float(input(\"Enter c:\"))\n",
        "discremenent=b**2-4*a*c\n",
        "print(discremenent)"
      ],
      "metadata": {
        "colab": {
          "base_uri": "https://localhost:8080/"
        },
        "id": "COZWFZLYg6k3",
        "outputId": "37d0be3e-3e4b-41e8-bd15-e4a773b6d300"
      },
      "execution_count": null,
      "outputs": [
        {
          "output_type": "stream",
          "name": "stdout",
          "text": [
            "Enter a:1\n",
            "Enter b:4\n",
            "Enter c:8\n",
            "-16.0\n"
          ]
        }
      ]
    },
    {
      "cell_type": "code",
      "source": [
        "import calendar\n",
        "year=int(input(\"enter year: \"))\n",
        "month=int(input(\"ENter month: \"))\n",
        "cal=calendar.month(year, month)\n",
        "print(cal)"
      ],
      "metadata": {
        "colab": {
          "base_uri": "https://localhost:8080/"
        },
        "id": "-xVj344AbR_E",
        "outputId": "5e2421ec-1126-44c7-f011-cc6a04d282dd"
      },
      "execution_count": null,
      "outputs": [
        {
          "output_type": "stream",
          "name": "stdout",
          "text": [
            "enter year: 2024\n",
            "ENter month: 10\n",
            "    October 2024\n",
            "Mo Tu We Th Fr Sa Su\n",
            "    1  2  3  4  5  6\n",
            " 7  8  9 10 11 12 13\n",
            "14 15 16 17 18 19 20\n",
            "21 22 23 24 25 26 27\n",
            "28 29 30 31\n",
            "\n"
          ]
        }
      ]
    },
    {
      "cell_type": "code",
      "source": [
        "# Write a Python program to swap two variables without temp variable.\n",
        "a=5\n",
        "b=10\n",
        "print(\"before swapping:\", a, b)\n",
        "a,b=b,a\n",
        "print(\"After Swapping:\", a, b)\n",
        "\n",
        "\"\"\"# Swapping the values\n",
        "temp = a  # Store the value of 'a' in 'temp'\n",
        "a = b     # Assign the value of 'b' to 'a'\n",
        "b = temp  # Assign the value stored in 'temp' to 'b'\"\"\"\n",
        "\n",
        "\n"
      ],
      "metadata": {
        "colab": {
          "base_uri": "https://localhost:8080/",
          "height": 70
        },
        "id": "OBph54JbhwDt",
        "outputId": "1dc7acf6-c948-4244-e256-5df612843e44"
      },
      "execution_count": null,
      "outputs": [
        {
          "output_type": "stream",
          "name": "stdout",
          "text": [
            "before swapping: 5 10\n",
            "After Swapping: 10 5\n"
          ]
        },
        {
          "output_type": "execute_result",
          "data": {
            "text/plain": [
              "\"# Swapping the values\\ntemp = a  # Store the value of 'a' in 'temp'\\na = b     # Assign the value of 'b' to 'a'\\nb = temp  # Assign the value stored in 'temp' to 'b'\""
            ],
            "application/vnd.google.colaboratory.intrinsic+json": {
              "type": "string"
            }
          },
          "metadata": {},
          "execution_count": 1
        }
      ]
    },
    {
      "cell_type": "code",
      "source": [
        "# Write a Python Program to Check Prime Number.\n",
        "num = int(input(\"Enter the number: \"))\n",
        "if num == 1:\n",
        "    print(f\"{num} is not a prime number\")\n",
        "elif num > 1:\n",
        "    for i in range(2, num):\n",
        "        if num % i == 0:\n",
        "            print(f\"{num} is not a prime number\")\n",
        "            break\n",
        "    else:\n",
        "        print(f\"{num} is a prime number\")\n"
      ],
      "metadata": {
        "colab": {
          "base_uri": "https://localhost:8080/"
        },
        "id": "JO9ravenmDCa",
        "outputId": "cbc8833b-609d-4532-db33-7dab59b3d57f"
      },
      "execution_count": null,
      "outputs": [
        {
          "output_type": "stream",
          "name": "stdout",
          "text": [
            "Enter the number: 5\n",
            "5 is a prime number\n"
          ]
        }
      ]
    },
    {
      "cell_type": "code",
      "source": [
        "# Write a Python Program to Print all Prime Numbers in an Interval of 1-10.\n",
        "lower=1\n",
        "upper=10\n",
        "for num in range(lower, upper+1):\n",
        "  if num > 1:\n",
        "    for i in range(2, num):\n",
        "        if num % i == 0:\n",
        "            break\n",
        "    else:\n",
        "        print(f\"{num} is a prime number\")\n",
        "\n",
        "\n",
        "\n"
      ],
      "metadata": {
        "colab": {
          "base_uri": "https://localhost:8080/"
        },
        "id": "F8rZfU1pn4ac",
        "outputId": "f1851376-e0e0-4fad-face-babf8cd47cad"
      },
      "execution_count": null,
      "outputs": [
        {
          "output_type": "stream",
          "name": "stdout",
          "text": [
            "2 is a prime number\n",
            "3 is a prime number\n",
            "5 is a prime number\n",
            "7 is a prime number\n"
          ]
        }
      ]
    },
    {
      "cell_type": "code",
      "source": [
        "#Write a Python Program to Check Leap Year.\n",
        "year=int(input(\"Enter the year:\"))\n",
        "if ((year % 400==0) or (year%4==0 and year%100!=0)):\n",
        "  print(f\"{year} is leap year\")\n",
        "else:\n",
        "  print(f\"{year} is not a leap year\")\n"
      ],
      "metadata": {
        "colab": {
          "base_uri": "https://localhost:8080/"
        },
        "id": "HmsB8Xm7kRHJ",
        "outputId": "0ce1ea81-a7de-41b3-ed28-c493e0f7c916"
      },
      "execution_count": null,
      "outputs": [
        {
          "output_type": "stream",
          "name": "stdout",
          "text": [
            "Enter the year:2000\n",
            "2000 is leap year\n"
          ]
        }
      ]
    },
    {
      "cell_type": "code",
      "source": [
        "# Write a Python Program to Find the Factorial of a Number.\n",
        "num=int(input(\"Enter the number:\"))\n",
        "fact=1\n",
        "for i in range(1,num+1):\n",
        "  fact=fact*i\n",
        "print(f\"the factorail of {num} is {fact}\")"
      ],
      "metadata": {
        "colab": {
          "base_uri": "https://localhost:8080/"
        },
        "id": "OIg5TZrMrRHG",
        "outputId": "ffc4a238-200c-4b37-acd4-f32b62964ffb"
      },
      "execution_count": null,
      "outputs": [
        {
          "output_type": "stream",
          "name": "stdout",
          "text": [
            "Enter the number:5\n",
            "the factorail of 5 is 120 \n"
          ]
        }
      ]
    },
    {
      "cell_type": "code",
      "source": [
        "# Write a Python Program to Display the multiplication Table.\n",
        "num=int(input(\"Enter the number:\"))\n",
        "for i in range(1,11):\n",
        "  print(num, \"X\", i, \"=\", num*i)"
      ],
      "metadata": {
        "colab": {
          "base_uri": "https://localhost:8080/"
        },
        "id": "4XYSDivgsKct",
        "outputId": "7c0da5ef-43e0-4b6b-b5b8-c0965679c396"
      },
      "execution_count": null,
      "outputs": [
        {
          "output_type": "stream",
          "name": "stdout",
          "text": [
            "Enter the number:1\n",
            "1 X 1 = 1\n",
            "1 X 2 = 2\n",
            "1 X 3 = 3\n",
            "1 X 4 = 4\n",
            "1 X 5 = 5\n",
            "1 X 6 = 6\n",
            "1 X 7 = 7\n",
            "1 X 8 = 8\n",
            "1 X 9 = 9\n",
            "1 X 10 = 10\n"
          ]
        }
      ]
    },
    {
      "cell_type": "code",
      "source": [
        "#Python program to get the Fibonacci series between 0 to 50.\n",
        "\n",
        "n= int(input(\"enter the number:-\"))\n",
        "first_number = 0\n",
        "second_number = 1\n",
        "print(first_number)\n",
        "for i in range(0,n+1):\n",
        "  new_number=first_number+second_number\n",
        "  first_number=second_number\n",
        "  second_number=new_number\n",
        "  print(new_number)\n",
        "\n",
        "\n"
      ],
      "metadata": {
        "colab": {
          "base_uri": "https://localhost:8080/"
        },
        "id": "TgyrN0U-vWT1",
        "outputId": "db55d0b8-951e-4b2f-c392-1a18dc374cfe"
      },
      "execution_count": null,
      "outputs": [
        {
          "output_type": "stream",
          "name": "stdout",
          "text": [
            "enter the number:-5\n",
            "0\n",
            "1\n",
            "2\n",
            "3\n",
            "5\n",
            "8\n",
            "13\n"
          ]
        }
      ]
    },
    {
      "cell_type": "code",
      "source": [
        "num = int(input(\"enter the number:\"))\n",
        "print(num%10)\n",
        "print(num//10)"
      ],
      "metadata": {
        "colab": {
          "base_uri": "https://localhost:8080/"
        },
        "id": "vVCS3rHCfU7i",
        "outputId": "ee1240ab-30a6-49c3-f4e7-c62f44c47d6e"
      },
      "execution_count": null,
      "outputs": [
        {
          "output_type": "stream",
          "name": "stdout",
          "text": [
            "enter the number:1458765\n",
            "5\n",
            "145876\n"
          ]
        }
      ]
    },
    {
      "cell_type": "code",
      "source": [
        "#Write a Python Program to Check Armstrong Number\n",
        "num = int(input(\"enter the number:\"))\n",
        "sum=0\n",
        "temp=num\n",
        "num_of_digits = len(str(num))\n",
        "while temp>0:\n",
        "  digit=temp%10\n",
        "  sum=sum+digit**num_of_digits\n",
        "  temp=temp//10\n",
        "if num==sum:\n",
        "  print(f\"{num} is armstrong\")\n",
        "else:\n",
        "  print(f\"{num} is not a armstrong number\")\n",
        "\n",
        "\n"
      ],
      "metadata": {
        "colab": {
          "base_uri": "https://localhost:8080/"
        },
        "id": "PetzfyPB9sV9",
        "outputId": "7368bf7d-2886-496f-ee2b-a1deba55d1d8"
      },
      "execution_count": null,
      "outputs": [
        {
          "output_type": "stream",
          "name": "stdout",
          "text": [
            "enter the number:153\n",
            "153 is armstrong\n"
          ]
        }
      ]
    },
    {
      "cell_type": "code",
      "source": [
        "#Write a Python Program to Find Armstrong Number in an Interval.\n",
        "lower = int(input(\"Enter the lower limit: \"))\n",
        "upper = int(input(\"Enter the upper limit: \"))\n",
        "for num in range(lower, upper+1):\n",
        "  sum=0\n",
        "  temp=num\n",
        "  no_of_dig=len(str(num))\n",
        "  while temp>0:\n",
        "    digit=temp % 10\n",
        "    sum=sum+digit ** no_of_dig\n",
        "    temp=temp//10\n",
        "  if num==sum:\n",
        "    print(f\"{num} is armstrong\")\n",
        "\n"
      ],
      "metadata": {
        "colab": {
          "base_uri": "https://localhost:8080/"
        },
        "id": "uwlUj4f9AmKI",
        "outputId": "4671037c-b077-4672-def3-05ebd5a9fe07"
      },
      "execution_count": null,
      "outputs": [
        {
          "output_type": "stream",
          "name": "stdout",
          "text": [
            "Enter the lower limit: 10\n",
            "Enter the upper limit: 1000\n",
            "153 is armstrong\n",
            "370 is armstrong\n",
            "371 is armstrong\n",
            "407 is armstrong\n"
          ]
        }
      ]
    },
    {
      "cell_type": "code",
      "source": [],
      "metadata": {
        "id": "9_gHw0yfhiwr"
      },
      "execution_count": null,
      "outputs": []
    },
    {
      "cell_type": "code",
      "execution_count": null,
      "metadata": {
        "colab": {
          "base_uri": "https://localhost:8080/"
        },
        "id": "RR-DAB69dzUo",
        "outputId": "ce36860a-4a52-446e-bb72-3b01b41ab7dd"
      },
      "outputs": [
        {
          "output_type": "stream",
          "name": "stdout",
          "text": [
            "Enter the number: mki\n",
            "ikm\n"
          ]
        }
      ],
      "source": [
        "#reverse a number\n",
        "\"\"\"num = int(input(\"enter the string:\"))\n",
        "if num[:: -1] == num:\n",
        "  print(\"parlindrome\")\n",
        "else:\n",
        "  print(\"not a parlindrom\")\"\"\"\n",
        "\n",
        "num = input(\"Enter the number: \")  # No need to convert input to int for reversing\n",
        "if num == num[::-1]:  # Check if the reversed string is equal to the original string\n",
        "    print(\"Palindrome\")\n",
        "else:\n",
        "    print(\"Not a palindrome\")\n"
      ]
    },
    {
      "cell_type": "code",
      "source": [
        "# Write a Python Program to Find the Sum of Natural Numbers.\n",
        "numb=int(input(\"Enter the number: \"))\n",
        "sum=0\n",
        "for i in range(1,numb+1):\n",
        "  sum=sum+i\n",
        "print(\"the sum of the natural numbers is:\", sum)"
      ],
      "metadata": {
        "colab": {
          "base_uri": "https://localhost:8080/"
        },
        "id": "sAvNv9TAsdiX",
        "outputId": "755b597b-981e-4910-f433-d168a8540270"
      },
      "execution_count": null,
      "outputs": [
        {
          "output_type": "stream",
          "name": "stdout",
          "text": [
            "Enter the number: 10\n",
            "the sum of the natural numbers is: 55\n"
          ]
        }
      ]
    },
    {
      "cell_type": "code",
      "source": [
        "#Python Program to find the L.C.M. of two input number\n",
        "def compute_lcm(x,y):\n",
        "  if x>y:\n",
        "    greater=x\n",
        "  else:\n",
        "    greater=y\n",
        "  while(True):\n",
        "    if((greater % x==0) and (greater % y==0)):\n",
        "      lcm=greater\n",
        "      break\n",
        "      greater+=1\n",
        "  return lcm\n",
        "num1=int(input(\"ENter the number:\"))\n",
        "num2=int(input(\"ENter the number:\"))\n",
        "lcm = compute_lcm(num1, num2)\n",
        "print(f\"The L.C.M. of {num1} and {num2} is {lcm}\")"
      ],
      "metadata": {
        "id": "fyOfz_WNvWd7",
        "colab": {
          "base_uri": "https://localhost:8080/"
        },
        "outputId": "68ac8170-ffe7-4144-875d-caa85c22d81d"
      },
      "execution_count": null,
      "outputs": [
        {
          "output_type": "stream",
          "name": "stdout",
          "text": [
            "ENter the number:5\n",
            "ENter the number:10\n",
            "The L.C.M. of 5 and 10 is 10\n"
          ]
        }
      ]
    },
    {
      "cell_type": "code",
      "source": [
        "# Python program to find H.C.F of two numbers\n",
        "def compute_hcf(x,y):\n",
        "  if x>y:\n",
        "    smaller=x\n",
        "  else:\n",
        "    smaller=y\n",
        "  for i in range(1, smaller+1):\n",
        "    if((x % i ==0) and(y % i==0)):\n",
        "      hcf=i\n",
        "  return hcf\n",
        "num1=int(input(\"ENter the number:\"))\n",
        "num2=int(input(\"ENter the number:\"))\n",
        "hcf=compute_hcf(num1,num2)\n",
        "print(hcf)"
      ],
      "metadata": {
        "id": "zyZ2J3dCxItx",
        "colab": {
          "base_uri": "https://localhost:8080/"
        },
        "outputId": "f7ae6ebf-f999-496a-cba9-82b10bdc7783"
      },
      "execution_count": null,
      "outputs": [
        {
          "output_type": "stream",
          "name": "stdout",
          "text": [
            "ENter the number:5\n",
            "ENter the number:10\n",
            "5\n"
          ]
        }
      ]
    },
    {
      "cell_type": "code",
      "source": [
        "#How can we manually convert a decimal number to binary, octal and hexadecimal?\n",
        "dec_num = int(input('Enter a decimal number: '))\n",
        "print(bin(dec_num), \"in binary\")\n",
        "print(oct(dec_num), \"in octal\")\n",
        "print(hex(dec_num), \"in hexadecimal\")"
      ],
      "metadata": {
        "id": "vGHvrVAnzQrp",
        "colab": {
          "base_uri": "https://localhost:8080/"
        },
        "outputId": "34e1762c-15ad-4300-8d6f-642c46ca955f"
      },
      "execution_count": null,
      "outputs": [
        {
          "output_type": "stream",
          "name": "stdout",
          "text": [
            "Enter a decimal number: 27\n",
            "0b11011 in binary\n",
            "0o33 in octal\n",
            "0x1b in hexadecimal\n"
          ]
        }
      ]
    },
    {
      "cell_type": "code",
      "source": [
        "## Python program to display the Fibonacci sequence\n",
        "\n",
        "def recfib(n):\n",
        "  if n<=1:\n",
        "    return n\n",
        "  else:\n",
        "    return (recfib(n-1)+recfib(n-2))\n",
        "nterms=int(input(\"enter the no of terms:\"))\n",
        "if(nterms<=0):\n",
        "  print(\"enter the positive number\")\n",
        "else:\n",
        "  print(\"fibinacci series:\")\n",
        "  for i in range(nterms):\n",
        "    print(recfib(i))\n"
      ],
      "metadata": {
        "colab": {
          "base_uri": "https://localhost:8080/"
        },
        "id": "8RGxfBVR2AL3",
        "outputId": "235c8429-40f7-433a-9200-c93607cea56b"
      },
      "execution_count": null,
      "outputs": [
        {
          "output_type": "stream",
          "name": "stdout",
          "text": [
            "enter the no of terms:10\n",
            "fibinacci series:\n",
            "0\n",
            "1\n",
            "1\n",
            "2\n",
            "3\n",
            "5\n",
            "8\n",
            "13\n",
            "21\n",
            "34\n"
          ]
        }
      ]
    },
    {
      "cell_type": "code",
      "source": [
        " # Factorial of a number using recursion\n",
        "def rec_fact(n):\n",
        "  if n==1:\n",
        "    return n\n",
        "  else:\n",
        "    return n*rec_fact(n-1)\n",
        "num=int(input(\"enter the number:\"))\n",
        "if num==0:\n",
        "  print(\"The factorial of zero is 1\")\n",
        "else:\n",
        "  print(\"the factorail of\", num, \"is\", rec_fact(num))\n"
      ],
      "metadata": {
        "colab": {
          "base_uri": "https://localhost:8080/"
        },
        "id": "RzDTJ2xj4wTg",
        "outputId": "16337e81-9109-4fef-da03-b6586e634929"
      },
      "execution_count": null,
      "outputs": [
        {
          "output_type": "stream",
          "name": "stdout",
          "text": [
            "enter the number:5\n",
            "the factorail of 5 is 120\n"
          ]
        }
      ]
    },
    {
      "cell_type": "code",
      "source": [
        "# Write a Python Program for cube sum of first n natural numbers\n",
        "num=int(input(\"Enter the numbers:\"))\n",
        "for i in range(num):\n",
        "  print(i**3)"
      ],
      "metadata": {
        "colab": {
          "base_uri": "https://localhost:8080/"
        },
        "id": "VBGuuMQO5tNo",
        "outputId": "74423413-88db-4a00-f5f2-718b115b77ec"
      },
      "execution_count": null,
      "outputs": [
        {
          "output_type": "stream",
          "name": "stdout",
          "text": [
            "Enter the numbers:10\n",
            "0\n",
            "1\n",
            "8\n",
            "27\n",
            "64\n",
            "125\n",
            "216\n",
            "343\n",
            "512\n",
            "729\n"
          ]
        }
      ]
    },
    {
      "cell_type": "code",
      "source": [
        "# Write a Python Program To Find ASCII value of a character.\n",
        "char=str(input(\"enter the charcater:\"))\n",
        "print(\"The ASCII value of :\"+char+\" is\", ord(char))"
      ],
      "metadata": {
        "id": "5I9Q8xbLz9H8"
      },
      "execution_count": null,
      "outputs": []
    },
    {
      "cell_type": "code",
      "source": [
        " # Finding Sum of Array\n",
        "arr = [1,2,3]\n",
        "ans = sum(arr)\n",
        "print('Sum of the array is ', ans)"
      ],
      "metadata": {
        "colab": {
          "base_uri": "https://localhost:8080/"
        },
        "id": "iultCtys9WTT",
        "outputId": "04d707f4-181c-4125-876c-044b6efcac57"
      },
      "execution_count": null,
      "outputs": [
        {
          "output_type": "stream",
          "name": "stdout",
          "text": [
            "Sum of the array is  6\n"
          ]
        }
      ]
    },
    {
      "cell_type": "markdown",
      "metadata": {
        "id": "LQCKrKfohDe0"
      },
      "source": [
        "## Python Program to Check if a Number is Positive, Negative or 0"
      ]
    },
    {
      "cell_type": "code",
      "execution_count": null,
      "metadata": {
        "colab": {
          "base_uri": "https://localhost:8080/"
        },
        "id": "vbIS6iYDeU1p",
        "outputId": "3bfda514-d575-40d9-e816-a60ba5c6b10d"
      },
      "outputs": [
        {
          "name": "stdout",
          "output_type": "stream",
          "text": [
            "enter the number0\n",
            "Zero\n"
          ]
        }
      ],
      "source": [
        "a = int(input(\"enter the number\"))\n",
        "if a < 0:\n",
        "  print(\"negative\")\n",
        "elif a >0:\n",
        "  print(\"positive\")\n",
        "else:\n",
        "  if a==0:\n",
        "    print(\"Zero\")"
      ]
    },
    {
      "cell_type": "markdown",
      "metadata": {
        "id": "LHfqhUUYhPP1"
      },
      "source": [
        "# Python Program to Check if a Number is Odd or Even"
      ]
    },
    {
      "cell_type": "code",
      "execution_count": null,
      "metadata": {
        "colab": {
          "base_uri": "https://localhost:8080/"
        },
        "id": "7CfzwAYqe-Sm",
        "outputId": "001fcb7e-c2de-4bc9-8628-7470d30acb98"
      },
      "outputs": [
        {
          "name": "stdout",
          "output_type": "stream",
          "text": [
            "enter the number22\n",
            "even\n"
          ]
        }
      ],
      "source": [
        "num = int(input(\"enter the number\"))\n",
        "if num % 2 == 0:\n",
        "  print(\"even\")\n",
        "else:\n",
        "  print(\"odd\")"
      ]
    },
    {
      "cell_type": "markdown",
      "metadata": {
        "id": "91huFIq2hhT1"
      },
      "source": [
        "# Python Program to Check Leap Year"
      ]
    },
    {
      "cell_type": "code",
      "execution_count": null,
      "metadata": {
        "colab": {
          "base_uri": "https://localhost:8080/"
        },
        "id": "Oq77lz7ohYHi",
        "outputId": "1658091e-e100-4d98-f731-847a5f8adfc7"
      },
      "outputs": [
        {
          "name": "stdout",
          "output_type": "stream",
          "text": [
            "enter the year2001\n",
            "not a leap year\n"
          ]
        }
      ],
      "source": [
        "year = int(input(\"enter the year\"))\n",
        "if year % 4 ==0:\n",
        "  print(\"leap year\")\n",
        "else:\n",
        "  print(\"not a leap year\")"
      ]
    },
    {
      "cell_type": "markdown",
      "metadata": {
        "id": "0uUrEyLbcsrL"
      },
      "source": [
        "# Python Program to Find the Largest Among Three Numbers"
      ]
    },
    {
      "cell_type": "code",
      "execution_count": null,
      "metadata": {
        "colab": {
          "base_uri": "https://localhost:8080/"
        },
        "id": "Fv3YnQDOh8Mx",
        "outputId": "8650e1a6-db92-40c8-f043-5fd2d688490c"
      },
      "outputs": [
        {
          "name": "stdout",
          "output_type": "stream",
          "text": [
            "enter the number1:33\n",
            "enter the number2:44\n",
            "enter the number3:55\n",
            "55 is greater\n"
          ]
        }
      ],
      "source": [
        "num1 = int(input(\"enter the number1:\"))\n",
        "num2 = int(input(\"enter the number2:\"))\n",
        "num3 = int(input(\"enter the number3:\"))\n",
        "\n",
        "if num1 > num2 and num1 > num3:\n",
        "  print(f\"{num1} is greater\")\n",
        "elif num2> num3 and num2 >num1:\n",
        "  print(f\"{num2} is greater\")\n",
        "else:\n",
        "  print(f\"{num3} is greater\")\n"
      ]
    },
    {
      "cell_type": "markdown",
      "metadata": {
        "id": "r3yE5zGKcoFK"
      },
      "source": [
        "# Python Program to Check Prime Number"
      ]
    },
    {
      "cell_type": "code",
      "execution_count": null,
      "metadata": {
        "colab": {
          "base_uri": "https://localhost:8080/"
        },
        "id": "Owvwno3UjCLn",
        "outputId": "7dac5cfa-81cd-4777-f23e-4c9667a721fa"
      },
      "outputs": [
        {
          "name": "stdout",
          "output_type": "stream",
          "text": [
            "enter the number:88\n",
            "88 is not a prime number\n"
          ]
        }
      ],
      "source": [
        "num = int(input(\"enter the number:\"))\n",
        "for i in range(2,num):\n",
        "  if num%i==0:\n",
        "    print(f\"{num} is not a prime number\")\n",
        "    break\n",
        "  else:\n",
        "    print(f\"{num} is a prime number\")\n"
      ]
    },
    {
      "cell_type": "markdown",
      "metadata": {
        "id": "Imk19p7cmCJk"
      },
      "source": [
        "# Python Program to Print all Prime Numbers in an Interval"
      ]
    },
    {
      "cell_type": "code",
      "execution_count": null,
      "metadata": {
        "colab": {
          "base_uri": "https://localhost:8080/"
        },
        "id": "FzxI7uikd1sP",
        "outputId": "0ccf9fb1-e5e5-41f2-81fa-caab23a41e6f"
      },
      "outputs": [
        {
          "name": "stdout",
          "output_type": "stream",
          "text": [
            "11\n",
            "13\n",
            "17\n",
            "19\n"
          ]
        }
      ],
      "source": [
        "a = 10\n",
        "b = 22\n",
        "for num in range(a,b+1):\n",
        "  if num>1:\n",
        "    for i in range(2,num):\n",
        "      if num % i == 0:\n",
        "        break\n",
        "    else:\n",
        "      print(num)\n"
      ]
    },
    {
      "cell_type": "markdown",
      "metadata": {
        "id": "ygkxfCdXl6kb"
      },
      "source": [
        "# Python Program to Find the Factorial of a Number"
      ]
    },
    {
      "cell_type": "code",
      "execution_count": null,
      "metadata": {
        "colab": {
          "base_uri": "https://localhost:8080/"
        },
        "id": "htBAS22rfffD",
        "outputId": "940080ed-a86b-4d3a-ef32-27fb02a432b2"
      },
      "outputs": [
        {
          "name": "stdout",
          "output_type": "stream",
          "text": [
            "enter the number:6\n",
            "720\n"
          ]
        }
      ],
      "source": [
        "num = int(input(\"enter the number:\"))\n",
        "num1 = 1\n",
        "for i in range (1,num+1):\n",
        "  num1 = num1*i\n",
        "print(num1)"
      ]
    },
    {
      "cell_type": "markdown",
      "metadata": {
        "id": "oT2TeGgXl4II"
      },
      "source": [
        "# Python Program to Display the multiplication Table"
      ]
    },
    {
      "cell_type": "code",
      "execution_count": null,
      "metadata": {
        "colab": {
          "base_uri": "https://localhost:8080/"
        },
        "id": "hSe12fUrgcUI",
        "outputId": "fe301428-0281-4359-ab1e-189f6e268fff"
      },
      "outputs": [
        {
          "name": "stdout",
          "output_type": "stream",
          "text": [
            "Enter the number:2\n",
            "2 X 1 = 2\n",
            "2 X 2 = 4\n",
            "2 X 3 = 6\n",
            "2 X 4 = 8\n",
            "2 X 5 = 10\n",
            "2 X 6 = 12\n",
            "2 X 7 = 14\n",
            "2 X 8 = 16\n",
            "2 X 9 = 18\n",
            "2 X 10 = 20\n"
          ]
        }
      ],
      "source": [
        "num = int(input(\"Enter the number:\"))\n",
        "#b = 1\n",
        "for i in range (1,11):\n",
        "  print(num,\"X\", i, \"=\", num*i)"
      ]
    },
    {
      "cell_type": "code",
      "execution_count": null,
      "metadata": {
        "colab": {
          "base_uri": "https://localhost:8080/"
        },
        "id": "vba9aUniOy_A",
        "outputId": "4bbe40db-f0a6-48a5-f038-26ae8e9ec6bc"
      },
      "outputs": [
        {
          "name": "stdout",
          "output_type": "stream",
          "text": [
            "enter the age:6\n",
            "you are pre-primary\n"
          ]
        }
      ],
      "source": [
        "age = int(input(\"enter the age:\"))\n",
        "if age < 3:\n",
        "  print(\"you are children\")\n",
        "elif age >=3 or age <=6:\n",
        "  print(\"you are pre-primary\")\n",
        "elif age == 11:\n",
        "  print(\"you are 6th class\")\n",
        "elif age == 12:\n",
        "  print(\"you are 7th class\")\n",
        "elif age == 13:\n",
        "  print(\"you are 8th class\")\n",
        "elif age == 14:\n",
        "  print(\"you are 9th class\")\n",
        "elif age == 15:\n",
        "  print(\"you are 10th class\")\n",
        "else:\n",
        "  print(\"ypu are graduate\")"
      ]
    },
    {
      "cell_type": "code",
      "execution_count": null,
      "metadata": {
        "colab": {
          "base_uri": "https://localhost:8080/"
        },
        "id": "lg2WczImOy8K",
        "outputId": "ee69f960-1c50-466f-daa7-fa7463100676"
      },
      "outputs": [
        {
          "name": "stdout",
          "output_type": "stream",
          "text": [
            "not alloed\n",
            "enter the drink:thumsup\n",
            "you are not allowed to bar\n"
          ]
        }
      ],
      "source": [
        "age = int(input(\"enter the age:\"))\n",
        "bar = input(\"enter the drink:\")\n",
        "if age < 18:\n",
        "  print(\"you are not allowed to bar\")\n",
        "elif age>18 and (bar==\"beer\" or bar==\"wine\" or bar==\"wiskey\"or bar==\"rum\"or bar==\"thumsup\"):\n",
        "  print(f\"you are allowed to drink {bar}\")\n",
        "else:\n",
        "  print(\"you are allowed to drink\")\n",
        "\n",
        "\n"
      ]
    },
    {
      "cell_type": "markdown",
      "metadata": {
        "id": "fqJ2W2qTBpfp"
      },
      "source": []
    },
    {
      "cell_type": "markdown",
      "metadata": {
        "id": "_epO7u2oDQVe"
      },
      "source": [
        "write a program that name starts with \"b\" and ends with \"u\"."
      ]
    },
    {
      "cell_type": "code",
      "execution_count": null,
      "metadata": {
        "colab": {
          "base_uri": "https://localhost:8080/"
        },
        "id": "-f7BizWcOy5f",
        "outputId": "922a9ec5-1c13-485a-8cac-eb3e97ec8c58"
      },
      "outputs": [
        {
          "name": "stdout",
          "output_type": "stream",
          "text": [
            "enter the name:balraju\n",
            "yes\n"
          ]
        }
      ],
      "source": [
        "name = input(\"enter the name:\")\n",
        "if name.startswith('b') and name.endswith(\"u\"):\n",
        "  print(\"yes\")\n",
        "\n",
        "else:\n",
        "   print(\"no\")\n"
      ]
    },
    {
      "cell_type": "code",
      "execution_count": null,
      "metadata": {
        "colab": {
          "base_uri": "https://localhost:8080/"
        },
        "id": "x50WQCr2Oy2Y",
        "outputId": "26cdf7ed-87a5-409a-b21a-0c998738ffcc"
      },
      "outputs": [
        {
          "name": "stdout",
          "output_type": "stream",
          "text": [
            "5\n",
            "odd\n"
          ]
        }
      ],
      "source": [
        "a = int(input())\n",
        "if a % 2 == 0:\n",
        "  print(\"even\")\n",
        "else:\n",
        "  print(\"odd\")"
      ]
    },
    {
      "cell_type": "markdown",
      "metadata": {
        "id": "Qfl35IMUBY30"
      },
      "source": [
        "finding the minimum and maximum of a numbers."
      ]
    },
    {
      "cell_type": "code",
      "execution_count": null,
      "metadata": {
        "colab": {
          "base_uri": "https://localhost:8080/"
        },
        "id": "CoqwDynYOysh",
        "outputId": "3b2fcd70-d484-46ed-b8b6-521c21a2c68e"
      },
      "outputs": [
        {
          "name": "stdout",
          "output_type": "stream",
          "text": [
            "20\n",
            "900\n"
          ]
        }
      ],
      "source": [
        "a= 80\n",
        "b = 900\n",
        "c = 20\n",
        "d=90\n",
        "print(min(a,b,c,d))\n",
        "print(max(a,b,c,d))\n"
      ]
    },
    {
      "cell_type": "code",
      "execution_count": null,
      "metadata": {
        "colab": {
          "base_uri": "https://localhost:8080/"
        },
        "id": "95MQA6eJOycH",
        "outputId": "036da2f1-1646-474b-acc3-5885d3142cf3"
      },
      "outputs": [
        {
          "name": "stdout",
          "output_type": "stream",
          "text": [
            "2\n",
            "prime\n"
          ]
        }
      ],
      "source": [
        "\n"
      ]
    },
    {
      "cell_type": "code",
      "execution_count": null,
      "metadata": {
        "id": "Hf4MMqqW8JMc"
      },
      "outputs": [],
      "source": []
    },
    {
      "cell_type": "markdown",
      "metadata": {
        "id": "bC11SFaOBMUw"
      },
      "source": [
        "swaping of two variables"
      ]
    },
    {
      "cell_type": "code",
      "execution_count": null,
      "metadata": {
        "colab": {
          "base_uri": "https://localhost:8080/"
        },
        "id": "A12IDSk78n0f",
        "outputId": "e8563178-a367-411c-c0c8-ceb4485658db"
      },
      "outputs": [
        {
          "name": "stdout",
          "output_type": "stream",
          "text": [
            "30\n"
          ]
        }
      ],
      "source": [
        "a= 20\n",
        "b= 30\n",
        "a,b=b,a\n",
        "print(a)"
      ]
    },
    {
      "cell_type": "markdown",
      "metadata": {
        "id": "yFPu4NUefWxF"
      },
      "source": [
        "square root of a given number"
      ]
    },
    {
      "cell_type": "code",
      "execution_count": null,
      "metadata": {
        "colab": {
          "base_uri": "https://localhost:8080/"
        },
        "id": "atfsqDGz_8_h",
        "outputId": "feb12b64-954f-4d87-aeb9-01b216ae29d3"
      },
      "outputs": [
        {
          "name": "stdout",
          "output_type": "stream",
          "text": [
            "5\n",
            "2.5\n"
          ]
        }
      ],
      "source": [
        "a = int(input())\n",
        "b= a*0.5\n",
        "print(b)"
      ]
    },
    {
      "cell_type": "markdown",
      "metadata": {
        "id": "8T0nWOTUlASQ"
      },
      "source": [
        "python program to check the number is amstrng number"
      ]
    },
    {
      "cell_type": "code",
      "execution_count": null,
      "metadata": {
        "colab": {
          "base_uri": "https://localhost:8080/"
        },
        "id": "pucvPELWez8h",
        "outputId": "07fb3a11-8b80-40f0-9e60-b68ada98b308"
      },
      "outputs": [
        {
          "name": "stdout",
          "output_type": "stream",
          "text": [
            "407\n",
            "amstrong\n"
          ]
        }
      ],
      "source": [
        "num = int(input())\n",
        "sum = 0\n",
        "temp = num\n",
        "while temp > 0:\n",
        "  digit = temp % 10\n",
        "  sum += digit **3\n",
        "  temp //= 10\n",
        "if num== sum:\n",
        "  print(\"amstrong\")\n",
        "else:\n",
        "  print(\"not an amstrong\")"
      ]
    },
    {
      "cell_type": "markdown",
      "metadata": {
        "id": "8Eoa6BPQkwda"
      },
      "source": [
        "Python Program to Calculate the Area of a Triangle"
      ]
    },
    {
      "cell_type": "code",
      "execution_count": null,
      "metadata": {
        "colab": {
          "base_uri": "https://localhost:8080/"
        },
        "id": "6o21o-b5h3hR",
        "outputId": "ac447c70-8184-4c9c-894c-25917341cf7a"
      },
      "outputs": [
        {
          "name": "stdout",
          "output_type": "stream",
          "text": [
            "4\n",
            "5\n",
            "6\n",
            "9.92\n"
          ]
        }
      ],
      "source": [
        "a = int(input())\n",
        "b = int(input())\n",
        "c= int(input())\n",
        "s=(a+b+c)/2\n",
        "area= (s*(s-a)*(s-b)*(s-c))**0.5\n",
        "\n",
        "print(round(area,2))"
      ]
    },
    {
      "cell_type": "code",
      "execution_count": null,
      "metadata": {
        "colab": {
          "base_uri": "https://localhost:8080/"
        },
        "id": "4LZpqEtUjvei",
        "outputId": "34ee93ee-84b0-4770-e1cf-91164b7e16e5"
      },
      "outputs": [
        {
          "name": "stdout",
          "output_type": "stream",
          "text": [
            "Hello, world!\n"
          ]
        }
      ],
      "source": [
        "a=\"Hello\"\n",
        "b= \"world!\"\n",
        "print(a+\", \"+b)"
      ]
    },
    {
      "cell_type": "code",
      "execution_count": null,
      "metadata": {
        "colab": {
          "base_uri": "https://localhost:8080/"
        },
        "id": "Y5zIL2kwpqtJ",
        "outputId": "dc526aec-0ee7-47f4-ca85-a70cc504a9e1"
      },
      "outputs": [
        {
          "name": "stdout",
          "output_type": "stream",
          "text": [
            "Hello, world!\n",
            "Hello, world!\n"
          ]
        }
      ],
      "source": [
        "print(\"Hello, world!\")"
      ]
    },
    {
      "cell_type": "code",
      "execution_count": null,
      "metadata": {
        "colab": {
          "base_uri": "https://localhost:8080/",
          "height": 228
        },
        "id": "NDUxZ3b_F_14",
        "outputId": "626655cf-ac36-4992-d25f-e8250821997e"
      },
      "outputs": [
        {
          "name": "stdout",
          "output_type": "stream",
          "text": [
            "3\n"
          ]
        },
        {
          "ename": "NameError",
          "evalue": "name 'n' is not defined",
          "output_type": "error",
          "traceback": [
            "\u001b[0;31m---------------------------------------------------------------------------\u001b[0m",
            "\u001b[0;31mNameError\u001b[0m                                 Traceback (most recent call last)",
            "\u001b[0;32m<ipython-input-28-674c361b8630>\u001b[0m in \u001b[0;36m<cell line: 3>\u001b[0;34m()\u001b[0m\n\u001b[1;32m      1\u001b[0m \u001b[0ma\u001b[0m \u001b[0;34m=\u001b[0m \u001b[0mint\u001b[0m\u001b[0;34m(\u001b[0m\u001b[0minput\u001b[0m\u001b[0;34m(\u001b[0m\u001b[0;34m)\u001b[0m\u001b[0;34m)\u001b[0m\u001b[0;34m\u001b[0m\u001b[0;34m\u001b[0m\u001b[0m\n\u001b[1;32m      2\u001b[0m \u001b[0mb\u001b[0m\u001b[0;34m=\u001b[0m\u001b[0;34m[\u001b[0m\u001b[0;34m]\u001b[0m\u001b[0;34m\u001b[0m\u001b[0;34m\u001b[0m\u001b[0m\n\u001b[0;32m----> 3\u001b[0;31m \u001b[0;32mfor\u001b[0m \u001b[0mi\u001b[0m \u001b[0;32min\u001b[0m \u001b[0mrange\u001b[0m\u001b[0;34m(\u001b[0m\u001b[0;36m0\u001b[0m\u001b[0;34m,\u001b[0m\u001b[0mn\u001b[0m\u001b[0;34m)\u001b[0m\u001b[0;34m:\u001b[0m\u001b[0;34m\u001b[0m\u001b[0;34m\u001b[0m\u001b[0m\n\u001b[0m\u001b[1;32m      4\u001b[0m   \u001b[0mele\u001b[0m\u001b[0;34m=\u001b[0m \u001b[0mint\u001b[0m\u001b[0;34m(\u001b[0m\u001b[0minput\u001b[0m\u001b[0;34m(\u001b[0m\u001b[0;34m)\u001b[0m\u001b[0;34m)\u001b[0m\u001b[0;34m\u001b[0m\u001b[0;34m\u001b[0m\u001b[0m\n\u001b[1;32m      5\u001b[0m   \u001b[0mb\u001b[0m\u001b[0;34m.\u001b[0m\u001b[0mappend\u001b[0m\u001b[0;34m(\u001b[0m\u001b[0mele\u001b[0m\u001b[0;34m)\u001b[0m\u001b[0;34m\u001b[0m\u001b[0;34m\u001b[0m\u001b[0m\n",
            "\u001b[0;31mNameError\u001b[0m: name 'n' is not defined"
          ]
        }
      ],
      "source": [
        "a = int(input())\n",
        "b=[]\n",
        "for i in range(0,n):\n",
        "  ele= int(input())\n",
        "  b.append(ele)\n",
        "avg = sum(b)/a\n",
        "print(avg)"
      ]
    },
    {
      "cell_type": "markdown",
      "metadata": {
        "id": "QJdjod1VOtNY"
      },
      "source": [
        "swap two numbers without using temporary"
      ]
    },
    {
      "cell_type": "code",
      "execution_count": null,
      "metadata": {
        "colab": {
          "base_uri": "https://localhost:8080/"
        },
        "id": "IhdDl-paGvis",
        "outputId": "022b06b3-5dc9-49cc-95ba-5b76e7c84471"
      },
      "outputs": [
        {
          "name": "stdout",
          "output_type": "stream",
          "text": [
            "30\n"
          ]
        }
      ],
      "source": [
        "a = 20\n",
        "b = 30\n",
        "a,b = b,a\n",
        "print(a)"
      ]
    },
    {
      "cell_type": "code",
      "execution_count": null,
      "metadata": {
        "colab": {
          "base_uri": "https://localhost:8080/",
          "height": 176
        },
        "id": "JvOm4zf5JSv1",
        "outputId": "fcd7887d-8368-46fc-b7ea-e24356b07e41"
      },
      "outputs": [
        {
          "ename": "NameError",
          "evalue": "name 'char' is not defined",
          "output_type": "error",
          "traceback": [
            "\u001b[0;31m---------------------------------------------------------------------------\u001b[0m",
            "\u001b[0;31mNameError\u001b[0m                                 Traceback (most recent call last)",
            "\u001b[0;32m<ipython-input-38-63ada6e29338>\u001b[0m in \u001b[0;36m<cell line: 2>\u001b[0;34m()\u001b[0m\n\u001b[1;32m      1\u001b[0m \u001b[0ma\u001b[0m\u001b[0;34m=\u001b[0m \u001b[0;36m1234\u001b[0m\u001b[0;34m\u001b[0m\u001b[0;34m\u001b[0m\u001b[0m\n\u001b[0;32m----> 2\u001b[0;31m \u001b[0;32mif\u001b[0m \u001b[0mchar\u001b[0m\u001b[0;34m(\u001b[0m\u001b[0ma\u001b[0m\u001b[0;34m[\u001b[0m\u001b[0;34m:\u001b[0m\u001b[0;34m:\u001b[0m\u001b[0;34m-\u001b[0m\u001b[0;36m1\u001b[0m\u001b[0;34m]\u001b[0m\u001b[0;34m)\u001b[0m\u001b[0;34m:\u001b[0m\u001b[0;34m\u001b[0m\u001b[0;34m\u001b[0m\u001b[0m\n\u001b[0m\u001b[1;32m      3\u001b[0m   \u001b[0mprint\u001b[0m\u001b[0;34m(\u001b[0m\u001b[0ma\u001b[0m\u001b[0;34m)\u001b[0m\u001b[0;34m\u001b[0m\u001b[0;34m\u001b[0m\u001b[0m\n",
            "\u001b[0;31mNameError\u001b[0m: name 'char' is not defined"
          ]
        }
      ],
      "source": [
        "a= 1234\n",
        "if char(a[::-1]):\n",
        "  print(a)"
      ]
    },
    {
      "cell_type": "markdown",
      "metadata": {
        "id": "EZuKDfPFOj2Q"
      },
      "source": [
        "python program to reverse a given number"
      ]
    },
    {
      "cell_type": "markdown",
      "metadata": {
        "id": "OvVltUY80_VH"
      },
      "source": [
        "write a program to print the reverse of a given number"
      ]
    },
    {
      "cell_type": "code",
      "execution_count": null,
      "metadata": {
        "colab": {
          "base_uri": "https://localhost:8080/"
        },
        "id": "QLMFxbJkJjRV",
        "outputId": "3951e1d0-8dd3-46d7-f13f-28f6bd82a079"
      },
      "outputs": [
        {
          "name": "stdout",
          "output_type": "stream",
          "text": [
            "765443\n",
            "reversenof the number: 344567\n"
          ]
        }
      ],
      "source": [
        "n=int(input())\n",
        "rev = 0\n",
        "while(n>0):\n",
        "  dig=n%10\n",
        "  rev=rev*10+dig\n",
        "  n=n//10\n",
        "print(\"reversenof the number:\", rev)"
      ]
    },
    {
      "cell_type": "code",
      "execution_count": null,
      "metadata": {
        "colab": {
          "base_uri": "https://localhost:8080/"
        },
        "id": "4UxFd8gMOHEw",
        "outputId": "e67691f4-c15d-41fd-ff81-29490320d6c0"
      },
      "outputs": [
        {
          "name": "stdout",
          "output_type": "stream",
          "text": [
            "10\n",
            "0\n",
            "2\n",
            "4\n",
            "6\n",
            "8\n",
            "10\n"
          ]
        }
      ],
      "source": [
        "\n",
        "n= int(input())\n",
        "for i in range(0,n+1):\n",
        "  if i%2==0:\n",
        "    print(i)"
      ]
    },
    {
      "cell_type": "code",
      "execution_count": null,
      "metadata": {
        "id": "ZXAXkyvS7e0a"
      },
      "outputs": [],
      "source": [
        "\"\"\"Example 1:Print the first 10 natural numbers using for loop.\n",
        "Example 2: Python program to print all the even numbers within the given range.\n",
        "Example 3: Python program to calculate the sum of all numbers from 1 to a given number.\n",
        "Example 4: Python program to calculate the sum of all the odd numbers within the given range.\n",
        "Example 5: Python program to print a multiplication table of a given number\n",
        "Example 6: Python program to display numbers from a list using a for loop.\n",
        "Example 7: Python program to count the total number of digits in a number.\n",
        "Example 8: Python program to check if the given string is a palindrome.\n",
        "Example 9: Python program that accepts a word from the user and reverses it.\n",
        "Example 10: Python program to check if a given number is an Armstrong number\n",
        "Example 11: Python program to count the number of even and odd numbers from a series of numbers.\n",
        "Example 12: Python program to display all numbers within a range except the prime numbers.\n",
        "Example 13: Python program to get the Fibonacci series between 0 to 50.\n",
        "Example 14: Python program to find the factorial of a given number.\n",
        "Example 15: Python program that accepts a string and calculates the number of digits and letters.\n",
        "Example 16: Write a Python program that iterates the integers from 1 to 25.\n",
        "Example 17: Python program to check the validity of password input by users.\n",
        "Example 18: Python program to convert the month name to a number of days.\"\"\""
      ]
    },
    {
      "cell_type": "code",
      "execution_count": null,
      "metadata": {
        "colab": {
          "base_uri": "https://localhost:8080/"
        },
        "id": "smVvzeFMDS-M",
        "outputId": "6cd0ee36-0ed1-48c2-e27d-fba55898e87c"
      },
      "outputs": [
        {
          "name": "stdout",
          "output_type": "stream",
          "text": [
            "10\n",
            "0\n",
            "1\n",
            "2\n",
            "3\n",
            "4\n",
            "5\n",
            "6\n",
            "7\n",
            "8\n",
            "9\n",
            "10\n"
          ]
        }
      ],
      "source": [
        "natural= int(input())\n",
        "for i in range(0,natural+1):\n",
        "  print(i)\n",
        "\n"
      ]
    },
    {
      "cell_type": "code",
      "execution_count": null,
      "metadata": {
        "colab": {
          "base_uri": "https://localhost:8080/"
        },
        "id": "YRP8fyUuN9Qi",
        "outputId": "573b17cc-e8ed-4bca-f4a9-892662839c8d"
      },
      "outputs": [
        {
          "name": "stdout",
          "output_type": "stream",
          "text": [
            "10\n",
            "1\n",
            "2\n",
            "3\n",
            "4\n",
            "5\n",
            "6\n",
            "7\n",
            "8\n",
            "9\n"
          ]
        }
      ],
      "source": [
        "n= int(input())\n",
        "i=1\n",
        "while n>i:\n",
        "  print(i)\n",
        "  i+=1"
      ]
    },
    {
      "cell_type": "code",
      "execution_count": null,
      "metadata": {
        "colab": {
          "base_uri": "https://localhost:8080/"
        },
        "id": "Ictaq8TlDgeS",
        "outputId": "106e90a4-f6de-4120-c7cc-109138491653"
      },
      "outputs": [
        {
          "name": "stdout",
          "output_type": "stream",
          "text": [
            "20\n",
            "0\n",
            "2\n",
            "4\n",
            "6\n",
            "8\n",
            "10\n",
            "12\n",
            "14\n",
            "16\n",
            "18\n"
          ]
        }
      ],
      "source": [
        "natural= int(input())\n",
        "for i in range(0,20):\n",
        "  if i%2==0:\n",
        "    print(i)"
      ]
    },
    {
      "cell_type": "code",
      "execution_count": null,
      "metadata": {
        "colab": {
          "base_uri": "https://localhost:8080/"
        },
        "id": "KcjsRKC5OQGv",
        "outputId": "7adb0d51-d9d5-4272-a8dd-74f05ab934b4"
      },
      "outputs": [
        {
          "name": "stdout",
          "output_type": "stream",
          "text": [
            "10\n",
            "0\n",
            "2\n",
            "4\n",
            "6\n",
            "8\n"
          ]
        }
      ],
      "source": [
        "n= int(input())\n",
        "i=0\n",
        "while n>i:\n",
        "  if i%2==0:\n",
        "    print(i)\n",
        "  i+=1"
      ]
    },
    {
      "cell_type": "code",
      "execution_count": null,
      "metadata": {
        "colab": {
          "base_uri": "https://localhost:8080/"
        },
        "id": "8Osg2sJtEAD7",
        "outputId": "a2efae8a-35c4-4027-f644-2d5f2743d71a"
      },
      "outputs": [
        {
          "name": "stdout",
          "output_type": "stream",
          "text": [
            "10\n",
            "55\n"
          ]
        }
      ],
      "source": [
        "natural=int(input())\n",
        "sum=0\n",
        "for i in range(1,natural+1):\n",
        "   sum=sum+i\n",
        "print(sum)"
      ]
    },
    {
      "cell_type": "code",
      "execution_count": null,
      "metadata": {
        "colab": {
          "base_uri": "https://localhost:8080/"
        },
        "id": "PZhk74GjEfCO",
        "outputId": "7b860469-2c01-455f-c004-3e247cdeb0f0"
      },
      "outputs": [
        {
          "name": "stdout",
          "output_type": "stream",
          "text": [
            "10\n",
            "1\n",
            "4\n",
            "9\n",
            "16\n",
            "25\n"
          ]
        }
      ],
      "source": [
        "natural= int(input())\n",
        "odd=0\n",
        "for i in range(0,natural+1):\n",
        "  if i%2!=0:\n",
        "    odd+=i\n",
        "    print(odd)"
      ]
    },
    {
      "cell_type": "code",
      "execution_count": null,
      "metadata": {
        "colab": {
          "base_uri": "https://localhost:8080/"
        },
        "id": "H5z2Kh1UGDaT",
        "outputId": "88c5865a-e1b0-4020-a70a-686208279ce3"
      },
      "outputs": [
        {
          "name": "stdout",
          "output_type": "stream",
          "text": [
            "12\n",
            "12 X 1 = 12\n",
            "12 X 2 = 24\n",
            "12 X 3 = 36\n",
            "12 X 4 = 48\n",
            "12 X 5 = 60\n",
            "12 X 6 = 72\n",
            "12 X 7 = 84\n",
            "12 X 8 = 96\n",
            "12 X 9 = 108\n",
            "12 X 10 = 120\n",
            "12 X 11 = 132\n",
            "12 X 12 = 144\n"
          ]
        }
      ],
      "source": [
        "a= int(input())\n",
        "for i in range(1,a+1):\n",
        "  print(a,\"X\",i,\"=\",a*i)"
      ]
    },
    {
      "cell_type": "code",
      "execution_count": null,
      "metadata": {
        "colab": {
          "base_uri": "https://localhost:8080/"
        },
        "id": "1EK5pzxXI7gQ",
        "outputId": "8db7758d-09f0-4695-b1e2-c0640e57ec19"
      },
      "outputs": [
        {
          "name": "stdout",
          "output_type": "stream",
          "text": [
            "1\n",
            "3\n",
            "4\n",
            "5\n",
            "6\n",
            "7\n",
            "8\n",
            "90\n"
          ]
        }
      ],
      "source": [
        "#Example 6: Python program to display numbers from a list using a for loop.\n",
        "a = [1,3,4,5,6,7,8,90]\n",
        "for i in a:\n",
        "  print(i)"
      ]
    },
    {
      "cell_type": "code",
      "execution_count": null,
      "metadata": {
        "colab": {
          "base_uri": "https://localhost:8080/"
        },
        "id": "D5CURCbOKNS2",
        "outputId": "b84e1f3a-7f68-43fa-f2b2-bd2d852f7dc8"
      },
      "outputs": [
        {
          "name": "stdout",
          "output_type": "stream",
          "text": [
            "4\n"
          ]
        }
      ],
      "source": [
        "#Example 7: Python program to count the total number of digits in a number.\n",
        "\n",
        "digit = 1234\n",
        "digit = str(digit)\n",
        "count =0\n",
        "for i in digit:\n",
        "  count =count+1\n",
        "print(i)\n",
        "\n"
      ]
    },
    {
      "cell_type": "code",
      "source": [
        " \"\"\"Polymorphism\n",
        "Polymorphism lets us use the same method name for different classes, each having its own version of the method.\n",
        "For example, if multiple animals have a sound() method, each animal makes a different sound.\"\"\"\n",
        "class Animal:\n",
        "    def sound(self):\n",
        "        return \"Some sound\"\n",
        "\n",
        "class Dog(Animal):\n",
        "    def sound(self):\n",
        "        return \"Bark\"\n",
        "\n",
        "class Cat(Animal):\n",
        "    def sound(self):\n",
        "        return \"Meow\"\n",
        "\n",
        "animals = [Dog(), Cat(), Animal()]\n",
        "for animal in animals:\n",
        "    print(animal.sound())  # Outputs \"Bark\", \"Meow\", \"Some sound\"\n"
      ],
      "metadata": {
        "id": "E8jbI0fGDYo7"
      },
      "execution_count": null,
      "outputs": []
    },
    {
      "cell_type": "code",
      "execution_count": null,
      "metadata": {
        "colab": {
          "base_uri": "https://localhost:8080/"
        },
        "id": "i1uMbssTLT6F",
        "outputId": "7edc4f22-1032-4628-87f0-931bf0f1ac04"
      },
      "outputs": [
        {
          "name": "stdout",
          "output_type": "stream",
          "text": [
            "12321\n",
            "palindrom\n"
          ]
        }
      ],
      "source": [
        "#Example 8: Python program to check if the given string is a palindrome.\n",
        "\n",
        "num = int(input())\n",
        "num= str(num)\n",
        "if num[::-1]==num:\n",
        "  print(\"palindrom\")\n",
        "else:\n",
        "  print(\"not a palindrom\")"
      ]
    },
    {
      "cell_type": "code",
      "execution_count": null,
      "metadata": {
        "colab": {
          "base_uri": "https://localhost:8080/"
        },
        "id": "X5peaum8eWTd",
        "outputId": "967fcf70-32e3-44a3-a6fa-0dc972e72f72"
      },
      "outputs": [
        {
          "name": "stdout",
          "output_type": "stream",
          "text": [
            "yes\n"
          ]
        }
      ],
      "source": [
        "a = 12321\n",
        "a=str(a)    #---> convert the digit to string when the digit is given\n",
        "reverse =\"\"\n",
        "for i in a:\n",
        "  reverse =i+reverse\n",
        "if (reverse==a):\n",
        "   print(\"yes\")\n",
        "else:\n",
        "  print(\"no\")"
      ]
    },
    {
      "cell_type": "code",
      "execution_count": null,
      "metadata": {
        "colab": {
          "base_uri": "https://localhost:8080/"
        },
        "id": "gi8HSapxcaLc",
        "outputId": "3bd2e8f1-ec76-4410-dec9-7ee49bcbef9c"
      },
      "outputs": [
        {
          "name": "stdout",
          "output_type": "stream",
          "text": [
            "enter the word:-balu\n",
            "ulab\n"
          ]
        }
      ],
      "source": [
        "#Example 9: Python program that accepts a word from the user and reverses it.\n",
        "\n",
        "word = input(\"enter the word:-\")\n",
        "reverse=\"\"\n",
        "for i in word:\n",
        "  reverse =i+reverse\n",
        "  #if reverse==word:\n",
        "print(reverse)"
      ]
    },
    {
      "cell_type": "code",
      "execution_count": null,
      "metadata": {
        "id": "pRaX8mfBPvNg"
      },
      "outputs": [],
      "source": []
    },
    {
      "cell_type": "code",
      "execution_count": null,
      "metadata": {
        "colab": {
          "base_uri": "https://localhost:8080/"
        },
        "id": "eR_zNAhRhoL5",
        "outputId": "869c6adb-bc36-4584-90b4-b2757eafd007"
      },
      "outputs": [
        {
          "name": "stdout",
          "output_type": "stream",
          "text": [
            "153 is amstrong\n"
          ]
        }
      ],
      "source": [
        "#Example 10: Python program to check if a given number is an Armstrong number\n",
        "num = 153\n",
        "num=str(num)\n",
        "str_length= len(num)\n",
        "sum = 0\n",
        "for i in num:\n",
        "  sum+=int(i)**str_length\n",
        "if sum ==int(num):\n",
        "  print(f\"{num} is amstrong\")\n",
        "else:\n",
        "  print(f\"{num} is not an amstrong\")"
      ]
    },
    {
      "cell_type": "code",
      "execution_count": null,
      "metadata": {
        "colab": {
          "base_uri": "https://localhost:8080/"
        },
        "id": "MI-QjMwrkD2M",
        "outputId": "7af54c91-3237-4d14-d551-8f74a49fa0bf"
      },
      "outputs": [
        {
          "name": "stdout",
          "output_type": "stream",
          "text": [
            "5\n",
            "6\n"
          ]
        }
      ],
      "source": [
        "#Example 11: Python program to count the number of even and odd numbers from a series of numbers.\n",
        "a=[1,2,3,4,5,6,7,8,9,10,11]\n",
        "even=0\n",
        "odd=0\n",
        "for i in a:\n",
        "  if i%2==0:\n",
        "    even=even+1\n",
        "  elif i%2!=0:\n",
        "    odd+=1\n",
        "print(even)\n",
        "\n",
        "print(odd)\n"
      ]
    },
    {
      "cell_type": "code",
      "execution_count": null,
      "metadata": {
        "colab": {
          "base_uri": "https://localhost:8080/"
        },
        "id": "M0FjYYDZl-Aj",
        "outputId": "9455ab9f-5875-4928-8447-ad29b62d845e"
      },
      "outputs": [
        {
          "name": "stdout",
          "output_type": "stream",
          "text": [
            "10\n",
            "1\n",
            "2\n",
            "3\n",
            "4\n",
            "5\n"
          ]
        }
      ],
      "source": [
        "#Example 12: #Example 12: Python program to display all numbers within a range except the prime numbers.\n",
        "num = int(input())\n",
        "count=0\n",
        "for i in range(0,num+1):\n",
        "  if i%2!=0:\n",
        "    count+=1\n",
        "    print(count)\n"
      ]
    },
    {
      "cell_type": "code",
      "execution_count": null,
      "metadata": {
        "colab": {
          "base_uri": "https://localhost:8080/"
        },
        "id": "PvQnZy_ZR8OO",
        "outputId": "4c31737e-11f8-428a-b2e3-c2e9c026fe83"
      },
      "outputs": [
        {
          "name": "stdout",
          "output_type": "stream",
          "text": [
            " Please Enter the Minimum Value: 2\n",
            " Please Enter the Maximum Value: 20\n",
            " 2   3   4   6  "
          ]
        }
      ],
      "source": [
        "minimum = int(input(\" Please Enter the Minimum Value: \"))\n",
        "maximum = int(input(\" Please Enter the Maximum Value: \"))\n",
        "\n",
        "for Number in range (minimum, maximum + 1):\n",
        "    count = 0\n",
        "    for i in range(2, (Number//2 + 1)):\n",
        "        if(Number % i == 0):\n",
        "            count = count + 1\n",
        "            break\n",
        "\n",
        "    if (count == 0 and Number != 1):\n",
        "        print(\" %d\" %Number, end = '  ')"
      ]
    },
    {
      "cell_type": "code",
      "execution_count": null,
      "metadata": {
        "colab": {
          "base_uri": "https://localhost:8080/"
        },
        "id": "-iCquGAtV8o-",
        "outputId": "0f229a22-9986-49e6-bcfc-d6f59e43f3ba"
      },
      "outputs": [
        {
          "name": "stdout",
          "output_type": "stream",
          "text": [
            "10\n",
            "1\n",
            "3\n",
            "5\n",
            "7\n",
            "9\n"
          ]
        }
      ],
      "source": [
        "n= int(input())\n",
        "count=0\n",
        "while n>count:\n",
        "  if count%2!=0:\n",
        "    print(count)\n",
        "  count+=1"
      ]
    },
    {
      "cell_type": "code",
      "execution_count": null,
      "metadata": {
        "colab": {
          "base_uri": "https://localhost:8080/"
        },
        "id": "_b0WRKLxoOZX",
        "outputId": "a5b19561-a3a2-4b26-d2a7-6e361ee64fc3"
      },
      "outputs": [
        {
          "name": "stdout",
          "output_type": "stream",
          "text": [
            "enter the number:-10\n",
            "1\n",
            "2\n",
            "3\n",
            "5\n",
            "8\n",
            "13\n",
            "21\n",
            "34\n",
            "55\n",
            "89\n",
            "144\n"
          ]
        }
      ],
      "source": [
        "#Example 13: Python program to get the Fibonacci series between 0 to 50.\n",
        "n= int(input(\"enter the number:-\"))\n",
        "first_number = 0\n",
        "second_number = 1\n",
        "\n",
        "for i in range(0,n+1):\n",
        "  new_number=first_number+second_number\n",
        "  first_number=second_number\n",
        "  second_number=new_number\n",
        "  print(new_number)\n"
      ]
    },
    {
      "cell_type": "code",
      "execution_count": null,
      "metadata": {
        "colab": {
          "base_uri": "https://localhost:8080/"
        },
        "id": "GG27BeDTrskY",
        "outputId": "208e3bac-6229-4dc0-eb19-a7c0312d6ace"
      },
      "outputs": [
        {
          "name": "stdout",
          "output_type": "stream",
          "text": [
            "enter the number:-3\n",
            "6\n"
          ]
        }
      ],
      "source": [
        "#Example 14: Python program to find the factorial of a given number.\n",
        "\n",
        "a = int(input(\"enter the number:-\"))\n",
        "factorial=1\n",
        "for i in range (1,a+1):\n",
        "  factorial=factorial*i\n",
        "print(factorial)"
      ]
    },
    {
      "cell_type": "code",
      "execution_count": null,
      "metadata": {
        "colab": {
          "base_uri": "https://localhost:8080/"
        },
        "id": "2BUc0gfm0z9F",
        "outputId": "902838b4-feeb-4422-8ad0-99092dc0f64d"
      },
      "outputs": [
        {
          "name": "stdout",
          "output_type": "stream",
          "text": [
            "enter the string:-cvbn23\n",
            "4\n",
            "2\n"
          ]
        }
      ],
      "source": [
        "#Example 15: Python program that accepts a string and calculates the number of digits and letters.\n",
        "a = input(\"enter the string:-\")\n",
        "words=0\n",
        "digits=0\n",
        "for i in a:\n",
        "  if i.isdigit():\n",
        "    digits=digits+1\n",
        "  if i.isalpha():\n",
        "    words=words+1\n",
        "print(words)\n",
        "print(digits)"
      ]
    },
    {
      "cell_type": "code",
      "execution_count": null,
      "metadata": {
        "colab": {
          "base_uri": "https://localhost:8080/"
        },
        "id": "hDP-iDuo3M4g",
        "outputId": "baf6d47c-9777-40d5-9900-6fa507044eb3"
      },
      "outputs": [
        {
          "name": "stdout",
          "output_type": "stream",
          "text": [
            "25\n",
            "fizzbuzz\n",
            "1\n",
            "2\n",
            "3\n",
            "fizz\n",
            "buzz\n",
            "6\n",
            "7\n",
            "fizz\n",
            "9\n",
            "buzz\n",
            "11\n",
            "fizz\n",
            "13\n",
            "14\n",
            "buzz\n",
            "fizz\n",
            "17\n",
            "18\n",
            "19\n",
            "fizzbuzz\n",
            "21\n",
            "22\n",
            "23\n",
            "fizz\n",
            "buzz\n"
          ]
        }
      ],
      "source": [
        "#Example 16: Write a Python program that iterates the integers from 1 to 25.\n",
        "a = int(input())\n",
        "for i in range(a+1):\n",
        "  if i%4==0 and i%5==0:\n",
        "    print(\"fizzbuzz\")\n",
        "    continue\n",
        "  if i%4==0 and i%5 !=0:\n",
        "    print(\"fizz\")\n",
        "    continue\n",
        "  if i%5==0 and i%4 !=0:\n",
        "    print(\"buzz\")\n",
        "  else:\n",
        "    print(i)\n"
      ]
    },
    {
      "cell_type": "code",
      "execution_count": null,
      "metadata": {
        "colab": {
          "base_uri": "https://localhost:8080/"
        },
        "id": "N8Uo4cqHLj20",
        "outputId": "d250a311-9b91-4aaa-8c7f-fa501184ee46"
      },
      "outputs": [
        {
          "name": "stdout",
          "output_type": "stream",
          "text": [
            "enter the number:456\n",
            "enter the number:rty\n",
            "invalid password\n"
          ]
        }
      ],
      "source": [
        "a= int(input(\"enter the number:\"))\n",
        "b=input(\"enter the number:\")\n",
        "if a==123 and b==\"qwe\":\n",
        "  print(\"this is valid password\")\n",
        "else:\n",
        "  print(\"invalid password\")"
      ]
    },
    {
      "cell_type": "markdown",
      "source": [
        "#PANDAS"
      ],
      "metadata": {
        "id": "zsUtC7B1YyYZ"
      }
    },
    {
      "cell_type": "code",
      "execution_count": null,
      "metadata": {
        "id": "r7oScPQyQkIA",
        "colab": {
          "base_uri": "https://localhost:8080/"
        },
        "outputId": "6d5cfc77-8d07-4317-a0c9-d48c9b4e6727"
      },
      "outputs": [
        {
          "output_type": "stream",
          "name": "stdout",
          "text": [
            "cal       20\n",
            "weight    70\n",
            "Name: day2, dtype: int64\n"
          ]
        }
      ],
      "source": [
        "import pandas as pd\n",
        "cal={\n",
        "    \"cal\":[10,20,30],\n",
        "    \"weight\":[50,70,90],\n",
        "}\n",
        "var=pd.DataFrame(cal,index=[\"day1\", \"day2\",\"day3\"])\n",
        "\n",
        "print(var.loc[\"day2\"])"
      ]
    },
    {
      "cell_type": "markdown",
      "source": [
        "#**SQL**"
      ],
      "metadata": {
        "id": "inIMas8jidln"
      }
    },
    {
      "cell_type": "code",
      "source": [],
      "metadata": {
        "id": "g6Y5hhePwPYP"
      },
      "execution_count": null,
      "outputs": []
    },
    {
      "cell_type": "code",
      "source": [
        "df=pd.read_csv(\"data.csv\")\n",
        "print(df.head())"
      ],
      "metadata": {
        "colab": {
          "base_uri": "https://localhost:8080/"
        },
        "id": "mgIjtsF4sBAq",
        "outputId": "33f83796-553c-4188-cdde-b7baf1feafb4"
      },
      "execution_count": null,
      "outputs": [
        {
          "output_type": "stream",
          "name": "stdout",
          "text": [
            "   Duration  Pulse  Maxpulse  Calories\n",
            "0        60    110       130     409.1\n",
            "1        60    117       145     479.0\n",
            "2        60    103       135     340.0\n",
            "3        45    109       175     282.4\n",
            "4        45    117       148     406.0\n"
          ]
        }
      ]
    },
    {
      "cell_type": "code",
      "source": [
        "df[\"adult\"].fillna(130, inplace = True)\n",
        "df\n"
      ],
      "metadata": {
        "colab": {
          "base_uri": "https://localhost:8080/",
          "height": 1000
        },
        "id": "BXbRaUCDsfRB",
        "outputId": "1e3430be-eb3d-4fa5-a326-b3e9b0d3b37f"
      },
      "execution_count": null,
      "outputs": [
        {
          "output_type": "execute_result",
          "data": {
            "text/plain": [
              "       adult                              belongs_to_collection    budget  \\\n",
              "0      False  {'id': 10194, 'name': 'Toy Story Collection', ...  30000000   \n",
              "1      False                                                 10  65000000   \n",
              "2      False  {'id': 119050, 'name': 'Grumpy Old Men Collect...         0   \n",
              "3      False                                                 10  16000000   \n",
              "4      False  {'id': 96871, 'name': 'Father of the Bride Col...         0   \n",
              "...      ...                                                ...       ...   \n",
              "28065  False                                                 10         0   \n",
              "28066  False                                                 10         0   \n",
              "28067  False                                                 10         0   \n",
              "28068  False                                                 10         0   \n",
              "28069  False                                                 10         0   \n",
              "\n",
              "                                                  genres  \\\n",
              "0      [{'id': 16, 'name': 'Animation'}, {'id': 35, '...   \n",
              "1      [{'id': 12, 'name': 'Adventure'}, {'id': 14, '...   \n",
              "2      [{'id': 10749, 'name': 'Romance'}, {'id': 35, ...   \n",
              "3      [{'id': 35, 'name': 'Comedy'}, {'id': 18, 'nam...   \n",
              "4                         [{'id': 35, 'name': 'Comedy'}]   \n",
              "...                                                  ...   \n",
              "28065                      [{'id': 18, 'name': 'Drama'}]   \n",
              "28066  [{'id': 35, 'name': 'Comedy'}, {'id': 18, 'nam...   \n",
              "28067  [{'id': 10749, 'name': 'Romance'}, {'id': 53, ...   \n",
              "28068  [{'id': 18, 'name': 'Drama'}, {'id': 53, 'name...   \n",
              "28069  [{'id': 16, 'name': 'Animation'}, {'id': 10751...   \n",
              "\n",
              "                                                homepage      id    imdb_id  \\\n",
              "0                   http://toystory.disney.com/toy-story     862  tt0114709   \n",
              "1                                                     10    8844  tt0113497   \n",
              "2                                                     10   15602  tt0113228   \n",
              "3                                                     10   31357  tt0114885   \n",
              "4                                                     10   11862  tt0113041   \n",
              "...                                                  ...     ...        ...   \n",
              "28065  http://channel.nationalgeographic.com/channel/...  235093  tt2815030   \n",
              "28066                                                 10  212836  tt3091242   \n",
              "28067                                                 10  166089  tt2378079   \n",
              "28068                                                 10   29275  tt1458527   \n",
              "28069                                                 10   13351  tt0192578   \n",
              "\n",
              "      original_language                original_title  \\\n",
              "0                    en                     Toy Story   \n",
              "1                    en                       Jumanji   \n",
              "2                    en              Grumpier Old Men   \n",
              "3                    en             Waiting to Exhale   \n",
              "4                    en   Father of the Bride Part II   \n",
              "...                 ...                           ...   \n",
              "28065                en               Killing Kennedy   \n",
              "28066                en               Gente en sitios   \n",
              "28067                es             Alacrán enamorado   \n",
              "28068                en                         Anita   \n",
              "28069                en  Scooby-Doo in Arabian Nights   \n",
              "\n",
              "                                                overview  ...  release_date  \\\n",
              "0      Led by Woody, Andy's toys live happily in his ...  ...    1995-10-30   \n",
              "1      When siblings Judy and Peter discover an encha...  ...    1995-12-15   \n",
              "2      A family wedding reignites the ancient feud be...  ...    1995-12-22   \n",
              "3      Cheated on, mistreated and stepped on, the wom...  ...    1995-12-22   \n",
              "4      Just when George Banks has recovered from his ...  ...    1995-02-10   \n",
              "...                                                  ...  ...           ...   \n",
              "28065  Drama documentary based on Bill O'Reilly's and...  ...    2013-11-10   \n",
              "28066  This kaleidoscopic film weaves together approx...  ...    2013-12-20   \n",
              "28067  Julian (Álex González) and his friend Luis (Mi...  ...    2013-04-12   \n",
              "28068  Anita is the story of a young woman with Down ...  ...    2009-10-15   \n",
              "28069  Scooby-Doo and Shaggy travel to Arabia to beco...  ...            10   \n",
              "\n",
              "           revenue runtime                                   spoken_languages  \\\n",
              "0      373554033.0    81.0           [{'iso_639_1': 'en', 'name': 'English'}]   \n",
              "1      262797249.0   104.0  [{'iso_639_1': 'en', 'name': 'English'}, {'iso...   \n",
              "2              0.0   101.0           [{'iso_639_1': 'en', 'name': 'English'}]   \n",
              "3       81452156.0   127.0           [{'iso_639_1': 'en', 'name': 'English'}]   \n",
              "4       76578911.0   106.0           [{'iso_639_1': 'en', 'name': 'English'}]   \n",
              "...            ...     ...                                                ...   \n",
              "28065          0.0    87.0           [{'iso_639_1': 'en', 'name': 'English'}]   \n",
              "28066          0.0    83.0           [{'iso_639_1': 'es', 'name': 'Español'}]   \n",
              "28067          0.0   100.0           [{'iso_639_1': 'es', 'name': 'Español'}]   \n",
              "28068          0.0   104.0  [{'iso_639_1': 'zh', 'name': '普通话'}, {'iso_639...   \n",
              "28069         10.0    10.0                                                 10   \n",
              "\n",
              "         status                                            tagline  \\\n",
              "0      Released                                                 10   \n",
              "1      Released          Roll the dice and unleash the excitement!   \n",
              "2      Released  Still Yelling. Still Fighting. Still Ready for...   \n",
              "3      Released  Friends are the people who let you be yourself...   \n",
              "4      Released  Just When His World Is Back To Normal... He's ...   \n",
              "...         ...                                                ...   \n",
              "28065  Released                                                 10   \n",
              "28066  Released                                                 10   \n",
              "28067  Released                                                 10   \n",
              "28068  Released                                                 10   \n",
              "28069        10                                                 10   \n",
              "\n",
              "                             title  video vote_average vote_count  \n",
              "0                        Toy Story  False          7.7     5415.0  \n",
              "1                          Jumanji  False          6.9     2413.0  \n",
              "2                 Grumpier Old Men  False          6.5       92.0  \n",
              "3                Waiting to Exhale  False          6.1       34.0  \n",
              "4      Father of the Bride Part II  False          5.7      173.0  \n",
              "...                            ...    ...          ...        ...  \n",
              "28065              Killing Kennedy  False          5.5       34.0  \n",
              "28066             People in Places  False          5.0        2.0  \n",
              "28067             Scorpion in Love  False          6.9        7.0  \n",
              "28068                        Anita  False          6.1        5.0  \n",
              "28069                           10     10         10.0       10.0  \n",
              "\n",
              "[28070 rows x 24 columns]"
            ],
            "text/html": [
              "\n",
              "  <div id=\"df-9cb765e2-2809-407a-be81-72e33d351d1b\" class=\"colab-df-container\">\n",
              "    <div>\n",
              "<style scoped>\n",
              "    .dataframe tbody tr th:only-of-type {\n",
              "        vertical-align: middle;\n",
              "    }\n",
              "\n",
              "    .dataframe tbody tr th {\n",
              "        vertical-align: top;\n",
              "    }\n",
              "\n",
              "    .dataframe thead th {\n",
              "        text-align: right;\n",
              "    }\n",
              "</style>\n",
              "<table border=\"1\" class=\"dataframe\">\n",
              "  <thead>\n",
              "    <tr style=\"text-align: right;\">\n",
              "      <th></th>\n",
              "      <th>adult</th>\n",
              "      <th>belongs_to_collection</th>\n",
              "      <th>budget</th>\n",
              "      <th>genres</th>\n",
              "      <th>homepage</th>\n",
              "      <th>id</th>\n",
              "      <th>imdb_id</th>\n",
              "      <th>original_language</th>\n",
              "      <th>original_title</th>\n",
              "      <th>overview</th>\n",
              "      <th>...</th>\n",
              "      <th>release_date</th>\n",
              "      <th>revenue</th>\n",
              "      <th>runtime</th>\n",
              "      <th>spoken_languages</th>\n",
              "      <th>status</th>\n",
              "      <th>tagline</th>\n",
              "      <th>title</th>\n",
              "      <th>video</th>\n",
              "      <th>vote_average</th>\n",
              "      <th>vote_count</th>\n",
              "    </tr>\n",
              "  </thead>\n",
              "  <tbody>\n",
              "    <tr>\n",
              "      <th>0</th>\n",
              "      <td>False</td>\n",
              "      <td>{'id': 10194, 'name': 'Toy Story Collection', ...</td>\n",
              "      <td>30000000</td>\n",
              "      <td>[{'id': 16, 'name': 'Animation'}, {'id': 35, '...</td>\n",
              "      <td>http://toystory.disney.com/toy-story</td>\n",
              "      <td>862</td>\n",
              "      <td>tt0114709</td>\n",
              "      <td>en</td>\n",
              "      <td>Toy Story</td>\n",
              "      <td>Led by Woody, Andy's toys live happily in his ...</td>\n",
              "      <td>...</td>\n",
              "      <td>1995-10-30</td>\n",
              "      <td>373554033.0</td>\n",
              "      <td>81.0</td>\n",
              "      <td>[{'iso_639_1': 'en', 'name': 'English'}]</td>\n",
              "      <td>Released</td>\n",
              "      <td>10</td>\n",
              "      <td>Toy Story</td>\n",
              "      <td>False</td>\n",
              "      <td>7.7</td>\n",
              "      <td>5415.0</td>\n",
              "    </tr>\n",
              "    <tr>\n",
              "      <th>1</th>\n",
              "      <td>False</td>\n",
              "      <td>10</td>\n",
              "      <td>65000000</td>\n",
              "      <td>[{'id': 12, 'name': 'Adventure'}, {'id': 14, '...</td>\n",
              "      <td>10</td>\n",
              "      <td>8844</td>\n",
              "      <td>tt0113497</td>\n",
              "      <td>en</td>\n",
              "      <td>Jumanji</td>\n",
              "      <td>When siblings Judy and Peter discover an encha...</td>\n",
              "      <td>...</td>\n",
              "      <td>1995-12-15</td>\n",
              "      <td>262797249.0</td>\n",
              "      <td>104.0</td>\n",
              "      <td>[{'iso_639_1': 'en', 'name': 'English'}, {'iso...</td>\n",
              "      <td>Released</td>\n",
              "      <td>Roll the dice and unleash the excitement!</td>\n",
              "      <td>Jumanji</td>\n",
              "      <td>False</td>\n",
              "      <td>6.9</td>\n",
              "      <td>2413.0</td>\n",
              "    </tr>\n",
              "    <tr>\n",
              "      <th>2</th>\n",
              "      <td>False</td>\n",
              "      <td>{'id': 119050, 'name': 'Grumpy Old Men Collect...</td>\n",
              "      <td>0</td>\n",
              "      <td>[{'id': 10749, 'name': 'Romance'}, {'id': 35, ...</td>\n",
              "      <td>10</td>\n",
              "      <td>15602</td>\n",
              "      <td>tt0113228</td>\n",
              "      <td>en</td>\n",
              "      <td>Grumpier Old Men</td>\n",
              "      <td>A family wedding reignites the ancient feud be...</td>\n",
              "      <td>...</td>\n",
              "      <td>1995-12-22</td>\n",
              "      <td>0.0</td>\n",
              "      <td>101.0</td>\n",
              "      <td>[{'iso_639_1': 'en', 'name': 'English'}]</td>\n",
              "      <td>Released</td>\n",
              "      <td>Still Yelling. Still Fighting. Still Ready for...</td>\n",
              "      <td>Grumpier Old Men</td>\n",
              "      <td>False</td>\n",
              "      <td>6.5</td>\n",
              "      <td>92.0</td>\n",
              "    </tr>\n",
              "    <tr>\n",
              "      <th>3</th>\n",
              "      <td>False</td>\n",
              "      <td>10</td>\n",
              "      <td>16000000</td>\n",
              "      <td>[{'id': 35, 'name': 'Comedy'}, {'id': 18, 'nam...</td>\n",
              "      <td>10</td>\n",
              "      <td>31357</td>\n",
              "      <td>tt0114885</td>\n",
              "      <td>en</td>\n",
              "      <td>Waiting to Exhale</td>\n",
              "      <td>Cheated on, mistreated and stepped on, the wom...</td>\n",
              "      <td>...</td>\n",
              "      <td>1995-12-22</td>\n",
              "      <td>81452156.0</td>\n",
              "      <td>127.0</td>\n",
              "      <td>[{'iso_639_1': 'en', 'name': 'English'}]</td>\n",
              "      <td>Released</td>\n",
              "      <td>Friends are the people who let you be yourself...</td>\n",
              "      <td>Waiting to Exhale</td>\n",
              "      <td>False</td>\n",
              "      <td>6.1</td>\n",
              "      <td>34.0</td>\n",
              "    </tr>\n",
              "    <tr>\n",
              "      <th>4</th>\n",
              "      <td>False</td>\n",
              "      <td>{'id': 96871, 'name': 'Father of the Bride Col...</td>\n",
              "      <td>0</td>\n",
              "      <td>[{'id': 35, 'name': 'Comedy'}]</td>\n",
              "      <td>10</td>\n",
              "      <td>11862</td>\n",
              "      <td>tt0113041</td>\n",
              "      <td>en</td>\n",
              "      <td>Father of the Bride Part II</td>\n",
              "      <td>Just when George Banks has recovered from his ...</td>\n",
              "      <td>...</td>\n",
              "      <td>1995-02-10</td>\n",
              "      <td>76578911.0</td>\n",
              "      <td>106.0</td>\n",
              "      <td>[{'iso_639_1': 'en', 'name': 'English'}]</td>\n",
              "      <td>Released</td>\n",
              "      <td>Just When His World Is Back To Normal... He's ...</td>\n",
              "      <td>Father of the Bride Part II</td>\n",
              "      <td>False</td>\n",
              "      <td>5.7</td>\n",
              "      <td>173.0</td>\n",
              "    </tr>\n",
              "    <tr>\n",
              "      <th>...</th>\n",
              "      <td>...</td>\n",
              "      <td>...</td>\n",
              "      <td>...</td>\n",
              "      <td>...</td>\n",
              "      <td>...</td>\n",
              "      <td>...</td>\n",
              "      <td>...</td>\n",
              "      <td>...</td>\n",
              "      <td>...</td>\n",
              "      <td>...</td>\n",
              "      <td>...</td>\n",
              "      <td>...</td>\n",
              "      <td>...</td>\n",
              "      <td>...</td>\n",
              "      <td>...</td>\n",
              "      <td>...</td>\n",
              "      <td>...</td>\n",
              "      <td>...</td>\n",
              "      <td>...</td>\n",
              "      <td>...</td>\n",
              "      <td>...</td>\n",
              "    </tr>\n",
              "    <tr>\n",
              "      <th>28065</th>\n",
              "      <td>False</td>\n",
              "      <td>10</td>\n",
              "      <td>0</td>\n",
              "      <td>[{'id': 18, 'name': 'Drama'}]</td>\n",
              "      <td>http://channel.nationalgeographic.com/channel/...</td>\n",
              "      <td>235093</td>\n",
              "      <td>tt2815030</td>\n",
              "      <td>en</td>\n",
              "      <td>Killing Kennedy</td>\n",
              "      <td>Drama documentary based on Bill O'Reilly's and...</td>\n",
              "      <td>...</td>\n",
              "      <td>2013-11-10</td>\n",
              "      <td>0.0</td>\n",
              "      <td>87.0</td>\n",
              "      <td>[{'iso_639_1': 'en', 'name': 'English'}]</td>\n",
              "      <td>Released</td>\n",
              "      <td>10</td>\n",
              "      <td>Killing Kennedy</td>\n",
              "      <td>False</td>\n",
              "      <td>5.5</td>\n",
              "      <td>34.0</td>\n",
              "    </tr>\n",
              "    <tr>\n",
              "      <th>28066</th>\n",
              "      <td>False</td>\n",
              "      <td>10</td>\n",
              "      <td>0</td>\n",
              "      <td>[{'id': 35, 'name': 'Comedy'}, {'id': 18, 'nam...</td>\n",
              "      <td>10</td>\n",
              "      <td>212836</td>\n",
              "      <td>tt3091242</td>\n",
              "      <td>en</td>\n",
              "      <td>Gente en sitios</td>\n",
              "      <td>This kaleidoscopic film weaves together approx...</td>\n",
              "      <td>...</td>\n",
              "      <td>2013-12-20</td>\n",
              "      <td>0.0</td>\n",
              "      <td>83.0</td>\n",
              "      <td>[{'iso_639_1': 'es', 'name': 'Español'}]</td>\n",
              "      <td>Released</td>\n",
              "      <td>10</td>\n",
              "      <td>People in Places</td>\n",
              "      <td>False</td>\n",
              "      <td>5.0</td>\n",
              "      <td>2.0</td>\n",
              "    </tr>\n",
              "    <tr>\n",
              "      <th>28067</th>\n",
              "      <td>False</td>\n",
              "      <td>10</td>\n",
              "      <td>0</td>\n",
              "      <td>[{'id': 10749, 'name': 'Romance'}, {'id': 53, ...</td>\n",
              "      <td>10</td>\n",
              "      <td>166089</td>\n",
              "      <td>tt2378079</td>\n",
              "      <td>es</td>\n",
              "      <td>Alacrán enamorado</td>\n",
              "      <td>Julian (Álex González) and his friend Luis (Mi...</td>\n",
              "      <td>...</td>\n",
              "      <td>2013-04-12</td>\n",
              "      <td>0.0</td>\n",
              "      <td>100.0</td>\n",
              "      <td>[{'iso_639_1': 'es', 'name': 'Español'}]</td>\n",
              "      <td>Released</td>\n",
              "      <td>10</td>\n",
              "      <td>Scorpion in Love</td>\n",
              "      <td>False</td>\n",
              "      <td>6.9</td>\n",
              "      <td>7.0</td>\n",
              "    </tr>\n",
              "    <tr>\n",
              "      <th>28068</th>\n",
              "      <td>False</td>\n",
              "      <td>10</td>\n",
              "      <td>0</td>\n",
              "      <td>[{'id': 18, 'name': 'Drama'}, {'id': 53, 'name...</td>\n",
              "      <td>10</td>\n",
              "      <td>29275</td>\n",
              "      <td>tt1458527</td>\n",
              "      <td>en</td>\n",
              "      <td>Anita</td>\n",
              "      <td>Anita is the story of a young woman with Down ...</td>\n",
              "      <td>...</td>\n",
              "      <td>2009-10-15</td>\n",
              "      <td>0.0</td>\n",
              "      <td>104.0</td>\n",
              "      <td>[{'iso_639_1': 'zh', 'name': '普通话'}, {'iso_639...</td>\n",
              "      <td>Released</td>\n",
              "      <td>10</td>\n",
              "      <td>Anita</td>\n",
              "      <td>False</td>\n",
              "      <td>6.1</td>\n",
              "      <td>5.0</td>\n",
              "    </tr>\n",
              "    <tr>\n",
              "      <th>28069</th>\n",
              "      <td>False</td>\n",
              "      <td>10</td>\n",
              "      <td>0</td>\n",
              "      <td>[{'id': 16, 'name': 'Animation'}, {'id': 10751...</td>\n",
              "      <td>10</td>\n",
              "      <td>13351</td>\n",
              "      <td>tt0192578</td>\n",
              "      <td>en</td>\n",
              "      <td>Scooby-Doo in Arabian Nights</td>\n",
              "      <td>Scooby-Doo and Shaggy travel to Arabia to beco...</td>\n",
              "      <td>...</td>\n",
              "      <td>10</td>\n",
              "      <td>10.0</td>\n",
              "      <td>10.0</td>\n",
              "      <td>10</td>\n",
              "      <td>10</td>\n",
              "      <td>10</td>\n",
              "      <td>10</td>\n",
              "      <td>10</td>\n",
              "      <td>10.0</td>\n",
              "      <td>10.0</td>\n",
              "    </tr>\n",
              "  </tbody>\n",
              "</table>\n",
              "<p>28070 rows × 24 columns</p>\n",
              "</div>\n",
              "    <div class=\"colab-df-buttons\">\n",
              "\n",
              "  <div class=\"colab-df-container\">\n",
              "    <button class=\"colab-df-convert\" onclick=\"convertToInteractive('df-9cb765e2-2809-407a-be81-72e33d351d1b')\"\n",
              "            title=\"Convert this dataframe to an interactive table.\"\n",
              "            style=\"display:none;\">\n",
              "\n",
              "  <svg xmlns=\"http://www.w3.org/2000/svg\" height=\"24px\" viewBox=\"0 -960 960 960\">\n",
              "    <path d=\"M120-120v-720h720v720H120Zm60-500h600v-160H180v160Zm220 220h160v-160H400v160Zm0 220h160v-160H400v160ZM180-400h160v-160H180v160Zm440 0h160v-160H620v160ZM180-180h160v-160H180v160Zm440 0h160v-160H620v160Z\"/>\n",
              "  </svg>\n",
              "    </button>\n",
              "\n",
              "  <style>\n",
              "    .colab-df-container {\n",
              "      display:flex;\n",
              "      gap: 12px;\n",
              "    }\n",
              "\n",
              "    .colab-df-convert {\n",
              "      background-color: #E8F0FE;\n",
              "      border: none;\n",
              "      border-radius: 50%;\n",
              "      cursor: pointer;\n",
              "      display: none;\n",
              "      fill: #1967D2;\n",
              "      height: 32px;\n",
              "      padding: 0 0 0 0;\n",
              "      width: 32px;\n",
              "    }\n",
              "\n",
              "    .colab-df-convert:hover {\n",
              "      background-color: #E2EBFA;\n",
              "      box-shadow: 0px 1px 2px rgba(60, 64, 67, 0.3), 0px 1px 3px 1px rgba(60, 64, 67, 0.15);\n",
              "      fill: #174EA6;\n",
              "    }\n",
              "\n",
              "    .colab-df-buttons div {\n",
              "      margin-bottom: 4px;\n",
              "    }\n",
              "\n",
              "    [theme=dark] .colab-df-convert {\n",
              "      background-color: #3B4455;\n",
              "      fill: #D2E3FC;\n",
              "    }\n",
              "\n",
              "    [theme=dark] .colab-df-convert:hover {\n",
              "      background-color: #434B5C;\n",
              "      box-shadow: 0px 1px 3px 1px rgba(0, 0, 0, 0.15);\n",
              "      filter: drop-shadow(0px 1px 2px rgba(0, 0, 0, 0.3));\n",
              "      fill: #FFFFFF;\n",
              "    }\n",
              "  </style>\n",
              "\n",
              "    <script>\n",
              "      const buttonEl =\n",
              "        document.querySelector('#df-9cb765e2-2809-407a-be81-72e33d351d1b button.colab-df-convert');\n",
              "      buttonEl.style.display =\n",
              "        google.colab.kernel.accessAllowed ? 'block' : 'none';\n",
              "\n",
              "      async function convertToInteractive(key) {\n",
              "        const element = document.querySelector('#df-9cb765e2-2809-407a-be81-72e33d351d1b');\n",
              "        const dataTable =\n",
              "          await google.colab.kernel.invokeFunction('convertToInteractive',\n",
              "                                                    [key], {});\n",
              "        if (!dataTable) return;\n",
              "\n",
              "        const docLinkHtml = 'Like what you see? Visit the ' +\n",
              "          '<a target=\"_blank\" href=https://colab.research.google.com/notebooks/data_table.ipynb>data table notebook</a>'\n",
              "          + ' to learn more about interactive tables.';\n",
              "        element.innerHTML = '';\n",
              "        dataTable['output_type'] = 'display_data';\n",
              "        await google.colab.output.renderOutput(dataTable, element);\n",
              "        const docLink = document.createElement('div');\n",
              "        docLink.innerHTML = docLinkHtml;\n",
              "        element.appendChild(docLink);\n",
              "      }\n",
              "    </script>\n",
              "  </div>\n",
              "\n",
              "\n",
              "<div id=\"df-b1bbb8f3-90f3-41ba-97a0-33d53b4f0ec6\">\n",
              "  <button class=\"colab-df-quickchart\" onclick=\"quickchart('df-b1bbb8f3-90f3-41ba-97a0-33d53b4f0ec6')\"\n",
              "            title=\"Suggest charts\"\n",
              "            style=\"display:none;\">\n",
              "\n",
              "<svg xmlns=\"http://www.w3.org/2000/svg\" height=\"24px\"viewBox=\"0 0 24 24\"\n",
              "     width=\"24px\">\n",
              "    <g>\n",
              "        <path d=\"M19 3H5c-1.1 0-2 .9-2 2v14c0 1.1.9 2 2 2h14c1.1 0 2-.9 2-2V5c0-1.1-.9-2-2-2zM9 17H7v-7h2v7zm4 0h-2V7h2v10zm4 0h-2v-4h2v4z\"/>\n",
              "    </g>\n",
              "</svg>\n",
              "  </button>\n",
              "\n",
              "<style>\n",
              "  .colab-df-quickchart {\n",
              "      --bg-color: #E8F0FE;\n",
              "      --fill-color: #1967D2;\n",
              "      --hover-bg-color: #E2EBFA;\n",
              "      --hover-fill-color: #174EA6;\n",
              "      --disabled-fill-color: #AAA;\n",
              "      --disabled-bg-color: #DDD;\n",
              "  }\n",
              "\n",
              "  [theme=dark] .colab-df-quickchart {\n",
              "      --bg-color: #3B4455;\n",
              "      --fill-color: #D2E3FC;\n",
              "      --hover-bg-color: #434B5C;\n",
              "      --hover-fill-color: #FFFFFF;\n",
              "      --disabled-bg-color: #3B4455;\n",
              "      --disabled-fill-color: #666;\n",
              "  }\n",
              "\n",
              "  .colab-df-quickchart {\n",
              "    background-color: var(--bg-color);\n",
              "    border: none;\n",
              "    border-radius: 50%;\n",
              "    cursor: pointer;\n",
              "    display: none;\n",
              "    fill: var(--fill-color);\n",
              "    height: 32px;\n",
              "    padding: 0;\n",
              "    width: 32px;\n",
              "  }\n",
              "\n",
              "  .colab-df-quickchart:hover {\n",
              "    background-color: var(--hover-bg-color);\n",
              "    box-shadow: 0 1px 2px rgba(60, 64, 67, 0.3), 0 1px 3px 1px rgba(60, 64, 67, 0.15);\n",
              "    fill: var(--button-hover-fill-color);\n",
              "  }\n",
              "\n",
              "  .colab-df-quickchart-complete:disabled,\n",
              "  .colab-df-quickchart-complete:disabled:hover {\n",
              "    background-color: var(--disabled-bg-color);\n",
              "    fill: var(--disabled-fill-color);\n",
              "    box-shadow: none;\n",
              "  }\n",
              "\n",
              "  .colab-df-spinner {\n",
              "    border: 2px solid var(--fill-color);\n",
              "    border-color: transparent;\n",
              "    border-bottom-color: var(--fill-color);\n",
              "    animation:\n",
              "      spin 1s steps(1) infinite;\n",
              "  }\n",
              "\n",
              "  @keyframes spin {\n",
              "    0% {\n",
              "      border-color: transparent;\n",
              "      border-bottom-color: var(--fill-color);\n",
              "      border-left-color: var(--fill-color);\n",
              "    }\n",
              "    20% {\n",
              "      border-color: transparent;\n",
              "      border-left-color: var(--fill-color);\n",
              "      border-top-color: var(--fill-color);\n",
              "    }\n",
              "    30% {\n",
              "      border-color: transparent;\n",
              "      border-left-color: var(--fill-color);\n",
              "      border-top-color: var(--fill-color);\n",
              "      border-right-color: var(--fill-color);\n",
              "    }\n",
              "    40% {\n",
              "      border-color: transparent;\n",
              "      border-right-color: var(--fill-color);\n",
              "      border-top-color: var(--fill-color);\n",
              "    }\n",
              "    60% {\n",
              "      border-color: transparent;\n",
              "      border-right-color: var(--fill-color);\n",
              "    }\n",
              "    80% {\n",
              "      border-color: transparent;\n",
              "      border-right-color: var(--fill-color);\n",
              "      border-bottom-color: var(--fill-color);\n",
              "    }\n",
              "    90% {\n",
              "      border-color: transparent;\n",
              "      border-bottom-color: var(--fill-color);\n",
              "    }\n",
              "  }\n",
              "</style>\n",
              "\n",
              "  <script>\n",
              "    async function quickchart(key) {\n",
              "      const quickchartButtonEl =\n",
              "        document.querySelector('#' + key + ' button');\n",
              "      quickchartButtonEl.disabled = true;  // To prevent multiple clicks.\n",
              "      quickchartButtonEl.classList.add('colab-df-spinner');\n",
              "      try {\n",
              "        const charts = await google.colab.kernel.invokeFunction(\n",
              "            'suggestCharts', [key], {});\n",
              "      } catch (error) {\n",
              "        console.error('Error during call to suggestCharts:', error);\n",
              "      }\n",
              "      quickchartButtonEl.classList.remove('colab-df-spinner');\n",
              "      quickchartButtonEl.classList.add('colab-df-quickchart-complete');\n",
              "    }\n",
              "    (() => {\n",
              "      let quickchartButtonEl =\n",
              "        document.querySelector('#df-b1bbb8f3-90f3-41ba-97a0-33d53b4f0ec6 button');\n",
              "      quickchartButtonEl.style.display =\n",
              "        google.colab.kernel.accessAllowed ? 'block' : 'none';\n",
              "    })();\n",
              "  </script>\n",
              "</div>\n",
              "\n",
              "  <div id=\"id_10cd52db-2eb6-4b1c-9ad5-77c7c307f11a\">\n",
              "    <style>\n",
              "      .colab-df-generate {\n",
              "        background-color: #E8F0FE;\n",
              "        border: none;\n",
              "        border-radius: 50%;\n",
              "        cursor: pointer;\n",
              "        display: none;\n",
              "        fill: #1967D2;\n",
              "        height: 32px;\n",
              "        padding: 0 0 0 0;\n",
              "        width: 32px;\n",
              "      }\n",
              "\n",
              "      .colab-df-generate:hover {\n",
              "        background-color: #E2EBFA;\n",
              "        box-shadow: 0px 1px 2px rgba(60, 64, 67, 0.3), 0px 1px 3px 1px rgba(60, 64, 67, 0.15);\n",
              "        fill: #174EA6;\n",
              "      }\n",
              "\n",
              "      [theme=dark] .colab-df-generate {\n",
              "        background-color: #3B4455;\n",
              "        fill: #D2E3FC;\n",
              "      }\n",
              "\n",
              "      [theme=dark] .colab-df-generate:hover {\n",
              "        background-color: #434B5C;\n",
              "        box-shadow: 0px 1px 3px 1px rgba(0, 0, 0, 0.15);\n",
              "        filter: drop-shadow(0px 1px 2px rgba(0, 0, 0, 0.3));\n",
              "        fill: #FFFFFF;\n",
              "      }\n",
              "    </style>\n",
              "    <button class=\"colab-df-generate\" onclick=\"generateWithVariable('df')\"\n",
              "            title=\"Generate code using this dataframe.\"\n",
              "            style=\"display:none;\">\n",
              "\n",
              "  <svg xmlns=\"http://www.w3.org/2000/svg\" height=\"24px\"viewBox=\"0 0 24 24\"\n",
              "       width=\"24px\">\n",
              "    <path d=\"M7,19H8.4L18.45,9,17,7.55,7,17.6ZM5,21V16.75L18.45,3.32a2,2,0,0,1,2.83,0l1.4,1.43a1.91,1.91,0,0,1,.58,1.4,1.91,1.91,0,0,1-.58,1.4L9.25,21ZM18.45,9,17,7.55Zm-12,3A5.31,5.31,0,0,0,4.9,8.1,5.31,5.31,0,0,0,1,6.5,5.31,5.31,0,0,0,4.9,4.9,5.31,5.31,0,0,0,6.5,1,5.31,5.31,0,0,0,8.1,4.9,5.31,5.31,0,0,0,12,6.5,5.46,5.46,0,0,0,6.5,12Z\"/>\n",
              "  </svg>\n",
              "    </button>\n",
              "    <script>\n",
              "      (() => {\n",
              "      const buttonEl =\n",
              "        document.querySelector('#id_10cd52db-2eb6-4b1c-9ad5-77c7c307f11a button.colab-df-generate');\n",
              "      buttonEl.style.display =\n",
              "        google.colab.kernel.accessAllowed ? 'block' : 'none';\n",
              "\n",
              "      buttonEl.onclick = () => {\n",
              "        google.colab.notebook.generateWithVariable('df');\n",
              "      }\n",
              "      })();\n",
              "    </script>\n",
              "  </div>\n",
              "\n",
              "    </div>\n",
              "  </div>\n"
            ],
            "application/vnd.google.colaboratory.intrinsic+json": {
              "type": "dataframe",
              "variable_name": "df"
            }
          },
          "metadata": {},
          "execution_count": 130
        }
      ]
    },
    {
      "cell_type": "code",
      "source": [
        "x=df[\"budget\"].mean()\n",
        "df[\"budget\"].fillna(x,inplace=True)"
      ],
      "metadata": {
        "colab": {
          "base_uri": "https://localhost:8080/",
          "height": 341
        },
        "id": "DNgGtU-9xFZ9",
        "outputId": "bfb978d8-0146-4177-9d74-bd902c23e276"
      },
      "execution_count": null,
      "outputs": [
        {
          "output_type": "error",
          "ename": "TypeError",
          "evalue": "Could not convert string '3000000065000000016000000060000000580000000350000005800000062000000004400000098000000520000001650000040000003000000060000000302500000500000000360000001200000001800000000295000000300000000110000000012000000001000000019000000180000002000000010000000330000005500000006000000015000000000000045000000200000000001500000000035000001900000050000000000150000002000000000440000000800000090000000038000000160000000816936304700000014000000050000000030000000007000000018000000120000002400000000007200000013000007500000350000000133650000002500000000400000000070000001700000000000500000000000000600000003100000000190000000040000000520000002800000001000000000020000001100000050000000250000005000000053000000070000002700000090000000005500000002000000002500000090000000015000005000000006000000150000000202200000001500008005000000004500000070000000350000000420000000140000000006000000000200000001750000008000000300000000028000000250000010000000021000000000270002500000055000000045000000000160000000001800000000001500000000000700000500000010500000120002500000060000000140000000600000000040000000110000001800000017000000010000000200000030000000000600000001700000004500000001500000000655000000031000000004800000003400000000050000000160000001100000008000000040000000003200000022000000150000000000000350000000450000005500000022000000250000000000320025000000038000000600000000006500000011000000300000001700000000300000001500000000500000006200000045000000001500000004600000055000000600000000450000000004500000035000000140000002300000000300000006000000115000008000000400000000450000003000000002700000011500000000630000000001000000000450007000000035000000000000000002600000008000000000034000000017080000003200000400000000500000000000013000000022000000013000000300000000070000000040000000000069000005700000008000000000000003000000042000000200000000440000003500000003000000000018000000330000002500000000250000000300000004000000004000000013000000003000000006300000090000001500000008500000000022000000001350000035000005500000000800000000250000000120000000200000004000000040000003000000026000000700000014000000000110000001150000040000000002200000020000000115000000800000120000000022000000000013000000250000002200000000002100000040000000280000000200000003004800000074000005000000000180000003000000025000000012500000027000000000000000000000200000000000000018000000220000002800000010000000022000000035000000190000001488423250000002600000140000000624408700000007000000093000004000000800000005000000400000000000000003000000000000335000000000120000000000004600000080000000000057000000000000038000000001300000014000000000000800000009000000000022000000000000250000000000000000275000030000000000031000000025530000009000000350000000004500000000150000000000025000000480000075000000040000009200000000000180000000000250000000180000000000000004500000050000000004500000000000000050400000010000007500000005500000010000000047000000270000001000000000540000000000000080000000300000005000000120000003200000003500000400000000023000000250000002000000003000000000000000000001300000026000000080000000000500000003600000060000001300000000150000000000060000005000000002962051450000002000000000600000009000005000000185000045000001700000001800000053000000000000006000000040000000080000000320000002500000000005000000000003000000025408002723903025000002479000100000032500020680005200004000000300000028838484000000878000375000170000002238813150000000277700040000000175200083972710500000014000001688000128800002000000150000002500000001365000000203300001020000040000006090000054000001226408060000003180000150000010730000000000000001140001300000100000030000000000400000000000025000000280000000006700000009000000023000000038000000450000000500000000000000000005000000140000000290000000300000004800000060000008120001000000020000000300000012000000300000082000002800000010000000000450000000160000000065000000500000000000240000045000000700000020000000014500000200000440000000000000001203000000002000000200000075000004000000001200000025000000140000006000000120000060000006500000490000003800000037055381250000012000000105000000060000000150000000150000018000000000000125000000000036000000000500000067880007000000010000006000000100000049409390004000000000500000000000000000000000000070000000000004000000009350000002700000006451801200000030000000045000003000000018000000160000001800000015000000185000001200000035000015000000220000020000003150000050000003235000025000000250000001100000011000000011500000080694827000000130000001700000009000000180000000300000001800000040000002700000001400000055000001200000700000006400000300000018000000001400000016400000300000082900003000000060000001200000380000025710001900000080000000360000040000001500000001460000014000000800000000112017519000000110000001200000008000000160000003000000028000003500000020000002280000730000005100000150000002500000004800000002200000017000000300000001200000014400000019000000060000001746964230000001600000000000000000500000001000000000015000000000500000000250000024000020000000040000000393750060000003500000001800000018000000028000002600000060000004200000000460000000100000060000000004000000025350003000000250000005400000000700000003500000027000000300000001200000018000000240000008000000013000000200000006000000132000001200000000350000000700000020000000205000000700000003000000500000006000000000023000000000120000000140000004000000000001300000005500000000005000000005500000000005500000000011600000000080000000000000016000000001700000000500000000250000000015000000300000003500000000008000000100000003000000280000001000000068000000350000000100000000450000000200000009000000032000000001000000035000000300000000450000000000016000000000000900000000165000003600000000000085000000900000000000002000000000000730000000000000750000000001600000005000000001250000000008500000000380000000090000080000000000009000000000280000009000000005000000020000000550000001500000060000000400000003000000190000000007500000050000000160000001800000030000000030000000000850000002000000030000000250000000350000000500000003500000070000000270000000050000000500000006000000019000000000001800000002500000350000000170000005700000016000000120000001500000000036000000000012000000003700000001000000001800000005000000024000000000400000001500000012000000010500000001100000006000000300000006000000000048000000600000005300000020000000700000001000000360000005000000000002000000080000000350000001000000000320000000035000000380000000002400000005000000020000000011000000000080000000600000000120000002800000030000000150000000025000000000019000000015000000270000000070000000800000003000000000250000004500000000003000000001000000280000000018000000750000000000500000001000000000600000000000000027000000200000000006500000006000000001000000001477731500000024000000000008000000006000000010000000550000008000000002500000000005000000900000002900000000670000100000000000127169530450000003500000000013000000000000007500000001300000007000000400000001300000003000000018500000500000000000060000000070000000100000000000180000000000900000000660000000710000004800000000015000001400000001400000000400000006000002300000060000200000037900012500000700000118028019500000016447361250000134400001250000210000020000007500000400000016500009100003430006000000100000039000002000000100000003600000180000010000008000000600000055000008000000310000002300000025000000750000015000002500000150000022500025000000100000030000005000000700000080000001100000055000012500004000000260000022000003000000280000050000003000002500000250000050000005000000100000000090000001300000013000000107000001900000010500000800000014000000015000000250000003500000011000000500000001900000095000000000926200004000000040000000500000000008580002000000140000004000000070000005400000012274016200000015000000100000007000000000002500000020000000013000000005000000000000001400000000028000000400000003200000000050000000000001600001500000001100000000001800000000144600000004000000004000000010000000015000000400000004000000200000003793100012000000025000000420000000600000019000000008000000049863200000001700000001700000000010100000010500000100000002800000040000000100000001000000005000000800000138000003000000026000000730000003000000072000000750000000180000000010000007000000150000009000000025000000650000000150000003000000050000000060000000200000005000000000111000320000027000000320000009000005000000045000000000000150000000150000020000003500000400000030000002135161120000025000001200000012000000130000002500003500000025000000033000000000042580001590000000110300000000000000000000000120000120000002500000002000000025000000000002000000002800000001000000000004200000000080000000000020000000400000000800000040000000380000000033000000020000000055000000140000000002500000000023000000150000008000000100000002000000012000000060000000017000000850000001100000094700011000000110000002200000016000000000002800000005000000025000000750000000300000001400000007500000002000000010000000350000020000000200000000120000000100000007000000023000000300000000650000003000000090000000000900000000040000000000900000003000000012000000002900000100000000130000012000010000002000000067200023000000100000005000000080000008045760179000000100000003000000025000000450000000000900000001500000035000003000000006000000000270000007000000070000000900000025000000005000000000440000001500000063000000250000001000000001750000070000001700000031000000420000001500000018000000000008000000113027000000650000000052000000150000009000000094500000000700000000012000000006000000000200000000000750000000370000002500000007000001500000000120000008500047000000600000000020000000018000000500000000013800000015000000025000000300000000000010000000073001500000900000006000000000035000000800000006500000003000000010000000060000004000000035000000120000000012000000001150000080000009000000002000001000000030000006000000014000000150000000900000058000003000000170000017000002500000650000070000001400000000800000002500000010500000135000000038000000021000000300000000130000000200000012000000007500000025000000120000000000455000008000000050000000014000000630000001600000007500000050000000250000600065000002500000010000000100000000020000000800000000120000000002900000001330000000150000000000660000002500000000000145300030000008000000470000008000000078667500011000000011791015000000115000000000019600000000055000000540000003900000017000000355000002910000000000012000000500000000200000004170000003000000004200000016000000040000000800000000000080000003300000000180000001500000006000000001400000090000001530000034200000012500000003100000021000000170000000002800000001100000021500000024000000600000650000002700000060000004000000300000003700000010000000800000007500000045000060000000680000007000000003200007500012000000200000011000000001884000025000000000150000000002000000024500000250000003000000160000000000000013000000070000000400000004800000043000000000055000000250000006500000000006400000035000025000020000000000068000000350000002200000001500000001800000000002300000045000000001300000045000000230000000007000000000000000400000000001600000007500000070000000000000700000007000000000290000001200000000000000060000003400000000150000001200000650000005000000017500000560000001200000900000000020000001100000000028000000500000000150000007000000000026000000080000002800000075000000170000000000015000000070000003000005000000000640000000200000000010000000006200000650000000600000060000000550000018000000075000000032000000100000000000689665001250000060000004000000054000000150000025000002000000950000450000020000030000001800000000170000004634557000006300000005000000000001000000005000000073620000019000000090000003200000002000000000000013000000350000007000000002800000032000000700000005500000019000000270000001300000020000000265000000015479051000000730000009000000000000020000000080000003500000900000250000025000000075000048310366000000050000000002270000015000000012000000150000000406000000000000020000000002300000010000000600000003000000000000001000000000025485000700000160000000000003000000000010000000013500000082722960000013300040000000000750000002800000000140000001500000023000000300000000075000000240000001800000000010000000090000000003800000031200000000023000000000047000000000000000019000000000017000000600000002400000000013000006500000750000001000000001330000000800000003700000014000000100000000000036000000005500000082000000450000004000000011000000500000002524000000000004000000000700000090000000024554001661530012000000000200000100000000000004500000150000000600000000002500000000009000000000000000000150000003600000000000034000000310000003800000011700000320000000310000002000000004000000045000000250000005500000060000000001000000007000000450000002200000000100000040000000160000006000000100000000000000040000000030000000000200000005200000640000026000000400000002300000041300000000090000001500000002500000000042000000350000000000600000020000000160000002500000060000000205364800000000000600000000120000000245000500000001500000650000090000000380000000002300000900000070000001800000777000037500000001900000000080000000000000000400000000001700000000018000000120000000080000000000018050001680000005200000023000000000000185000016000000002700000006500000100000001400000000500000300000020000009000000050000009272620600000013500000250000002100000042000008700000015000007000000001300000000400000025000000015000000008500000000250000105500000000250000020000000400000020000000000025000000065000002000000060000003000000095000000150000000046530000700000003000000000000230000020000000430000001300000000380000015000000003700000100000003100000024000000240000006000000000005000000500000002800000007000000600000001800000030000000120000000004300000070000003000000003800000000001400000600000098000000550000006500000600000014000000200000006200000060000002000000000003000000100000008300000015000000700000000250000004000000100000000000103000000340000000600000000003000000001600000044000000180000000030000002000000000000021112500600000000000250000001275000000160000000250000020000000012500000055000000003000009230001000000020000006500000014000000003400000070000000000003000000000480000000006000000000000780000800000000000250000000260000000001000040000000100000060000001500000130000000260000000400000065000009000000020000000000350000002700000022000000016000000400000200000012305523200000001700000017000000150000000700000000000090000000013000000000030000000150000500000004000000160000030000005500000003000000182105203000000025000000001600000046000000750000003000000000045000000510000001100000007600000012000000015000000000600000350000000016400000015000002410000000002500000068200000000002142000197800006500000019000000120000000500000082000006000000750000000001500000010000000030000000000003000000700000035000000350000000107200000003000000000008400000000650000004500000095000000650000000015000001000000006200006000000400000030000002500000650000350000003500000000300000000000000040000000100000000000330000001000000000120000002300000003100000300000000003500000004000000000280000000000002500000000024000000033000000850000060000000350000000000000250000000140000008000000128000000001000000030000000100000030000005000000000000158000051150000000328000001500000000000005500000636000001814462550000004500000100000000900000012000000300000024000000000750000010000000000305000000480000004000000000002200000065000000092000000800000008500000032000000800000000072000000820000003500000012300000003085000000013500000750000000170000003500000065000000750000002500000000004000000060000001500000014000000400000020000000100000001500000002500000013000000100000000670000000430000001000000009000000060000000100000004500000002600000000280000005700000008000000048000000080000000400000050000000100000000120000006500000000000030000000013000000100000035000000000000050000050000000110000003500000000000000000030000000200000001500000000002000000180000010000000214000000000000003500000030000003500000000000000000000055000000230000000108500000000600000022000000012000000000001400000000068000000087000000220000000035000000010000000400000000075000000620000000570000000001900000060000000100000000000000000000000000020000000300000004500000100000000300000000200000040000001500000000230000007000000310000000001500000007920000000001900000002900000012500006800000050000000090000000350000002500000002300000035000000110000002100000020000000060000000530000000160000000100000000250000001770000022000000000002115000000000002500000009400000050000000900000000980000000003111500027000000000017000000300000030000000001200000000040000000000002200000006500000000000530000006000000005250000001400000000000000220000000027000000000015000000200000000900000001400000000012000000057600002200000045000000080000000102000000000018000000650000240000000023000000000900001800000021000000062500000012000000011500000070000000380000001000000001600000013000000000005000000000023650000060000000250000004500000000000001800000000002686000027000000320000045000000140000000000000000000000004000000450000000000000100000010000001000000016000000130000013700000018000000680000000005000000000000000000075000004663000040000000004000000000002000000001900000080000000035124540020000000600000039000000002000000450000000050000002000000000060000000002000000002200000024000000009000000000002500000123000008000000000200000000200000000120000000800000029000000620000040000000350000000000700000000000016000000000040000000050000000150000000000031000000100000000050000001000000030000000000022500000005000001900000000000100000000000001600000000000003000000000001800020000000017000000150000000025000000700000024000000750000001100000075000003000000015000000120000008000000000009000000160000009300000001200000070000000100000000020000040000005000000000015000000000787000001900000018000000005000000000000055000000015000000005000000150000002000000070000006000000000001000000580000000750000000003500004200000037000000900000000000000200000000001500000000003000000075000000035000000030000007000000150000005700000048000000000022000000280000003400000000000001000000000100000000003500001900000004000000057000000060000000000070000000003000000032000000004000000022000000450000000000010000000000000000080000000000940000000072500029000000000030000000180000000500000003100000028000000000023000000120000002800000000450000030000000000001500000000000001000000750000001100000000150000000001000000000400000009000000000002500003500000072000000480000000000004800000000060000000180000000000750000001150000004900000010000035000000400000000000700000012500000006000000024000000920000004500000170000000001800000001400000000009000000020000000424000008100000002500006500000000000003500000000090000000550000000500000000001650000002200000040000000000085000000007500001012153000001000000016000000680000000002100000000000250000004500000150000000120000002500000038000000093000000720000006000000000000085000001500000000300000010700000092000000012000000198000002200000040000000000150000000000029000000380000000000022997992000001800000018000000120000000055000004000000003300000012000000000015000000140000000000350000000600000035000000320000001100000034400014500000005550006500000130000000014000000130000000500000018000075000000024000000001500000085000000005000000000019000000000015000001200000070000000360000002000000030000001700000000155800000000000008000000060000000350000000000000000350000000000000000100000017000000750000000000350000000045000000010000002300000000001202007140000008000000020000000000000000440000000000000012000003500000000100000000000030000000000000000059000000330000008500000001000000005000000000000000701400000000000000000000005400000012000000000000002600000055000000480000002000000003000000000006000000000004200000050000000000000250000045000000110000000430000007000000600000050000000400000010000000000000005000000060000000000001500000000110000004000000000001800000001200000000018000000001060000227826415000000900000007000000016000000139000000000000300000007500000014000000013000000500000000086000000000000027000000120000000150000000500003800000046000000800000000000000000680000002500000000000001000000010000000007000000027000000019340006000000084000000115000000000050000000000000005860000018000000001600000001560000080000000102000000000500000002500000001700000000030000000140000000100000000060000000800000000000001900000000100000013000000001000000001200000006300000035000000400001900000150000000000000000009000000072000000038000000800000050000000700000000000030000000000000001000000002500000005000025000000120000002900000002000000000000000150000002600000000000850000014000000010000000000170000004000000000480000000040000000850000000090000001200000002100000000900000000024000000000070000023000000000200000300000000000000000070000000100000003500000030000000800000000040000001500000003000000000180000002100000000153000000780000000011000000001200000001500006500000025000000033000000002261880013000000000000000800000015000000400000015000000040000000002500000001000000002500000028480000007000000000300000000004800000037000003000000035000002200000000350000000002000000001500002000000001200000001000000000180000000015000000000000000300000025000000000000000000000070000030000000003000000065000000100000000200000000180000000000000062000220000008500000000220000000145786300000280000000350000005000000009000000150000000120000000000120000002000000040000000007000000065000000000160000003500000041000000013500000001300000010000000001800000500000020000000011000000000075000000000000000011000000001000000000001750000004100000000000140000000000000500000000014000000002000000003000000009285469040000000470000001400000001700000000017000000000650000025000000006000004000000350000060000000400000019000000200000000000000000010000000002000000000000000350000002200000000000043000008500000003500002000000005500000060000000300000000000007900000001500000012500000100000000600000003500000065000000030000000009000000175000000165000000013000006000000000700000750000000000052000000400000004500000025000000110000000350000001100015000000020000000030000000001800000000000200000000003300000000000120000000000000000000253000000000000000000300000000024000000260000000000500000000000000000001800000000000000000000000030000000000000000000000000000000000000000001000000000000075000000000800000000000050000000500000007800000020000000000350000000035000000045200000270000003500000000008000006000000016400000015000001500000056000000500000002400000000000002500000000008500000003000000002000000070000000000035001595500000022000000002000000050370001000000008500000000000000001200000600000008000000012500002500502000000068000000000018000000000041000002900000005000000060000000000800000000000000003600000013000000000750000007500000001300000070000000005200000006000000200000000358663970220000006500000000000070000000000240000000260000000300000000300000000000250000002000000001700000011000000010000000006000000000000000000000000020000000150000000159601035000000005300000080000000000940000006000000012600000000760000000800000000000000275000300000000000090000000000000000000000350000000000000000000009000000120000000000000000003500000005000000000000000006000000000002200000000000190000001200000075000000007000000000003000000000000000500000012000000000000130000250000000005753520000035000000300000000001510002500000003005000000000137000000450000006000000020000000078000001400000000780000000000001300000000400000000000000001500000000950000008700000038000000150000000027500004000000001300000000035000003000000010000000000055000000540000000000026000000080000000000000000000000000030000000022000000020000000000028000000001200000065800006000000400000000000350000400000000800000000777000500000020000000000600000000021000001100000050000000600000010000000080000000000000000000000020000000410000001400000001000000120000000001700000000000200000350000000500000001500000620000002900000004000000000020000000000000018000000000012000000350000024000000040000000925000000000000320000000013550000001500000002200000010000000000000400000008500000018000000000436189800100000080000005952000052000003000000011800088476850008500000008000000035000000015000000065000003000000000001800000038000003000000610000000770000001900000090000001000000070000025000000114000000008000000500000025000000000000130000000001000000000000018000000000050000001050000050000000035000000000000230000000500000003500000000050000050000000250000001700000070000006000000030000000000060000000950000030000007000000170000001200000035000000320000004800000010000000030000000030000000000000070000000000004000000000000000000003000000000006000000015000000003200000000000400000000008000000015000000030000006000000004000000020000000800000002300000090000000800000000000001600000000000000008500000012000000200000000000390000018000006000000020000000640000000300000003500000000650000003500000011000000150000000029000000125000000020000000795000002500000015000000220000001800000001701000045000001000000000260000000530000350000000012000000014500000000000064000950000000240000002500000000086400000886000000000265000092000010000000003000000053137400400000055000000125000004390002250000000080000000031000000011520004000000000001000000002000000003500000000000006000000000900000800000002500000001600000000016000000000000003500003200000000001800000014000000000700000000800000005500000000940000006500000010000000010000001650000008000000400000007900000060000000100000000150000000002300000000042000000100000004000000004600065000000000000000107000000060000004900000000001500000000030000000000000000000455000000001000000010000001200000003000000011000000000500000001400000000000083947510001000000000004500000130000001700000005000000000850000180000001800000028000000015000000000000007000030000006000000000500000000140000002000000001100000000180000007500000030000000000001300000011356543000000000650000012500000085000000022000000039000000150000002500000030000000850000025000000500000000480000010000000060000000000000000000001150000006000000002600000025000000400000001925000000001900000001200002800000020000000450000000500000003500000003000000001000000006600000011000000005600000001200000014500000031000000400000000680000000130000006500003000000000005600000015000000000000000000000000004500000000200000003000000033000000006400000037000000700000000040000000250000002800000017000000600000001600000008000000017500000036846000000200000055000000000400000008500000000000000000000000000007500095000002750000000360000000650000000000300000002300000000350000100000000050000000000000120000000000001200000000010000005900000000000000013400000001000000050000000000010700000025000000030000000000001000000000000000800000007830000000000000000000400000000000025000000000000000007500000000000600000000020000000200000000040000000000000500000000000463878300000150000081300037169460000066500000100000070000000650000050000000000600000000000000000003000000045000000000110000000000013000000220000000110800000045000000100000000250000002100003000003000000500000000000000000335225400140000000000000050000001958450035000000250000340000000060000005000000127100000000000000000000000500000200000000095000000000003500000000000002090000000360000000000000004200000000000000000190000000111400005000000015000000000720000000003750000000000020000000000060000000020000004240000800000000150000000125000000500000001600000002500000001300000002700000001050000005000000090000000004000002700000012000000008020000000001100000000000143200000000000110000000003000000003405000000000100000080000000000000002600000000065000000025000000036000003000000000002300000000164500000600000023000000000000000000001100000000200000006000000003700000002900000074500000200000000004000000000020000000000000000000200000000004414000210000000500000000000000000145000000000000018800060000000600000000000400000000270000001500000000200000000027000000120000000260000000190000001200000000000000002970000000000150000000007500000010000000065000000500000000000070000000000003000000000014550000320000000000000850000080000000019105100000000500000000000022000000250000000000000001500000000000160000000000000000000000000000000000010000000000002500000008000000057000000600000002500000000000011500000000006500000035000000750000000000090000004000000007000000020000000030000001900000080000000000000000000002000000027000000023000000160000002000000030000000500000000000000000000012000000000025000000450000000030000000700000003100000000300000004200000001500000004000000000000200000000000000000250000060000000003500000000004700000010000075000000600000000220000001500000025000000070000500000003200000000000027000000078000020000000000000030000000218005000000000045000000100000006000000016000000500000011000000000001200000400000002000000009200000000016500000001200000060000000500000002500000070000001000000005000000300000000015500000060000000002700000000110000000650000009000000300000000000001600000000000000198855522200000000005250000000000173110000000000017200021200002450000546883000021700000000000000000002000000000000000020000025000000000000000024300030517700000000000016450003000000000500000000000000020000000000000000000000000026270000000000000000000000000000000000000000124300000025000002300000025803700000000003400000000700000376878500000000000000000000000000501977000000000000000000000700000014600000000500000000000035000000000000000000000018500015000000190000000800000000000000000000000000001200000650000200000000800000028037900000038000001150058000000013778000001900000000000747000025000007500021750000000000000000500000100000000000009000000000000000000000007500000000000700000000450000010000000180000000004783750150000400000000750000000007600000000600000000000000050000000000000005000000450000000000000000000250000000000000000900000000000600000000065000000000340000000000220000000005000000000030000000257000000000011000000090000000000000000487400000022000000000000300000080000000100000000000001000000000000070000000000300000009000000000090000001065000000000034000000018000000000500000000100000001700000000000015000000000004500000025000000000000000300000000000000000018000002200000000130000002500000006900000000000070000001100000035000000250000000100000004000000000006000000000000000000033000004000000100000001700000000300000000050000000130000000001400000000000000000000100000000370000000170000000500000000000000000000007500000005000000008000000018000000000050000000000002800000000005000000000000000000000000000003500001250000000175000000600000000000000000000000260000001300000000000000000000002000000050000000050000000010000000100000000000000000288803000891000000000000000001000000011430000052000000000000000015300000000000200000000380000000000000000000006000000000000000012000000500000000000000000000000000000001250000010000000000000200000099800000020000000000030000000100000000000000000004800000300000000000025697387000000000530000000094000000000300000000001000000000000000005000000000000002079000000000000000350000000000040000000016700000004667404246658100800000000000000000140000000000007000000050000001000000040000000060000000050000000000000500000009000000014000000000000047000000000000120000000000500000000000082562691400000000000000035000003000000000000001200000029000000007000000000000128060000800000000007800000080000000130000450000000000065000000004500000050000050000000010000000150000000000700000000800000000000000035000000260000000000400000087000006000000000000054000000800300000000000001750000033407700002000000150000000000050000000116000000700000002300000000800000000000000000010000000000000000000000010000000001500000003950000000300000000300685450000000100000001400000274400000001200000000068606000000100000000000043000000300000003000000000000001790006000000600000000000000229000280000026000000050231827000001833975025000030000000320000002000000025000000020000000150000000000000002100000000400000000112055000035000000000000000000000000105500024000000200000000050007000000002000000070000001000000008400000014000000000000002000000004200000000000040000000300000020000000000000000000000005000000033000000000000035000000200000005600000053000000014000005200000075000000012000000000009500000000000000610512100000130000000000000070000000000008250001500000000030000000000000250000000003500000035000000100000030000000000000000018500000000000000000000780000000006000000005800000000000008000000015000004000000025000000001300000003000000000000280000000000000050000000014000000000000000060000000000150000000000000100000000060000000000000005985000000680000000000138000000000000029950000500000000000000001900000000050000000004500000920000000000003000000000006000000001300000004000000065000000000000001300000000000150000000000000000075000000000000300000000000000450000000000001000000113000000450000004300000000000000000100000000000750000000026000000030000000820000000250000008800000025000000250000000011000000050000000027000000625000000200000000050000000000825000001500000000195000000000000500000000150000008500000000004000000060000000000192000025150000002000000000000000000000000001200000008800000132000000025000000800000000004500000000300000000100000000300000004000000000150000000001300000000000140600000000008000000150000000001260000003000000000035000000135000000300000000000000080000000039000000000010000000000187000000740506000007500000050000000000220000004300000045000000800000000000000000020000000000000012000000000000000000000260000000449033102600000000013200000000000000003500000088000000001400000003000000090000000250000003200000005800000020000000420000000100000070000000000000000000000000000006790000006000000050000000300000062000000003000000000005600000000190000005500000040000000032000000500000002500000070000000300000000003000000500000000400000000000000003000000001500000000000160000002000000000300000001500000060000000100000027000000001100000000350000021700000000001500000350000000016398014000000057000000350000000700000000002000000000180000000000102845230250000000050000000075000000002000000040000000000000000100000006000800000009502400000000001420000000400000017000000000006350000500000720000005000000150000000000220000000000000474700004000000000500000000001800000220000000280000002500000001000000000015000000002800000040000000000650000000000140000000045000000000100000000500000000000000150000000060000000000051800000002070000008500000000000900000000000015000000000100000000013000000180000000012000000000000000150000000000000700000004500000010000007000000060000000100000000000000000000016900000025000000000001400000030000000000000000000000000000000400000001200000025000000480000003100000004500000015000000050000000000000007500000028000000000000000030000004500000000000000080000000000250000000350000000000000002600000040000000250000000000000000000250000000000300000000000000005000001100000050000000450000000000150000004750000003766500035000004000000020000000170000006000000030000000280000003800000005500000000000050000000080000000018000000000000000054000000200000006500000130000004500000030000001200000002000000000000138000001712001500000050000000002500000002000000000053000000150000003000000000000027000000000128998670800000000350000009000000070000000475000015000050000005000000020000000015500000001800000000065000002100000000000000000004500000095000015000000010000000008000000060000000008000000005000000016017921700000000558000000600000015000000000005000000015000000000000200008000000080000000016000000012500000021000000052000000040000000120000000096000001700000900000000000000000025000000250000000320000004000000082500000000035000000200000000540000005000000750000000000008000000400000000010000000010000000000000120000042000000000000000000000001000000850000000000000000002700000000001000000050000008000000000110000000530000000009000002500000004000000000012000000000000000640000000923000500000000075000000000003300000040000007250000011000000063000000300000002160000000135000000000000055000000018000000500000000000750000000001200000050000000400000002000000430000002000000005100000000000000120000003500000080000000007000000004439832012000000000370000066214108500000230000002200000000000004000000000015000000017500000000002000000000001500000000000005000004000000058000009000000000006500000000000000020000000160000002000000009000000200000003000000001003500000018000003500000000000060000000154900040000000050000000003000000000000000000076000000400000000500000060000000110000005500000045000000018000000019000000070000000850000002000000000090000000160000001200000040000000000190000001200000000020000000200000002000000013000000200000001000000000060000000025002600000000111000000600000002000000076000000400000009000000015000000009500000000001000000002000000000001200000001490000005000000048000001200000000000000000000350000000015000001500000012000000000015000000010000000040000007500000000085000000001200000020000000250000000001500220000000000000035000000010000000100000000000026000000085000000100000000240000000168000000005000000000001200194000006500000000850000007000000005000002100000020000000004500000400000015000000700001500000000210000001100032000000019000000090000004700000012000000200000001300000030000000860000000900000000003000000000000000001000000000600000000000000000060000000001000000000002000000000000250000001700000002000000016000000050000000600000000030000000015000000000001300000013000000000015500000500000000014500000000370000000050000001100000000100000004000000030000000100000001500000000000007000000015000000994000500000000000012000000200000000700000000000070000000000008184183000000130000000006500000000002750200000000000000650000000000800110000000000016500000001200000000011000000120000000020000000200000002000000006100000015000000340000000002500000000210000000000030000000100000000000000160000005300000000040000000015000000000180000000500000000110000000250000000019610000003150000500000006079500020000000450000000000015500000260000000000000250000000000019000000001000000000250000000030000000002580000000000000002200000001100000008000000000000000004200000238000000300000005000000000150000002000000012000000016000000016000030000000040000002000000009000000000500000000300000000000850000000020000000000000010000001020000000008500000013000000008000000002500000016000100000000002000000000140000000000025000140000000450000000002500000000000000230400000009000000222400000016000000250000009000000001100000003500000001750000001500000001700000015000000085000000000002500000000000000200000000000001200000600000007000000000075000000120000002800000001200000007000000000004000000000000000000002000000000000001000000000000001400000000670000000000165000007000000060000000060000008000000025000000020000000110000001500000020000000000000000000210000000000150000000005500000039000000000003000000000085251020000001500000007000000023000000220000024000000040000000051500000160000008000000000200000000002200000000450000002200000025000000150000002200000015000000000600000002500000016000000210000005500000025000000012000000300000002750000016000000019000000150000000000003000000000080000000000000730000000000000000200000000000038000001500000010000000000042000000002700000000040000000000005000000010000000015000000017000001800000014000000250000000010000000002500000000000303500000010000000070000000045000000170000000000030000000040000000019000004000000000018000000850000002400000013000000800000091000008600000018000000015000000060000000001000000020000000000040000000075000003000000000100000000090000000007800000005000000000900000000130000004500000070000200000000015000000000200000000000019600000008000000005000000013000000002500000007500000004000000035000000830000000000150000000040000000003000000003000000000000002000000000026000000700000000001500000500000000600000002000000000250000000150000001200000025000000001000000002600000000000293000000000002000000003500000050000000030000000120000000100000000050000850000000015000000006800000200000000025000000040000000150000000070000000000035000000700000000015000000000000850000000000000004000000090000000230000008376800000003500000001000000000010000000000000000105000000200000003000000085000000150000000180000000620000000200000080000001500000000007000000018000003500000000002500000012000000165000002349352200000000120000000022500000185000000050000025000016000000020000000000040000000000000240000003000004500000000350000007000000000005800000016000000040000000002500000000000000060000000003000000370000008000000003000000003500000020000000012000000001200000000000055000000080000000038000000000000400000000000000005000000250000003000000080000000035000000070000001400000000400000007000000006000002500000003000000070000000050000002000000350000000000000002250000000000005000000000185000000060000000000000000141000000540000065000000900000046000000750000050000130000000002220000000000000000000000000090000000000500000050000000700000000015000000000005000000040000000150000006000000015000000004000000001800000007500000015000000050000000000800000001500000000089000000000000025900001030000152000050000000000000600000000000000008000000000000000000520000000110000000000004300000000000000520000004500000060000000002000000000000002400000000200000000000150000003700000065000000700000013000000000000020000000029000006500000020000000300000005000000000009364800008000000070000000000000145000000210000001500000000500000015000000350000001500000042000001182273010000000002700000080341000000002700000001300000010000000000009200000008500000008000000020000004000000045000000250000000150000000350000000250000000003800000000003700000025000000700000002200000070000000160000000003500000600000000002000000004500000011000000008000000013000000000007900080000000600000002000000040023130000000000000100000001400000000020000000450000000000000080000000270000002000000090000000065000000002500000000000046000001000000000070000000550000000200000003500000002400000025100000200000000021000000001100000002000000007500000000010061000001200000000003000000004000000000000180000000000000000150000000200000002500000055000000032000000150000002000000000028000000000000650000060000000000000000080000000000000108000000001900000006000000020000000040000000000000000000000007500000000001300000001500000000200000000370000000300000008000000012500000350000005000002500000000012000000205000000000060000000000000000000000000080000000300000004000000090000000000000020000000850000003300000003200000000400000000000055000000000006000000000000000000001500000000700000000075000000005000000100000000200000000001500000000080000000003000000350000004250000041850006000000040000000200000000320000000060000000000004167769900000000000000000200000000117155780001700000000002500000060000000300000000015000000000008000000000260000030000000000035000000600000000000000000009750000002600000001600000000000000000001120005000000000000022500400000000005000000000600000000000003800000050000000120000004000000000000010000000000003500000003000000000000010000000040000000001500000070000000007500000009000000002400000000000010000000120000000000000500000001200000000017000000002500000000072750000190000004000000190000001000000000030000000035000000000015000007000000030001800000000200000000000000900000018000000410000000000000078146652500000000008500000130000000500000000000150000000000082500000175000000016000000000000270000000000011500000000028000009500000000400000000000000000400000100000000000000070000000000810000085000000000000000000000050000000000200000000070000000600000000000000100000000200000000000050000000000364000100000000350000000018000000015000000017000000000001500000001500000001500000000002100000008000000000000004000000150000000000025000000150000000000000000000000000010000000002000000001500000000000020000000000000000000000000600000001500000000300000001750000000000000003116520000020000000015000000063000000003500000001100000000000575000000000000000420010000008000000025000008000001000000000000550000001000000000650000000106648000000000000040000000100000100000000600000000000010000001500000000000150000000000000000000050001500000000050000000750000900000001500000000008000000090000000000000000003000000015000030000000160000005000000050000000000075000000000042000000000000365000000120000000002500000000080000000000120000000000000066000003000000000000000000000000000230000000000000000002000000000038000000000003400000140000000000045000000300000004000000002000000050000000000350000001750000000002000000025000000000000000800001600000000000000000000750000001000000000000003900000020000000000020000000000018000000000010000000015000000040000000015000000000470000023000000000000001200000000020753743000000000000000000000030000000015000000000001700000000000000000001500000008550000007000002000000030000000008000000000760000015238800000035000000033000000000000240000000500000000000000016000000220000000067000000008000000400000005000000010000000000000000880005000000400000001800000085000000000000400000050000000150000000000000010000000000000200000000075070000006000000250000000506073000500000000120000000150000001850000000800000000236000000001150000000012500000400000000750000004500000009700007367000000015000000000230000000000000000000000001000000000300000000000003000000200000000400000001470000053000000000004000000000590235080000000000000000000000001000000002500000000000013000000000000000000110000006000000000000040000000800000002900000250000825000650000007620100000004000000000060000002800000000100000000000000200000000000000000000000000012000000900000020000000030000000180000004500100000001000000002500000050000000065000000040000000108936000042000000005700000000100000000000250000007000000002600000000000000250000000029000000000000002200000000000051000003500000020000000700000002500000000200000070000001000000010000000360000065000000600000000105000000210000000200000000120000000000200000000000000030000000000005800000000000000000017000015000900000000237000000800000000008500000090000000700000000075000000047000000000250000000004000000000003200000000000000009000020000000000000000000150000000030000000060000001400000000180000002000000000200000001600000000001900000080000000400000000001300000000000800015000002000000050000005000000000000000000000000200000005000000200000000000000500000000000042500015000000000000015000000010000000200000000000000972504000000000000002000000000003700000009000000000000026000000000000000000150000010800021000000000250000310000002225000018000000000000800000000000012000000000000013000000000000000000000002350000030000000001000000005200000015000000008000000000270000001400000000120000000000003000950000003000000003500000450000000000280000007000000000000700000000140000000015000000015000000000000200000002500000004800000000002000005000000005600000100000000000012000000200000000010000000000190000000520000000001000000000001700000020000000730000000016000000000000500000007000000000000070000000040000000110125200000000250000014000000400000005000000900000030000000040000260000000000050000000000032000000000027000000000000003600000015000000300000007964423730005000000165000000000000140000000000000000000330000001250000000003000000350000000060000002800000000000000550000002000000000450000060000000000000300000000000058000001500000000001000000000000000160000000000055000000000402500000000000000210000005641880015000000000000020000000000000000400000000120000004250000000000000002500000000007000000201179900000000000000000045000000020000000000005000000010000000700000000000000000000000000003800000035000000967686000980000100000003500000000150000000080000000200000000000300000000000000000000000004700000000001000000010000002000000000350000075000000003120375000000000001987650000000110000001500000001500000300000023000000200000000880000003500000000000010000000000000004000000022000001500000000000003500000026000000000005500000000030000000000000000000050000000000000009000000000000047000000110000000000200000000000000002000000000130000000000000006153120165000000000000000000130000000000000038300000000000000006800000015000000000001300000011500000000001500000000000000003000000000010022000000000000000000000001500000004000000000000000690000000310000020000000000160000000800000000150000000000117000000600000010000000000004000000032000000150000000000350000000000000000110000000000000000000047000000000450000000000690000000003500000000000000000000000002500000000035000000129028090000000440000000100000000000000007300000000000000000322000000080000000600000000005000000000000000000001200000004500000000000000000000021800000700000024000000002500000075000000000000000001000000000000000140000005000000000300000000000823258000000180000000000000020000000000000000000019000000015000000053000000001000000002000000030000000000003200000000000000000000000000002500015000000002000000000006000000007000000240000000050000000002900150000004000002750000009000000400000000035000000000120000370000000000008000000600000003000030000001000000000017500000014000000070000000000080000000850000000000003000000001200000000000800000060000000000220000000000000000038000000101500000000000000014000000020000000550000150000350000000100000000200000003800000030000220000000022000000625000000020000007600000500000000012500000400000070000150000000000000180000000000000000000000440000000000400000075000000227000000005000000220000000000020000000000000000000000058000000000015000000250000000000000000000000001200000000008700000400000000000000003000000010000000200000000000850000000050000000015400000300000002000000065000000001800000013000000050000000000013000000000000000022000000000000000002500000020000020000000002500000001000000250000000000120000000262000000010000000040000000030000000800000000800000001800000000002500000001500000026000000000000006006000000050000000250000004500000000000000000000700000000000000000000000012500000000000002500000010000000020000000300000000000000000170000000300300000001550000006500000000000100000000000019480000010000000000000120000000000000000000000350000000025000000000000000000027000000000380000001700000008000000000001200000000300000000015000000000007000000250000000002000000325000000000000000000000000004500000240000000000250000005000000000000001000000001120000000000000000007000000000000000000220000000002500000055000000000370000005000000000080000000271323000000000000000000007200000000000150000000700000000000000000000012000000000003000000042000000001000000850000000910000000000085000000000400000000000000000000004668069000110000000000000016300000065000000000000000000000100000000000000000000000070000000001119000000000000000000000000500000000000000004000000000270000000000000000002000000000000000106000000000020000000000001000000500000000000250000000400000003700000003500000000250000000046000000000000000900000013000000000000003500000000000009300001500000030000000300000000500000360000000000050000000000100000000010000000100000000000000040000000000000000000000015000000000000060000000000050000000135000000019000000050200000000000000000000004000000036000000250000005000000000300000001040000070000000000000000059229000000001000000000150000000000000000150000000130000000000023000000000800000000000800000000000000042000000320000002500000003500000320000000000000082000000000316700000000080000000006000000000000005750000000000000007347125000001500000000300000000010831173000000650000000005000000003021000000012000000000630000000150000000000000001900000000006000000000000000030000000005000000001500000040000000003000000900000004000000040000000900000001473400000000074000000150000000000001500000000000001230000040000002000000000000300000000000000000000020000000000000000000056000000000380000000000004600000000065000000000001200000001250000000000000001900000000000000000000390000000000000000068000000000000000018000000350000000003250000060000000001000000000250000097800002100000000000008500000380000000300000000000320000000000080000000320000000000000000002000000000000200000004317946800000000016000000000000200000000000000000095000000000000002000000020000006000000000390684000143505310013500000000150000000000160000000000000000300000000000005000000003200000500000000002705100000000000095000000000000000000002000000000000040000000005500000020000000020000000000000019500000030000000049900000050000000000020000000500000020000002000000000000000000000100000000000000000000000320000000000000000001000000080000000350000004250000200000000000000700000002100033710000000000000002500000000350000000000000000002100000000000000000000000004090000000300000000000200000001000000000125000000015000000000134005140000000005000000000000015000000000000000600000029026604000000120000003000000000000000000410000000000000000000011000000000000200000000100000010000000350000000000000004700000000200000000000100000000000001577494800000025000000000000000000000000000000010000000000000700000090000000070000000000038376250093000000000000003500000520000000002500000028000000005500000009000000640000000000000000047000000025000000190000000065000000700000000000027000000000078417000025000000170000001000000007000000000015500065000000200000004000000000030000005000001300000000130000000000000000900000003500000800000004500000100000001180000000000000000850000000000000010000000000004000000000500000500000000100000000000002400000000000002800000006000000011000000001000000000250000005000000016000000000038500000000080000000000000000000000016000000000250000000000000000000000200000000000022000000003000000080000015000000000002500000001000000000012500000000005000006600000000625000001700080000000500000100000002750000070000000150000000000000000617330000000002640000000000060000000000000000050000000005000000040000000000000000000000000000000000000110000000005000000000000000000000000000002400000035000000005600000000700000000000750000004000000003000000000580000014000000250000008000000350000000000050000000000000004500000035000000025000000650000000000000000002500000002000000050000000000000000120000000300000007500000030000000025000000000000000000007500000035000000017000000001300000000150000000000010000000000000000000017000000020000003600000001300000584000007500000079000000000000019100000200000000000000000000000400000002900000000080000000000000000002000000025000045000000011000000000006600000045000000640000000000000000080000000000001353676003000003062000500000000010500000001500000050000000025000000000100000000000025000000400000000003200000200000000000120000001300000000600000005000000000000000012500000100000000500000055000000100000000002361000075000000031000000000025000000000130000000001250000004520200000007700000000005000000000020000000000120000000150000005600000014500000005000000009000000030000000007500000080000000080000000013000000010000000000000000000000000100000000000000000900010000000025000000000000073000000000003700000001300000008000000000000000000000002500000000300000070000000250000004200000010000000000000006000002300000000000000035000000000020000000000000000000003100000000000000000007500000050000000170000000060000000000005800000000940000000000013000000040000000000015000000750000000400000000000005000000000000100000013000000000000150000001700000000000001000000011000000000000000000008500000030000000000000025000000000000000000085000002000000790000000000000717000000000220000043000002000000005650000000000002300000003500000080000000400000000017000000000000000000000570000002500000000000000000000000000070000000015000000000000050000000100000000000000000000000001000000012000000700000000410000000001200000000065000000000000260000000000000000000000023912000000000000479823520000000003250001000000004200000010000000000000000020000000700000004000000001200000000700000000000000000000000000000000500000000000015000000000000000075000000700000500000000110000030000000000000000250000000000000000093000000600020000000003000000026000000017000000850000002090000004500000000004500000100000000000001000000000002000000011000000000000000000000002300003000000000050000000005000000000000120000002500000000000640000000003000000000000000006600000000114001500000000000010000000000008000000500000011000000003000000000125000000000065000000000000002541276070000000000000022500000017000000000000001000000010000000700000001200000000060000000019500000001300000000005000000000010000000000044660000003500000000160000000012000003500000000350000000100000002000000005000035000000009500000000014000001246838900020500000150000040000000014000000750000145000000000000125000000002500000000000185000000000000900000040000000170000000690000000004600000001000000000001200000012000000000750000001000000000000000500000000070000000000000025000000000000021500000000020000000000095000000180000000016000000000000450000000000000000000000001000000000030000012000000000680000000000800000080000000000000100000000000000000060000000000000000012500000000001500000000065000000000000000045000000000110000000200000060000001500000003267100003000000100200000000000000000300000000000006000000000015523340000000000000000089780400000060000000220000000000000800000003000000000020000000000500000000000350000000014000000260000001800000500000003000000000000000140000001000000002500000001700000000175000000350000000003000000600000000000017000000200000000000004000000030000000007000000087000000000040000000002500000000000000650000000008500000000003200000000500000000650000120000001250000000000000000010000000005000000230000070000000000130000003800000000025000020000001400000000140000000450000001250000000001000000008000000690000010000000000002500000000696557600001820000095000000094700011000000000000001540000000000000060000001660000012000000100000000000000000000000000000039000000000030000000002000000800000008500000000000007976810000000000004450000015000000000170000000000000000000000300000000500000700000000100000000000000000000000140000020000000500000061000000000000000500000005000000195196406500000000000000450000000102000000000000000050000020000000000500000002500000004000000000000000000000015000000001000000000000000005000000001650000001700000000/ff9qCepilowshEtG2GYWwzt2bs4.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' to numeric",
          "traceback": [
            "\u001b[0;31m---------------------------------------------------------------------------\u001b[0m",
            "\u001b[0;31mTypeError\u001b[0m                                 Traceback (most recent call last)",
            "\u001b[0;32m<ipython-input-133-4b7456a982ca>\u001b[0m in \u001b[0;36m<cell line: 1>\u001b[0;34m()\u001b[0m\n\u001b[0;32m----> 1\u001b[0;31m \u001b[0mx\u001b[0m\u001b[0;34m=\u001b[0m\u001b[0mdf\u001b[0m\u001b[0;34m[\u001b[0m\u001b[0;34m\"budget\"\u001b[0m\u001b[0;34m]\u001b[0m\u001b[0;34m.\u001b[0m\u001b[0mmean\u001b[0m\u001b[0;34m(\u001b[0m\u001b[0;34m)\u001b[0m\u001b[0;34m\u001b[0m\u001b[0;34m\u001b[0m\u001b[0m\n\u001b[0m\u001b[1;32m      2\u001b[0m \u001b[0mdf\u001b[0m\u001b[0;34m[\u001b[0m\u001b[0;34m\"budget\"\u001b[0m\u001b[0;34m]\u001b[0m\u001b[0;34m.\u001b[0m\u001b[0mfillna\u001b[0m\u001b[0;34m(\u001b[0m\u001b[0mx\u001b[0m\u001b[0;34m,\u001b[0m\u001b[0minplace\u001b[0m\u001b[0;34m=\u001b[0m\u001b[0;32mTrue\u001b[0m\u001b[0;34m)\u001b[0m\u001b[0;34m\u001b[0m\u001b[0;34m\u001b[0m\u001b[0m\n",
            "\u001b[0;32m/usr/local/lib/python3.10/dist-packages/pandas/core/series.py\u001b[0m in \u001b[0;36mmean\u001b[0;34m(self, axis, skipna, numeric_only, **kwargs)\u001b[0m\n\u001b[1;32m   6223\u001b[0m         \u001b[0;34m**\u001b[0m\u001b[0mkwargs\u001b[0m\u001b[0;34m,\u001b[0m\u001b[0;34m\u001b[0m\u001b[0;34m\u001b[0m\u001b[0m\n\u001b[1;32m   6224\u001b[0m     ):\n\u001b[0;32m-> 6225\u001b[0;31m         \u001b[0;32mreturn\u001b[0m \u001b[0mNDFrame\u001b[0m\u001b[0;34m.\u001b[0m\u001b[0mmean\u001b[0m\u001b[0;34m(\u001b[0m\u001b[0mself\u001b[0m\u001b[0;34m,\u001b[0m \u001b[0maxis\u001b[0m\u001b[0;34m,\u001b[0m \u001b[0mskipna\u001b[0m\u001b[0;34m,\u001b[0m \u001b[0mnumeric_only\u001b[0m\u001b[0;34m,\u001b[0m \u001b[0;34m**\u001b[0m\u001b[0mkwargs\u001b[0m\u001b[0;34m)\u001b[0m\u001b[0;34m\u001b[0m\u001b[0;34m\u001b[0m\u001b[0m\n\u001b[0m\u001b[1;32m   6226\u001b[0m \u001b[0;34m\u001b[0m\u001b[0m\n\u001b[1;32m   6227\u001b[0m     \u001b[0;34m@\u001b[0m\u001b[0mdoc\u001b[0m\u001b[0;34m(\u001b[0m\u001b[0mmake_doc\u001b[0m\u001b[0;34m(\u001b[0m\u001b[0;34m\"median\"\u001b[0m\u001b[0;34m,\u001b[0m \u001b[0mndim\u001b[0m\u001b[0;34m=\u001b[0m\u001b[0;36m1\u001b[0m\u001b[0;34m)\u001b[0m\u001b[0;34m)\u001b[0m\u001b[0;34m\u001b[0m\u001b[0;34m\u001b[0m\u001b[0m\n",
            "\u001b[0;32m/usr/local/lib/python3.10/dist-packages/pandas/core/generic.py\u001b[0m in \u001b[0;36mmean\u001b[0;34m(self, axis, skipna, numeric_only, **kwargs)\u001b[0m\n\u001b[1;32m  11990\u001b[0m         \u001b[0;34m**\u001b[0m\u001b[0mkwargs\u001b[0m\u001b[0;34m,\u001b[0m\u001b[0;34m\u001b[0m\u001b[0;34m\u001b[0m\u001b[0m\n\u001b[1;32m  11991\u001b[0m     ) -> Series | float:\n\u001b[0;32m> 11992\u001b[0;31m         return self._stat_function(\n\u001b[0m\u001b[1;32m  11993\u001b[0m             \u001b[0;34m\"mean\"\u001b[0m\u001b[0;34m,\u001b[0m \u001b[0mnanops\u001b[0m\u001b[0;34m.\u001b[0m\u001b[0mnanmean\u001b[0m\u001b[0;34m,\u001b[0m \u001b[0maxis\u001b[0m\u001b[0;34m,\u001b[0m \u001b[0mskipna\u001b[0m\u001b[0;34m,\u001b[0m \u001b[0mnumeric_only\u001b[0m\u001b[0;34m,\u001b[0m \u001b[0;34m**\u001b[0m\u001b[0mkwargs\u001b[0m\u001b[0;34m\u001b[0m\u001b[0;34m\u001b[0m\u001b[0m\n\u001b[1;32m  11994\u001b[0m         )\n",
            "\u001b[0;32m/usr/local/lib/python3.10/dist-packages/pandas/core/generic.py\u001b[0m in \u001b[0;36m_stat_function\u001b[0;34m(self, name, func, axis, skipna, numeric_only, **kwargs)\u001b[0m\n\u001b[1;32m  11947\u001b[0m         \u001b[0mvalidate_bool_kwarg\u001b[0m\u001b[0;34m(\u001b[0m\u001b[0mskipna\u001b[0m\u001b[0;34m,\u001b[0m \u001b[0;34m\"skipna\"\u001b[0m\u001b[0;34m,\u001b[0m \u001b[0mnone_allowed\u001b[0m\u001b[0;34m=\u001b[0m\u001b[0;32mFalse\u001b[0m\u001b[0;34m)\u001b[0m\u001b[0;34m\u001b[0m\u001b[0;34m\u001b[0m\u001b[0m\n\u001b[1;32m  11948\u001b[0m \u001b[0;34m\u001b[0m\u001b[0m\n\u001b[0;32m> 11949\u001b[0;31m         return self._reduce(\n\u001b[0m\u001b[1;32m  11950\u001b[0m             \u001b[0mfunc\u001b[0m\u001b[0;34m,\u001b[0m \u001b[0mname\u001b[0m\u001b[0;34m=\u001b[0m\u001b[0mname\u001b[0m\u001b[0;34m,\u001b[0m \u001b[0maxis\u001b[0m\u001b[0;34m=\u001b[0m\u001b[0maxis\u001b[0m\u001b[0;34m,\u001b[0m \u001b[0mskipna\u001b[0m\u001b[0;34m=\u001b[0m\u001b[0mskipna\u001b[0m\u001b[0;34m,\u001b[0m \u001b[0mnumeric_only\u001b[0m\u001b[0;34m=\u001b[0m\u001b[0mnumeric_only\u001b[0m\u001b[0;34m\u001b[0m\u001b[0;34m\u001b[0m\u001b[0m\n\u001b[1;32m  11951\u001b[0m         )\n",
            "\u001b[0;32m/usr/local/lib/python3.10/dist-packages/pandas/core/series.py\u001b[0m in \u001b[0;36m_reduce\u001b[0;34m(self, op, name, axis, skipna, numeric_only, filter_type, **kwds)\u001b[0m\n\u001b[1;32m   6131\u001b[0m                     \u001b[0;34m\"with non-numeric dtypes.\"\u001b[0m\u001b[0;34m\u001b[0m\u001b[0;34m\u001b[0m\u001b[0m\n\u001b[1;32m   6132\u001b[0m                 )\n\u001b[0;32m-> 6133\u001b[0;31m             \u001b[0;32mreturn\u001b[0m \u001b[0mop\u001b[0m\u001b[0;34m(\u001b[0m\u001b[0mdelegate\u001b[0m\u001b[0;34m,\u001b[0m \u001b[0mskipna\u001b[0m\u001b[0;34m=\u001b[0m\u001b[0mskipna\u001b[0m\u001b[0;34m,\u001b[0m \u001b[0;34m**\u001b[0m\u001b[0mkwds\u001b[0m\u001b[0;34m)\u001b[0m\u001b[0;34m\u001b[0m\u001b[0;34m\u001b[0m\u001b[0m\n\u001b[0m\u001b[1;32m   6134\u001b[0m \u001b[0;34m\u001b[0m\u001b[0m\n\u001b[1;32m   6135\u001b[0m     \u001b[0;34m@\u001b[0m\u001b[0mAppender\u001b[0m\u001b[0;34m(\u001b[0m\u001b[0mmake_doc\u001b[0m\u001b[0;34m(\u001b[0m\u001b[0;34m\"any\"\u001b[0m\u001b[0;34m,\u001b[0m \u001b[0mndim\u001b[0m\u001b[0;34m=\u001b[0m\u001b[0;36m1\u001b[0m\u001b[0;34m)\u001b[0m\u001b[0;34m)\u001b[0m\u001b[0;34m\u001b[0m\u001b[0;34m\u001b[0m\u001b[0m\n",
            "\u001b[0;32m/usr/local/lib/python3.10/dist-packages/pandas/core/nanops.py\u001b[0m in \u001b[0;36mf\u001b[0;34m(values, axis, skipna, **kwds)\u001b[0m\n\u001b[1;32m    145\u001b[0m                     \u001b[0mresult\u001b[0m \u001b[0;34m=\u001b[0m \u001b[0malt\u001b[0m\u001b[0;34m(\u001b[0m\u001b[0mvalues\u001b[0m\u001b[0;34m,\u001b[0m \u001b[0maxis\u001b[0m\u001b[0;34m=\u001b[0m\u001b[0maxis\u001b[0m\u001b[0;34m,\u001b[0m \u001b[0mskipna\u001b[0m\u001b[0;34m=\u001b[0m\u001b[0mskipna\u001b[0m\u001b[0;34m,\u001b[0m \u001b[0;34m**\u001b[0m\u001b[0mkwds\u001b[0m\u001b[0;34m)\u001b[0m\u001b[0;34m\u001b[0m\u001b[0;34m\u001b[0m\u001b[0m\n\u001b[1;32m    146\u001b[0m             \u001b[0;32melse\u001b[0m\u001b[0;34m:\u001b[0m\u001b[0;34m\u001b[0m\u001b[0;34m\u001b[0m\u001b[0m\n\u001b[0;32m--> 147\u001b[0;31m                 \u001b[0mresult\u001b[0m \u001b[0;34m=\u001b[0m \u001b[0malt\u001b[0m\u001b[0;34m(\u001b[0m\u001b[0mvalues\u001b[0m\u001b[0;34m,\u001b[0m \u001b[0maxis\u001b[0m\u001b[0;34m=\u001b[0m\u001b[0maxis\u001b[0m\u001b[0;34m,\u001b[0m \u001b[0mskipna\u001b[0m\u001b[0;34m=\u001b[0m\u001b[0mskipna\u001b[0m\u001b[0;34m,\u001b[0m \u001b[0;34m**\u001b[0m\u001b[0mkwds\u001b[0m\u001b[0;34m)\u001b[0m\u001b[0;34m\u001b[0m\u001b[0;34m\u001b[0m\u001b[0m\n\u001b[0m\u001b[1;32m    148\u001b[0m \u001b[0;34m\u001b[0m\u001b[0m\n\u001b[1;32m    149\u001b[0m             \u001b[0;32mreturn\u001b[0m \u001b[0mresult\u001b[0m\u001b[0;34m\u001b[0m\u001b[0;34m\u001b[0m\u001b[0m\n",
            "\u001b[0;32m/usr/local/lib/python3.10/dist-packages/pandas/core/nanops.py\u001b[0m in \u001b[0;36mnew_func\u001b[0;34m(values, axis, skipna, mask, **kwargs)\u001b[0m\n\u001b[1;32m    402\u001b[0m             \u001b[0mmask\u001b[0m \u001b[0;34m=\u001b[0m \u001b[0misna\u001b[0m\u001b[0;34m(\u001b[0m\u001b[0mvalues\u001b[0m\u001b[0;34m)\u001b[0m\u001b[0;34m\u001b[0m\u001b[0;34m\u001b[0m\u001b[0m\n\u001b[1;32m    403\u001b[0m \u001b[0;34m\u001b[0m\u001b[0m\n\u001b[0;32m--> 404\u001b[0;31m         \u001b[0mresult\u001b[0m \u001b[0;34m=\u001b[0m \u001b[0mfunc\u001b[0m\u001b[0;34m(\u001b[0m\u001b[0mvalues\u001b[0m\u001b[0;34m,\u001b[0m \u001b[0maxis\u001b[0m\u001b[0;34m=\u001b[0m\u001b[0maxis\u001b[0m\u001b[0;34m,\u001b[0m \u001b[0mskipna\u001b[0m\u001b[0;34m=\u001b[0m\u001b[0mskipna\u001b[0m\u001b[0;34m,\u001b[0m \u001b[0mmask\u001b[0m\u001b[0;34m=\u001b[0m\u001b[0mmask\u001b[0m\u001b[0;34m,\u001b[0m \u001b[0;34m**\u001b[0m\u001b[0mkwargs\u001b[0m\u001b[0;34m)\u001b[0m\u001b[0;34m\u001b[0m\u001b[0;34m\u001b[0m\u001b[0m\n\u001b[0m\u001b[1;32m    405\u001b[0m \u001b[0;34m\u001b[0m\u001b[0m\n\u001b[1;32m    406\u001b[0m         \u001b[0;32mif\u001b[0m \u001b[0mdatetimelike\u001b[0m\u001b[0;34m:\u001b[0m\u001b[0;34m\u001b[0m\u001b[0;34m\u001b[0m\u001b[0m\n",
            "\u001b[0;32m/usr/local/lib/python3.10/dist-packages/pandas/core/nanops.py\u001b[0m in \u001b[0;36mnanmean\u001b[0;34m(values, axis, skipna, mask)\u001b[0m\n\u001b[1;32m    718\u001b[0m     \u001b[0mcount\u001b[0m \u001b[0;34m=\u001b[0m \u001b[0m_get_counts\u001b[0m\u001b[0;34m(\u001b[0m\u001b[0mvalues\u001b[0m\u001b[0;34m.\u001b[0m\u001b[0mshape\u001b[0m\u001b[0;34m,\u001b[0m \u001b[0mmask\u001b[0m\u001b[0;34m,\u001b[0m \u001b[0maxis\u001b[0m\u001b[0;34m,\u001b[0m \u001b[0mdtype\u001b[0m\u001b[0;34m=\u001b[0m\u001b[0mdtype_count\u001b[0m\u001b[0;34m)\u001b[0m\u001b[0;34m\u001b[0m\u001b[0;34m\u001b[0m\u001b[0m\n\u001b[1;32m    719\u001b[0m     \u001b[0mthe_sum\u001b[0m \u001b[0;34m=\u001b[0m \u001b[0mvalues\u001b[0m\u001b[0;34m.\u001b[0m\u001b[0msum\u001b[0m\u001b[0;34m(\u001b[0m\u001b[0maxis\u001b[0m\u001b[0;34m,\u001b[0m \u001b[0mdtype\u001b[0m\u001b[0;34m=\u001b[0m\u001b[0mdtype_sum\u001b[0m\u001b[0;34m)\u001b[0m\u001b[0;34m\u001b[0m\u001b[0;34m\u001b[0m\u001b[0m\n\u001b[0;32m--> 720\u001b[0;31m     \u001b[0mthe_sum\u001b[0m \u001b[0;34m=\u001b[0m \u001b[0m_ensure_numeric\u001b[0m\u001b[0;34m(\u001b[0m\u001b[0mthe_sum\u001b[0m\u001b[0;34m)\u001b[0m\u001b[0;34m\u001b[0m\u001b[0;34m\u001b[0m\u001b[0m\n\u001b[0m\u001b[1;32m    721\u001b[0m \u001b[0;34m\u001b[0m\u001b[0m\n\u001b[1;32m    722\u001b[0m     \u001b[0;32mif\u001b[0m \u001b[0maxis\u001b[0m \u001b[0;32mis\u001b[0m \u001b[0;32mnot\u001b[0m \u001b[0;32mNone\u001b[0m \u001b[0;32mand\u001b[0m \u001b[0mgetattr\u001b[0m\u001b[0;34m(\u001b[0m\u001b[0mthe_sum\u001b[0m\u001b[0;34m,\u001b[0m \u001b[0;34m\"ndim\"\u001b[0m\u001b[0;34m,\u001b[0m \u001b[0;32mFalse\u001b[0m\u001b[0;34m)\u001b[0m\u001b[0;34m:\u001b[0m\u001b[0;34m\u001b[0m\u001b[0;34m\u001b[0m\u001b[0m\n",
            "\u001b[0;32m/usr/local/lib/python3.10/dist-packages/pandas/core/nanops.py\u001b[0m in \u001b[0;36m_ensure_numeric\u001b[0;34m(x)\u001b[0m\n\u001b[1;32m   1691\u001b[0m         \u001b[0;32mif\u001b[0m \u001b[0misinstance\u001b[0m\u001b[0;34m(\u001b[0m\u001b[0mx\u001b[0m\u001b[0;34m,\u001b[0m \u001b[0mstr\u001b[0m\u001b[0;34m)\u001b[0m\u001b[0;34m:\u001b[0m\u001b[0;34m\u001b[0m\u001b[0;34m\u001b[0m\u001b[0m\n\u001b[1;32m   1692\u001b[0m             \u001b[0;31m# GH#44008, GH#36703 avoid casting e.g. strings to numeric\u001b[0m\u001b[0;34m\u001b[0m\u001b[0;34m\u001b[0m\u001b[0m\n\u001b[0;32m-> 1693\u001b[0;31m             \u001b[0;32mraise\u001b[0m \u001b[0mTypeError\u001b[0m\u001b[0;34m(\u001b[0m\u001b[0;34mf\"Could not convert string '{x}' to numeric\"\u001b[0m\u001b[0;34m)\u001b[0m\u001b[0;34m\u001b[0m\u001b[0;34m\u001b[0m\u001b[0m\n\u001b[0m\u001b[1;32m   1694\u001b[0m         \u001b[0;32mtry\u001b[0m\u001b[0;34m:\u001b[0m\u001b[0;34m\u001b[0m\u001b[0;34m\u001b[0m\u001b[0m\n\u001b[1;32m   1695\u001b[0m             \u001b[0mx\u001b[0m \u001b[0;34m=\u001b[0m \u001b[0mfloat\u001b[0m\u001b[0;34m(\u001b[0m\u001b[0mx\u001b[0m\u001b[0;34m)\u001b[0m\u001b[0;34m\u001b[0m\u001b[0;34m\u001b[0m\u001b[0m\n",
            "\u001b[0;31mTypeError\u001b[0m: Could not convert string '300000006500000001600000006000000058000000035000000580000006200000000440000009800000052000000165000004000000300000006000000030250000050000000036000000120000000180000000029500000030000000011000000001200000000100000001900000018000000200000001000000033000000550000000600000001500000000000004500000020000000000150000000003500000190000005000000000015000000200000000044000000080000009000000003800000016000000081693630470000001400000005000000003000000000700000001800000012000000240000000000720000001300000750000035000000013365000000250000000040000000007000000170000000000050000000000000060000000310000000019000000004000000052000000280000000100000000002000000110000005000000025000000500000005300000007000000270000009000000000550000000200000000250000009000000001500000500000000600000015000000020220000000150000800500000000450000007000000035000000042000000014000000000600000000020000000175000000800000030000000002800000025000001000000002100000000027000250000005500000004500000000016000000000180000000000150000000000070000050000001050000012000250000006000000014000000060000000004000000011000000180000001700000001000000020000003000000000060000000170000000450000000150000000065500000003100000000480000000340000000005000000016000000110000000800000004000000000320000002200000015000000000000035000000045000000550000002200000025000000000032002500000003800000060000000000650000001100000030000000170000000030000000150000000050000000620000004500000000150000000460000005..."
          ]
        }
      ]
    },
    {
      "cell_type": "code",
      "execution_count": null,
      "metadata": {
        "colab": {
          "base_uri": "https://localhost:8080/",
          "height": 315
        },
        "id": "vZzrdOwtqCfk",
        "outputId": "36b6523a-683f-4cf2-e32b-aaf56cf356cb"
      },
      "outputs": [
        {
          "ename": "TypeError",
          "evalue": "can only concatenate tuple (not \"int\") to tuple",
          "output_type": "error",
          "traceback": [
            "\u001b[0;31m---------------------------------------------------------------------------\u001b[0m",
            "\u001b[0;31mTypeError\u001b[0m                                 Traceback (most recent call last)",
            "\u001b[0;32m<ipython-input-1-ab70d0435693>\u001b[0m in \u001b[0;36m<cell line: 5>\u001b[0;34m()\u001b[0m\n\u001b[1;32m      3\u001b[0m     \u001b[0mnum\u001b[0m\u001b[0;34m=\u001b[0m\u001b[0mnum\u001b[0m\u001b[0;34m+\u001b[0m\u001b[0mi\u001b[0m\u001b[0;34m\u001b[0m\u001b[0;34m\u001b[0m\u001b[0m\n\u001b[1;32m      4\u001b[0m     \u001b[0mprint\u001b[0m\u001b[0;34m(\u001b[0m\u001b[0mnum\u001b[0m\u001b[0;34m)\u001b[0m\u001b[0;34m\u001b[0m\u001b[0;34m\u001b[0m\u001b[0m\n\u001b[0;32m----> 5\u001b[0;31m \u001b[0msum\u001b[0m\u001b[0;34m(\u001b[0m\u001b[0;36m10\u001b[0m\u001b[0;34m,\u001b[0m\u001b[0;36m20\u001b[0m\u001b[0;34m,\u001b[0m\u001b[0;36m40\u001b[0m\u001b[0;34m)\u001b[0m\u001b[0;34m\u001b[0m\u001b[0;34m\u001b[0m\u001b[0m\n\u001b[0m\u001b[1;32m      6\u001b[0m \u001b[0;34m\u001b[0m\u001b[0m\n",
            "\u001b[0;32m<ipython-input-1-ab70d0435693>\u001b[0m in \u001b[0;36msum\u001b[0;34m(*num)\u001b[0m\n\u001b[1;32m      1\u001b[0m \u001b[0;32mdef\u001b[0m \u001b[0msum\u001b[0m\u001b[0;34m(\u001b[0m\u001b[0;34m*\u001b[0m\u001b[0mnum\u001b[0m\u001b[0;34m)\u001b[0m\u001b[0;34m:\u001b[0m\u001b[0;34m\u001b[0m\u001b[0;34m\u001b[0m\u001b[0m\n\u001b[1;32m      2\u001b[0m   \u001b[0;32mfor\u001b[0m \u001b[0mi\u001b[0m \u001b[0;32min\u001b[0m \u001b[0mnum\u001b[0m\u001b[0;34m:\u001b[0m\u001b[0;34m\u001b[0m\u001b[0;34m\u001b[0m\u001b[0m\n\u001b[0;32m----> 3\u001b[0;31m     \u001b[0mnum\u001b[0m\u001b[0;34m=\u001b[0m\u001b[0mnum\u001b[0m\u001b[0;34m+\u001b[0m\u001b[0mi\u001b[0m\u001b[0;34m\u001b[0m\u001b[0;34m\u001b[0m\u001b[0m\n\u001b[0m\u001b[1;32m      4\u001b[0m     \u001b[0mprint\u001b[0m\u001b[0;34m(\u001b[0m\u001b[0mnum\u001b[0m\u001b[0;34m)\u001b[0m\u001b[0;34m\u001b[0m\u001b[0;34m\u001b[0m\u001b[0m\n\u001b[1;32m      5\u001b[0m \u001b[0msum\u001b[0m\u001b[0;34m(\u001b[0m\u001b[0;36m10\u001b[0m\u001b[0;34m,\u001b[0m\u001b[0;36m20\u001b[0m\u001b[0;34m,\u001b[0m\u001b[0;36m40\u001b[0m\u001b[0;34m)\u001b[0m\u001b[0;34m\u001b[0m\u001b[0;34m\u001b[0m\u001b[0m\n",
            "\u001b[0;31mTypeError\u001b[0m: can only concatenate tuple (not \"int\") to tuple"
          ]
        }
      ],
      "source": [
        "def sum(*num):\n",
        "  for i in num:\n",
        "    num=num+i\n",
        "    print(num)\n",
        "sum(10,20,40)\n",
        "\n"
      ]
    },
    {
      "cell_type": "markdown",
      "metadata": {
        "id": "HN3jGcWIPYxr"
      },
      "source": [
        "# function practice"
      ]
    },
    {
      "cell_type": "code",
      "execution_count": null,
      "metadata": {
        "id": "MKAtMXeUxhnq"
      },
      "outputs": [],
      "source": [
        "# ==================================="
      ]
    },
    {
      "cell_type": "code",
      "execution_count": null,
      "metadata": {
        "id": "Ee4DU-_ZPhlW"
      },
      "outputs": [],
      "source": [
        "# Exercise 1: Create a function in Python\n",
        "# Exercise 2: Create a function with variable length of arguments\n",
        "# Exercise 3: Return multiple values from a function\n",
        "# Exercise 4: Create a function with a default argument\n",
        "# Exercise 5: Create an inner function to calculate the addition in the following way\n",
        "# Exercise 6: Create a recursive function\n",
        "# Exercise 7: Assign a different name to function and call it through the new name\n",
        "# Exercise 8: Generate a Python list of all the even numbers between 4 to 30\n",
        "# Exercise 9: Find the largest item from a given list"
      ]
    },
    {
      "cell_type": "code",
      "execution_count": null,
      "metadata": {
        "colab": {
          "base_uri": "https://localhost:8080/"
        },
        "id": "99VcxmlCPkZG",
        "outputId": "60d41d5e-6e24-402f-f640-4e1412f9085b"
      },
      "outputs": [
        {
          "name": "stdout",
          "output_type": "stream",
          "text": [
            "200\n"
          ]
        }
      ],
      "source": [
        "def f1(a,b):\n",
        "  sum=a*b\n",
        "  return sum\n",
        "print(f1(10,20))"
      ]
    },
    {
      "cell_type": "code",
      "execution_count": null,
      "metadata": {
        "colab": {
          "base_uri": "https://localhost:8080/"
        },
        "id": "_jxJDlW0UGvW",
        "outputId": "1f8d79a4-42f2-4fb3-e048-bf09dd5d00a1"
      },
      "outputs": [
        {
          "data": {
            "text/plain": [
              "200"
            ]
          },
          "execution_count": 22,
          "metadata": {},
          "output_type": "execute_result"
        }
      ],
      "source": [
        "f1(10,20)"
      ]
    },
    {
      "cell_type": "code",
      "execution_count": null,
      "metadata": {
        "colab": {
          "base_uri": "https://localhost:8080/"
        },
        "id": "fgJFT7WAQRSw",
        "outputId": "6c46ad6a-ff6b-4f9d-b33c-7aae298b0edd"
      },
      "outputs": [
        {
          "name": "stdout",
          "output_type": "stream",
          "text": [
            "1\n"
          ]
        }
      ],
      "source": [
        "def f1(a,b,c,d):\n",
        "  list1=(a,b,c,d)\n",
        "  list1=min(list1)\n",
        "  return list1\n",
        "print(f1(20,39,50,1))"
      ]
    },
    {
      "cell_type": "code",
      "execution_count": null,
      "metadata": {
        "colab": {
          "background_save": true,
          "base_uri": "https://localhost:8080/"
        },
        "id": "rDbD2At4UjFT",
        "outputId": "54b4f8e2-272d-43af-a78e-973f0cc48abe"
      },
      "outputs": [
        {
          "name": "stdout",
          "output_type": "stream",
          "text": [
            "10 20 30 a s d f g "
          ]
        }
      ],
      "source": [
        "\n",
        "def var(*leng):\n",
        " for i in (leng):\n",
        "  print(i,end=\" \")\n",
        "var(10,20,30)\n",
        "var(\"a\",\"s\",\"d\",\"f\",\"g\",end=)\n",
        "\n"
      ]
    },
    {
      "cell_type": "code",
      "execution_count": null,
      "metadata": {
        "id": "e-atpk6fW7EK"
      },
      "outputs": [],
      "source": [
        "def var(**leng):\n",
        "  return"
      ]
    },
    {
      "cell_type": "code",
      "source": [],
      "metadata": {
        "id": "0G-pUl78oMRw"
      },
      "execution_count": null,
      "outputs": []
    },
    {
      "cell_type": "code",
      "source": [],
      "metadata": {
        "id": "7Py4wN0roMOP"
      },
      "execution_count": null,
      "outputs": []
    },
    {
      "cell_type": "code",
      "source": [
        "for i in range(6):\n",
        "    print(\"*\", end=\" \")\n",
        "    for j in range(4):\n",
        "        if i == 2:  # Using '==' for comparison\n",
        "            print(\"*\", end=\" \")\n",
        "    print()  # Newline after each row\n"
      ],
      "metadata": {
        "colab": {
          "base_uri": "https://localhost:8080/"
        },
        "id": "AcxWsnwaoMIC",
        "outputId": "289e916b-a594-4e20-95a9-d930dcf5fb3f"
      },
      "execution_count": null,
      "outputs": [
        {
          "output_type": "stream",
          "name": "stdout",
          "text": [
            "* \n",
            "* \n",
            "* * * * * \n",
            "* \n",
            "* \n",
            "* \n"
          ]
        }
      ]
    },
    {
      "cell_type": "code",
      "source": [
        "def my_fun(**name):\n",
        "  print(name)\n",
        "my_fun(fname=\"ram\", lname=\"rama\")\n",
        "my_fun(fname=\"rajo\",lname=\"oka\")\n",
        "\n",
        "\n"
      ],
      "metadata": {
        "colab": {
          "base_uri": "https://localhost:8080/"
        },
        "id": "cA--x3TbqAsX",
        "outputId": "e6c197bf-242e-4601-97ab-d58b4b7b6755"
      },
      "execution_count": null,
      "outputs": [
        {
          "output_type": "stream",
          "name": "stdout",
          "text": [
            "{'fname': 'ram', 'lname': 'rama'}\n",
            "{'fname': 'rajo', 'lname': 'oka'}\n"
          ]
        }
      ]
    },
    {
      "cell_type": "code",
      "source": [
        "def my_function(food):\n",
        "  for x in food:\n",
        "    print(x)\n",
        "\n",
        "fruits = [\"apple\", \"banana\", \"cherry\"]\n",
        "\n",
        "my_function(fruits)"
      ],
      "metadata": {
        "colab": {
          "base_uri": "https://localhost:8080/"
        },
        "id": "zu16YYTKzPh3",
        "outputId": "1439bb34-b2de-42d4-ce14-09a73fbf4a7c"
      },
      "execution_count": null,
      "outputs": [
        {
          "output_type": "stream",
          "name": "stdout",
          "text": [
            "apple\n",
            "banana\n",
            "cherry\n"
          ]
        }
      ]
    },
    {
      "cell_type": "code",
      "source": [
        "def num(numbers):\n",
        "  sum=0\n",
        "  for i in numbers:\n",
        "    sum=sum+i\n",
        "  return sum\n",
        "print(num((5,7,8)))\n",
        "\n"
      ],
      "metadata": {
        "id": "HIwvZNH5oL6U",
        "colab": {
          "base_uri": "https://localhost:8080/"
        },
        "outputId": "76ee2b9b-9946-47f5-fc5d-2aa83ba9c33e"
      },
      "execution_count": null,
      "outputs": [
        {
          "output_type": "stream",
          "name": "stdout",
          "text": [
            "20\n"
          ]
        }
      ]
    },
    {
      "cell_type": "code",
      "source": [
        "def mul(num):\n",
        "  sum=1\n",
        "  for i in num:\n",
        "    sum=sum*i\n",
        "  return sum\n",
        "print(mul((8,7,9,5,2,4)))"
      ],
      "metadata": {
        "colab": {
          "base_uri": "https://localhost:8080/"
        },
        "id": "gCx2u3m-_TKN",
        "outputId": "611ae53e-a5b7-41d5-8919-100665cff8c5"
      },
      "execution_count": null,
      "outputs": [
        {
          "output_type": "stream",
          "name": "stdout",
          "text": [
            "20160\n"
          ]
        }
      ]
    },
    {
      "cell_type": "code",
      "source": [
        "def rev(str):\n",
        "  rev=str[::-1]\n",
        "  print(rev)\n",
        "rev(\"lkjh68753\")"
      ],
      "metadata": {
        "id": "Qnssi4X9AM3z",
        "colab": {
          "base_uri": "https://localhost:8080/"
        },
        "outputId": "e45a7adf-5bf6-4211-f3da-2c967cf0f42c"
      },
      "execution_count": null,
      "outputs": [
        {
          "output_type": "stream",
          "name": "stdout",
          "text": [
            "35786hjkl\n"
          ]
        }
      ]
    },
    {
      "cell_type": "code",
      "source": [],
      "metadata": {
        "id": "03c2nr6RAMtq"
      },
      "execution_count": null,
      "outputs": []
    },
    {
      "cell_type": "code",
      "source": [
        "import re\n",
        "\n",
        "# Stage 1: Registration\n",
        "def register():\n",
        "    username = input(\"Enter a username (email): \")\n",
        "    if not re.match(r\"[a-zA-Z][a-zA-Z0-9]*@[a-zA-Z0-9]+\\.[a-zA-Z0-9]+\", username):\n",
        "        print(\"Invalid username. Please follow the format: example@gmail.com\")\n",
        "        return\n",
        "\n",
        "    password = input(\"Enter a password (5-16 characters, 1 special, 1 digit, 1 uppercase, 1 lowercase): \")\n",
        "    if not re.match(r\"^(?=.*[a-z])(?=.*[A-Z])(?=.*\\d)(?=.*[@$!%*#?&])[A-Za-z\\d@$!%*#?&]{5,16}$\", password):\n",
        "        print(\"Invalid password. Please follow the format: 1 special, 1 digit, 1 uppercase, 1 lowercase\")\n",
        "        return\n",
        "\n",
        "    # Store data in a file\n",
        "    with open(\"users.txt\", \"a\") as f:\n",
        "        f.write(f\"{username}:{password}\\n\")\n",
        "    print(\"Registration successful!\")\n",
        "\n",
        "# Stage 2: Login\n",
        "def login():\n",
        "    username = input(\"Enter your username: \")\n",
        "    password = input(\"Enter your password: \")\n",
        "\n",
        "    with open(\"users.txt\", \"r\") as f:\n",
        "        for line in f:\n",
        "            stored_username, stored_password = line.strip().split(\":\")\n",
        "            if username == stored_username:\n",
        "                if password == stored_password:\n",
        "                    print(\"Login successful!\")\n",
        "                    return\n",
        "                else:\n",
        "                    print(\"Incorrect password. Forgot password?\")\n",
        "                    forget_password(username)\n",
        "                    return\n",
        "        print(\"Username not found. Please register!\")\n",
        "\n",
        "# Stage 3: Forgot password\n",
        "def forget_password(username):\n",
        "    with open(\"users.txt\", \"r\") as f:\n",
        "        for line in f:\n",
        "            stored_username, stored_password = line.strip().split(\":\")\n",
        "            if username == stored_username:\n",
        "                print(f\"Your password is: {stored_password}\")\n",
        "                return\n",
        "    print(\"Username not found. Please register!\")\n",
        "\n",
        "# Main program\n",
        "while True:\n",
        "    print(\"1. Register\")\n",
        "    print(\"2. Login\")\n",
        "    choice = input(\"Enter your choice: \")\n",
        "    if choice == \"1\":\n",
        "        register()\n",
        "    elif choice == \"2\":\n",
        "        login()\n",
        "    else:\n",
        "        print(\"Invalid choice. Please try again!\")"
      ],
      "metadata": {
        "colab": {
          "base_uri": "https://localhost:8080/",
          "height": 599
        },
        "id": "GkPdOrsJAMjP",
        "outputId": "cfa4d3ed-2a7e-4561-a163-3bed3ad837a4"
      },
      "execution_count": null,
      "outputs": [
        {
          "output_type": "stream",
          "name": "stdout",
          "text": [
            "1. Register\n",
            "2. Login\n",
            "Enter your choice: 2\n",
            "Enter your username: balraju@gmail.com\n",
            "Enter your password: Balraju@234\n",
            "Login successful!\n",
            "1. Register\n",
            "2. Login\n",
            "Enter your choice: 2\n",
            "Enter your username: asdfg@gmail.com\n",
            "Enter your password: Sdfg@134\n",
            "Username not found. Please register!\n",
            "1. Register\n",
            "2. Login\n"
          ]
        },
        {
          "output_type": "error",
          "ename": "KeyboardInterrupt",
          "evalue": "Interrupted by user",
          "traceback": [
            "\u001b[0;31m---------------------------------------------------------------------------\u001b[0m",
            "\u001b[0;31mKeyboardInterrupt\u001b[0m                         Traceback (most recent call last)",
            "\u001b[0;32m<ipython-input-6-97610f0f8dab>\u001b[0m in \u001b[0;36m<cell line: 49>\u001b[0;34m()\u001b[0m\n\u001b[1;32m     50\u001b[0m     \u001b[0mprint\u001b[0m\u001b[0;34m(\u001b[0m\u001b[0;34m\"1. Register\"\u001b[0m\u001b[0;34m)\u001b[0m\u001b[0;34m\u001b[0m\u001b[0;34m\u001b[0m\u001b[0m\n\u001b[1;32m     51\u001b[0m     \u001b[0mprint\u001b[0m\u001b[0;34m(\u001b[0m\u001b[0;34m\"2. Login\"\u001b[0m\u001b[0;34m)\u001b[0m\u001b[0;34m\u001b[0m\u001b[0;34m\u001b[0m\u001b[0m\n\u001b[0;32m---> 52\u001b[0;31m     \u001b[0mchoice\u001b[0m \u001b[0;34m=\u001b[0m \u001b[0minput\u001b[0m\u001b[0;34m(\u001b[0m\u001b[0;34m\"Enter your choice: \"\u001b[0m\u001b[0;34m)\u001b[0m\u001b[0;34m\u001b[0m\u001b[0;34m\u001b[0m\u001b[0m\n\u001b[0m\u001b[1;32m     53\u001b[0m     \u001b[0;32mif\u001b[0m \u001b[0mchoice\u001b[0m \u001b[0;34m==\u001b[0m \u001b[0;34m\"1\"\u001b[0m\u001b[0;34m:\u001b[0m\u001b[0;34m\u001b[0m\u001b[0;34m\u001b[0m\u001b[0m\n\u001b[1;32m     54\u001b[0m         \u001b[0mregister\u001b[0m\u001b[0;34m(\u001b[0m\u001b[0;34m)\u001b[0m\u001b[0;34m\u001b[0m\u001b[0;34m\u001b[0m\u001b[0m\n",
            "\u001b[0;32m/usr/local/lib/python3.10/dist-packages/ipykernel/kernelbase.py\u001b[0m in \u001b[0;36mraw_input\u001b[0;34m(self, prompt)\u001b[0m\n\u001b[1;32m    849\u001b[0m                 \u001b[0;34m\"raw_input was called, but this frontend does not support input requests.\"\u001b[0m\u001b[0;34m\u001b[0m\u001b[0;34m\u001b[0m\u001b[0m\n\u001b[1;32m    850\u001b[0m             )\n\u001b[0;32m--> 851\u001b[0;31m         return self._input_request(str(prompt),\n\u001b[0m\u001b[1;32m    852\u001b[0m             \u001b[0mself\u001b[0m\u001b[0;34m.\u001b[0m\u001b[0m_parent_ident\u001b[0m\u001b[0;34m,\u001b[0m\u001b[0;34m\u001b[0m\u001b[0;34m\u001b[0m\u001b[0m\n\u001b[1;32m    853\u001b[0m             \u001b[0mself\u001b[0m\u001b[0;34m.\u001b[0m\u001b[0m_parent_header\u001b[0m\u001b[0;34m,\u001b[0m\u001b[0;34m\u001b[0m\u001b[0;34m\u001b[0m\u001b[0m\n",
            "\u001b[0;32m/usr/local/lib/python3.10/dist-packages/ipykernel/kernelbase.py\u001b[0m in \u001b[0;36m_input_request\u001b[0;34m(self, prompt, ident, parent, password)\u001b[0m\n\u001b[1;32m    893\u001b[0m             \u001b[0;32mexcept\u001b[0m \u001b[0mKeyboardInterrupt\u001b[0m\u001b[0;34m:\u001b[0m\u001b[0;34m\u001b[0m\u001b[0;34m\u001b[0m\u001b[0m\n\u001b[1;32m    894\u001b[0m                 \u001b[0;31m# re-raise KeyboardInterrupt, to truncate traceback\u001b[0m\u001b[0;34m\u001b[0m\u001b[0;34m\u001b[0m\u001b[0m\n\u001b[0;32m--> 895\u001b[0;31m                 \u001b[0;32mraise\u001b[0m \u001b[0mKeyboardInterrupt\u001b[0m\u001b[0;34m(\u001b[0m\u001b[0;34m\"Interrupted by user\"\u001b[0m\u001b[0;34m)\u001b[0m \u001b[0;32mfrom\u001b[0m \u001b[0;32mNone\u001b[0m\u001b[0;34m\u001b[0m\u001b[0;34m\u001b[0m\u001b[0m\n\u001b[0m\u001b[1;32m    896\u001b[0m             \u001b[0;32mexcept\u001b[0m \u001b[0mException\u001b[0m \u001b[0;32mas\u001b[0m \u001b[0me\u001b[0m\u001b[0;34m:\u001b[0m\u001b[0;34m\u001b[0m\u001b[0;34m\u001b[0m\u001b[0m\n\u001b[1;32m    897\u001b[0m                 \u001b[0mself\u001b[0m\u001b[0;34m.\u001b[0m\u001b[0mlog\u001b[0m\u001b[0;34m.\u001b[0m\u001b[0mwarning\u001b[0m\u001b[0;34m(\u001b[0m\u001b[0;34m\"Invalid Message:\"\u001b[0m\u001b[0;34m,\u001b[0m \u001b[0mexc_info\u001b[0m\u001b[0;34m=\u001b[0m\u001b[0;32mTrue\u001b[0m\u001b[0;34m)\u001b[0m\u001b[0;34m\u001b[0m\u001b[0;34m\u001b[0m\u001b[0m\n",
            "\u001b[0;31mKeyboardInterrupt\u001b[0m: Interrupted by user"
          ]
        }
      ]
    },
    {
      "cell_type": "code",
      "source": [
        "# Stage 1: Registration\n",
        "def register():\n",
        "    username = input(\"Enter a username (email): \")\n",
        "    if \"@\" not in username or \".\" not in username:\n",
        "        print(\"Invalid username. Please follow the format: example@gmail.com\")\n",
        "        return\n",
        "\n",
        "    parts = username.split(\"@\")\n",
        "    if len(parts) != 2:\n",
        "        print(\"Invalid username. Please follow the format: example@gmail.com\")\n",
        "        return\n",
        "\n",
        "    local_part, domain = parts\n",
        "    if len(local_part) < 1 or len(domain) < 3:\n",
        "        print(\"Invalid username. Please follow the format: example@gmail.com\")\n",
        "        return\n",
        "\n",
        "    password = input(\"Enter a password (5-16 characters, 1 special, 1 digit, 1 uppercase, 1 lowercase): \")\n",
        "    if len(password) < 5 or len(password) > 16:\n",
        "        print(\"Invalid password. Please follow the format: 5-16 characters\")\n",
        "        return\n",
        "\n",
        "    has_uppercase = False\n",
        "    has_lowercase = False\n",
        "    has_digit = False\n",
        "    has_special = False\n",
        "    for char in password:\n",
        "        if char.isupper():\n",
        "            has_uppercase = True\n",
        "        elif char.islower():\n",
        "            has_lowercase = True\n",
        "        elif char.isdigit():\n",
        "            has_digit = True\n",
        "        elif not char.isalnum():\n",
        "            has_special = True\n",
        "\n",
        "    if not (has_uppercase and has_lowercase and has_digit and has_special):\n",
        "        print(\"Invalid password. Please follow the format: 1 special, 1 digit, 1 uppercase, 1 lowercase\")\n",
        "        return\n",
        "\n",
        "    # Store data in a file\n",
        "    with open(\"users.txt\", \"a\") as f:\n",
        "        f.write(f\"{username}:{password}\\n\")\n",
        "    print(\"Registration successful!\")\n",
        "\n",
        "# Stage 2: Login\n",
        "def login():\n",
        "    username = input(\"Enter your username: \")\n",
        "    password = input(\"Enter your password: \")\n",
        "\n",
        "    with open(\"users.txt\", \"r\") as f:\n",
        "        for line in f:\n",
        "            stored_username, stored_password = line.strip().split(\":\")\n",
        "            if username == stored_username:\n",
        "                if password == stored_password:\n",
        "                    print(\"Login successful!\")\n",
        "                    return\n",
        "                else:\n",
        "                    print(\"Incorrect password. Forgot password?\")\n",
        "                    forget_password(username)\n",
        "                    return\n",
        "        print(\"Username not found. Please register!\")\n",
        "\n",
        "# Stage 3: Forgot password\n",
        "def forget_password(username):\n",
        "    with open(\"users.txt\", \"r\") as f:\n",
        "        for line in f:\n",
        "            stored_username, stored_password = line.strip().split(\":\")\n",
        "            if username == stored_username:\n",
        "                print(f\"Your password is: {stored_password}\")\n",
        "                return\n",
        "    print(\"Username not found. Please register!\")\n",
        "\n",
        "# Main program\n",
        "while True:\n",
        "    print(\"1. Register\")\n",
        "    print(\"2. Login\")\n",
        "    choice = input(\"Enter your choice: \")\n",
        "    if choice == \"1\":\n",
        "        register()\n",
        "    elif choice == \"2\":\n",
        "        login()\n",
        "    else:\n",
        "        print(\"Invalid choice. Please try again!\")"
      ],
      "metadata": {
        "id": "fUSrLryKG-GT"
      },
      "execution_count": null,
      "outputs": []
    },
    {
      "cell_type": "code",
      "source": [
        "import re\n",
        "def register():\n",
        "    username = input(\"Enter a username (email): \")\n",
        "    if not re.match(r\"[a-zA-Z][a-zA-Z0-9]*@[a-zA-Z]+\\.[a-zA-Z]+\", username):\n",
        "        print(\"Invalid username. Please follow the format: example@gmail.com\")\n",
        "        return\n",
        "\n",
        "    password = input(\"Enter a password (5-16 characters, 1 special, 1 digit, 1 uppercase, 1 lowercase): \")\n",
        "    if not re.match(r\"^(?=.*[a-z])(?=.*[A-Z])(?=.*\\d)(?=.*[@$!%*#?&])[A-Za-z\\d@$!%*#?&]{5,16}$\", password):\n",
        "        print(\"Invalid password. Please follow the format: 1 special, 1 digit, 1 uppercase, 1 lowercase\")\n",
        "        return\n",
        "register()\n",
        "\n"
      ],
      "metadata": {
        "colab": {
          "base_uri": "https://localhost:8080/"
        },
        "id": "iiD2QdSgQ2vv",
        "outputId": "fecb8780-16ed-45ae-e605-69921193d1d4"
      },
      "execution_count": null,
      "outputs": [
        {
          "name": "stdout",
          "output_type": "stream",
          "text": [
            "Enter a username (email): balraju@gmail.com\n",
            "Enter a password (5-16 characters, 1 special, 1 digit, 1 uppercase, 1 lowercase): Balraju@234\n"
          ]
        }
      ]
    },
    {
      "cell_type": "code",
      "source": [
        "Balr"
      ],
      "metadata": {
        "id": "yo3xj1EBQ_Js"
      },
      "execution_count": null,
      "outputs": []
    }
  ],
  "metadata": {
    "colab": {
      "provenance": [],
      "include_colab_link": true
    },
    "kernelspec": {
      "display_name": "Python 3",
      "name": "python3"
    },
    "language_info": {
      "name": "python"
    }
  },
  "nbformat": 4,
  "nbformat_minor": 0
}